{
 "cells": [
  {
   "cell_type": "markdown",
   "metadata": {},
   "source": [
    "## Replication: When to use and when not to use BBR: An empirical analysis and evaluation study"
   ],
   "id": "79d94049-86b4-473e-a430-a284dd8789db"
  },
  {
   "cell_type": "markdown",
   "metadata": {},
   "source": [
    "### Configure environment"
   ],
   "id": "3d940a6f-b476-41c9-a2d8-48391a5240d2"
  },
  {
   "cell_type": "code",
   "execution_count": null,
   "metadata": {},
   "outputs": [],
   "source": [
    "from fabrictestbed_extensions.fablib.fablib import FablibManager as fablib_manager\n",
    "fablib = fablib_manager() \n",
    "conf = fablib.show_config()"
   ],
   "id": "f9ff582c-ab4f-4b4f-9cd6-52c1c0899017"
  },
  {
   "cell_type": "markdown",
   "metadata": {},
   "source": [
    "### Define configuration for this experiment"
   ],
   "id": "b85cacad-9cea-4e11-bc50-aca40de2a529"
  },
  {
   "cell_type": "code",
   "execution_count": null,
   "metadata": {},
   "outputs": [],
   "source": [
    "slice_name=\"re-when-to-use-bbr-\" + fablib.get_bastion_username()\n",
    "\n",
    "# use default_ubuntu_22 for 5.15 kernel, default_ubuntu_18 for 4.15 kernel, default_ubuntu_20 for BBRv2\n",
    "image = 'default_ubuntu_22' \n",
    "\n",
    "node_conf = [\n",
    " {'name': \"h1\",  'cores': 4, 'ram': 16, 'disk': 500, 'image': image, 'packages': ['iperf3']}, \n",
    " {'name': \"h2\",  'cores': 4, 'ram': 16, 'disk': 10, 'image': image, 'packages': ['iperf3']}, \n",
    " {'name': \"h3\",  'cores': 4, 'ram': 16, 'disk': 10, 'image': image, 'packages': ['iperf3']}, \n",
    " {'name': \"tbf\", 'cores': 4, 'ram': 16, 'disk': 10, 'image': image, 'packages': []} \n",
    "]\n",
    "net_conf = [\n",
    " {\"name\": \"link1\", \"subnet\": \"10.10.1.0/24\", \"nodes\": [{\"name\": \"tbf\",   \"addr\": \"10.10.1.10\"}, {\"name\": \"h1\", \"addr\": \"10.10.1.1\"}]},\n",
    " {\"name\": \"link2\", \"subnet\": \"10.10.2.0/24\", \"nodes\": [{\"name\": \"tbf\",   \"addr\": \"10.10.2.10\"}, {\"name\": \"h2\", \"addr\": \"10.10.2.1\"}]},\n",
    " {\"name\": \"link3\", \"subnet\": \"10.10.3.0/24\", \"nodes\": [{\"name\": \"tbf\",   \"addr\": \"10.10.3.10\"}, {\"name\": \"h3\", \"addr\": \"10.10.3.1\"}]}\n",
    "]\n",
    "route_conf = [\n",
    " {\"addr\": \"10.10.3.0/24\", \"gw\": \"10.10.1.10\", \"nodes\": [\"h1\"]}, \n",
    " {\"addr\": \"10.10.3.0/24\", \"gw\": \"10.10.2.10\", \"nodes\": [\"h2\"]},  \n",
    " {\"addr\": \"10.10.1.0/24\", \"gw\": \"10.10.3.10\", \"nodes\": [\"h3\"]},  \n",
    " {\"addr\": \"10.10.2.0/24\", \"gw\": \"10.10.3.10\", \"nodes\": [\"h3\"]}\n",
    "]\n",
    "exp_conf = {'cores': sum([ n['cores'] for n in node_conf]), 'nic': sum([len(n['nodes']) for n in net_conf]) }"
   ],
   "id": "19854994-9e3b-4431-8ea9-b6e2e8b12647"
  },
  {
   "cell_type": "markdown",
   "metadata": {},
   "source": [
    "### Reserve resources\n",
    "\n",
    "Now, we are ready to reserve resources!"
   ],
   "id": "2161a6ca-3e68-4171-9454-8336839bfda3"
  },
  {
   "cell_type": "markdown",
   "metadata": {},
   "source": [
    "First, make sure you don’t already have a slice with this name:"
   ],
   "id": "be1c8bea-558f-4fb6-8fc0-03704ab625dc"
  },
  {
   "cell_type": "code",
   "execution_count": null,
   "metadata": {},
   "outputs": [],
   "source": [
    "try:\n",
    "    slice = fablib.get_slice(slice_name)\n",
    "    print(\"You already have a slice by this name!\")\n",
    "    print(\"If you previously reserved resources, skip to the 'log in to resources' section.\")\n",
    "except:\n",
    "    print(\"You don't have a slice named %s yet.\" % slice_name)\n",
    "    print(\"Continue to the next step to make one.\")\n",
    "    slice = fablib.new_slice(name=slice_name)"
   ],
   "id": "37f6bfa4-424b-41d0-9fed-d1d5148e6bfb"
  },
  {
   "cell_type": "markdown",
   "metadata": {},
   "source": [
    "We will select a random site that has sufficient resources for our experiment:"
   ],
   "id": "cf095a4b-0e94-4aba-a437-305b53a11ffc"
  },
  {
   "cell_type": "code",
   "execution_count": null,
   "metadata": {},
   "outputs": [],
   "source": [
    "while True:\n",
    "    site_name = fablib.get_random_site()\n",
    "    if ( (fablib.resources.get_core_available(site_name) > 1.2*exp_conf['cores']) and\n",
    "        (fablib.resources.get_component_available(site_name, 'SharedNIC-ConnectX-6') > 1.2**exp_conf['nic']) ):\n",
    "        break\n",
    "\n",
    "fablib.show_site(site_name)"
   ],
   "id": "cd402e95-6e33-43f4-9aed-11658b7de73f"
  },
  {
   "cell_type": "markdown",
   "metadata": {},
   "source": [
    "Then we will add hosts and network segments:"
   ],
   "id": "0bedc7f2-032b-4c51-999e-76da1df8eed7"
  },
  {
   "cell_type": "code",
   "execution_count": null,
   "metadata": {},
   "outputs": [],
   "source": [
    "# this cell sets up the nodes\n",
    "for n in node_conf:\n",
    "    slice.add_node(name=n['name'], site=site_name, \n",
    "                   cores=n['cores'], \n",
    "                   ram=n['ram'], \n",
    "                   disk=n['disk'], \n",
    "                   image=n['image'])"
   ],
   "id": "4a46721e-db3e-4e4e-befe-8b3d0a9238ee"
  },
  {
   "cell_type": "code",
   "execution_count": null,
   "metadata": {},
   "outputs": [],
   "source": [
    "# this cell sets up the network segments\n",
    "for n in net_conf:\n",
    "    ifaces = [slice.get_node(node[\"name\"]).add_component(model=\"NIC_Basic\", \n",
    "                                                 name=n[\"name\"]).get_interfaces()[0] for node in n['nodes'] ]\n",
    "    slice.add_l2network(name=n[\"name\"], type='L2Bridge', interfaces=ifaces)"
   ],
   "id": "a2e4c2c6-800e-4297-903a-a2533a9c8b63"
  },
  {
   "cell_type": "markdown",
   "metadata": {},
   "source": [
    "The following cell submits our request to the FABRIC site. The output of this cell will update automatically as the status of our request changes.\n",
    "\n",
    "-   While it is being prepared, the “State” of the slice will appear as “Configuring”.\n",
    "-   When it is ready, the “State” of the slice will change to “StableOK”.\n",
    "\n",
    "You may prefer to walk away and come back in a few minutes (for simple slices) or a few tens of minutes (for more complicated slices with many resources)."
   ],
   "id": "3da829eb-5d03-4db9-a8b8-5e8a7dacfb48"
  },
  {
   "cell_type": "code",
   "execution_count": null,
   "metadata": {},
   "outputs": [],
   "source": [
    "slice.submit()"
   ],
   "id": "d840174e-0e6b-4694-8be0-22bd311f0fd0"
  },
  {
   "cell_type": "code",
   "execution_count": null,
   "metadata": {},
   "outputs": [],
   "source": [
    "slice.get_state()\n",
    "slice.wait_ssh(progress=True)"
   ],
   "id": "74bc8605-b019-4278-896b-91cd42b7e9ac"
  },
  {
   "cell_type": "markdown",
   "metadata": {},
   "source": [
    "### Extend slice for one week"
   ],
   "id": "dd0a5a3b-3780-4195-9efe-8afa5682e174"
  },
  {
   "cell_type": "code",
   "execution_count": null,
   "metadata": {},
   "outputs": [],
   "source": [
    "from datetime import datetime\n",
    "from datetime import timezone\n",
    "from datetime import timedelta\n",
    "\n",
    "# Set end date to 7 days from now\n",
    "end_date = (datetime.now(timezone.utc) + timedelta(days=7)).strftime(\"%Y-%m-%d %H:%M:%S %z\")\n",
    "slice.renew(end_date)"
   ],
   "id": "48f36dc4-8919-4969-bb01-ebf02ae132b2"
  },
  {
   "cell_type": "code",
   "execution_count": null,
   "metadata": {},
   "outputs": [],
   "source": [
    "slice.update()\n",
    "_ = slice.show()"
   ],
   "id": "5f001df3-202d-4605-ad2f-f7877523e42d"
  },
  {
   "cell_type": "markdown",
   "metadata": {},
   "source": [
    "### Configure resources\n",
    "\n",
    "Next, we will configure the resources so they are ready to use."
   ],
   "id": "d7876a7d-830a-4c62-82f9-27412dceb911"
  },
  {
   "cell_type": "code",
   "execution_count": null,
   "metadata": {},
   "outputs": [],
   "source": [
    "slice = fablib.get_slice(name=slice_name)"
   ],
   "id": "5ec343cc-a85e-473c-8e63-8f77ab072d27"
  },
  {
   "cell_type": "code",
   "execution_count": null,
   "metadata": {},
   "outputs": [],
   "source": [
    "# install packages\n",
    "# this will take a while and will run in background while you do other steps\n",
    "for n in node_conf:\n",
    "    if len(n['packages']):\n",
    "        node = slice.get_node(n['name'])\n",
    "        pkg = \" \".join(n['packages'])\n",
    "        node.execute_thread(\"sudo apt update; sudo apt -y install %s\" % pkg)"
   ],
   "id": "217412d4-db5e-4972-a616-7dfb30487232"
  },
  {
   "cell_type": "code",
   "execution_count": null,
   "metadata": {},
   "outputs": [],
   "source": [
    "# bring interfaces up and either assign an address (if there is one) or flush address\n",
    "from ipaddress import ip_address, IPv4Address, IPv4Network\n",
    "\n",
    "for net in net_conf:\n",
    "    for n in net['nodes']:\n",
    "        if_name = n['name'] + '-' + net['name'] + '-p1'\n",
    "        iface = slice.get_interface(if_name)\n",
    "        iface.ip_link_up()\n",
    "        if n['addr']:\n",
    "            iface.ip_addr_add(addr=n['addr'], subnet=IPv4Network(net['subnet']))\n",
    "        else:\n",
    "            iface.get_node().execute(\"sudo ip addr flush dev %s\"  % iface.get_device_name())"
   ],
   "id": "c6c10696-bfe8-461c-a9e3-ef3a9a470f61"
  },
  {
   "cell_type": "code",
   "execution_count": null,
   "metadata": {},
   "outputs": [],
   "source": [
    "# prepare a \"hosts\" file that has names and addresses of every node\n",
    "hosts_txt = [ \"%s\\t%s\" % ( n['addr'], n['name'] ) for net in net_conf  for n in net['nodes'] if type(n) is dict and n['addr']]\n",
    "for n in slice.get_nodes():\n",
    "    for h in hosts_txt:\n",
    "        n.execute(\"echo %s | sudo tee -a /etc/hosts\" % h)"
   ],
   "id": "85d526a8-9b5c-46af-8c92-f116e61dd696"
  },
  {
   "cell_type": "code",
   "execution_count": null,
   "metadata": {},
   "outputs": [],
   "source": [
    "# enable IPv4 forwarding on all nodes\n",
    "for n in slice.get_nodes():\n",
    "    n.execute(\"sudo sysctl -w net.ipv4.ip_forward=1\")"
   ],
   "id": "1854f224-fe93-4d32-9cdc-e2bad5d9eedf"
  },
  {
   "cell_type": "code",
   "execution_count": null,
   "metadata": {},
   "outputs": [],
   "source": [
    "# set up static routes\n",
    "for rt in route_conf:\n",
    "    for n in rt['nodes']:\n",
    "        slice.get_node(name=n).ip_route_add(subnet=IPv4Network(rt['addr']), gateway=rt['gw'])"
   ],
   "id": "bd0f7ef9-3447-474e-844e-442e981d54a5"
  },
  {
   "cell_type": "markdown",
   "metadata": {},
   "source": [
    "### Extra configuration for this experiment"
   ],
   "id": "2af1d618-8401-4303-aedb-992aa193da9d"
  },
  {
   "cell_type": "code",
   "execution_count": null,
   "metadata": {},
   "outputs": [],
   "source": [
    "# set socket read and write buffer on all endpoints to larger value\n",
    "for node in slice.get_nodes():\n",
    "    node.execute(\"sudo sysctl -w net.core.rmem_default=2147483647\")\n",
    "    node.execute(\"sudo sysctl -w net.core.wmem_default=2147483647\")\n",
    "    node.execute(\"sudo sysctl -w net.core.rmem_max=2147483647\")\n",
    "    node.execute(\"sudo sysctl -w net.core.wmem_max=2147483647\")"
   ],
   "id": "9e9f8779-6720-4824-87b3-74f737575141"
  },
  {
   "cell_type": "markdown",
   "metadata": {},
   "source": [
    "### Validate base network\n",
    "\n",
    "Before we run any underlying experiment, we should check the “base” network - before adding any emulated delay or rate limiting - and make sure that it will not be a limiting factor in the experiment."
   ],
   "id": "2f08cd1e-0cab-4c93-9353-2a7dfe2cdbf7"
  },
  {
   "cell_type": "code",
   "execution_count": null,
   "metadata": {},
   "outputs": [],
   "source": [
    "# check base delay\n",
    "slice.get_node(\"h1\").execute(\"ping -c 5 h3\")"
   ],
   "id": "852a0855-f301-48e2-becf-c6cd7f86f85c"
  },
  {
   "cell_type": "code",
   "execution_count": null,
   "metadata": {},
   "outputs": [],
   "source": [
    "# check base capacity (by sending 10 parallel flows, look at their sum throughput)\n",
    "import time\n",
    "slice.get_node(\"h3\").execute(\"iperf3 -s -1 -D\")\n",
    "time.sleep(5)\n",
    "slice.get_node(\"h1\").execute(\"iperf3 -t 30 -i 10 -P 10 -c h3\")"
   ],
   "id": "ed0b25b6-79c4-4207-b90d-98f83d49b166"
  },
  {
   "cell_type": "code",
   "execution_count": null,
   "metadata": {},
   "outputs": [],
   "source": [
    "# also check Linux kernel version on sender\n",
    "slice.get_node(\"h1\").execute(\"uname -a\")"
   ],
   "id": "e1cb5495-d6a1-4cd9-a07c-b11b1ab106ff"
  },
  {
   "cell_type": "markdown",
   "metadata": {},
   "source": [
    "#### Draw the network topology"
   ],
   "id": "950be6ae-a2de-4c22-bd99-e68a2237124a"
  },
  {
   "cell_type": "markdown",
   "metadata": {},
   "source": [
    "The following cell will draw the network topology, for your reference. The interface name and addresses of each experiment interface will be shown on the drawing."
   ],
   "id": "0bf3353e-958d-4124-b2d0-560a304ff3c5"
  },
  {
   "cell_type": "code",
   "execution_count": null,
   "metadata": {},
   "outputs": [],
   "source": [
    "l2_nets = [(n.get_name(), {'color': 'lavender'}) for n in slice.get_l2networks() ]\n",
    "l3_nets = [(n.get_name(), {'color': 'pink'}) for n in slice.get_l3networks() ]\n",
    "hosts   =   [(n.get_name(), {'color': 'lightblue'}) for n in slice.get_nodes()]\n",
    "nodes = l2_nets + l3_nets + hosts\n",
    "ifaces = [iface.toDict() for iface in slice.get_interfaces()]\n",
    "edges = [(iface['network'], iface['node'], \n",
    "          {'label': iface['physical_dev'] + '\\n' + iface['ip_addr'] + '\\n' + iface['mac']}) for iface in ifaces]"
   ],
   "id": "d87911d3-740c-4b4f-848a-f8325f7abc71"
  },
  {
   "cell_type": "code",
   "execution_count": null,
   "metadata": {},
   "outputs": [],
   "source": [
    "import networkx as nx\n",
    "import matplotlib.pyplot as plt\n",
    "plt.figure(figsize=(len(nodes),len(nodes)))\n",
    "G = nx.Graph()\n",
    "G.add_nodes_from(nodes)\n",
    "G.add_edges_from(edges)\n",
    "pos = nx.spring_layout(G)\n",
    "nx.draw(G, pos, node_shape='s',  \n",
    "        node_color=[n[1]['color'] for n in nodes], \n",
    "        node_size=[len(n[0])*400 for n in nodes],  \n",
    "        with_labels=True);\n",
    "nx.draw_networkx_edge_labels(G,pos,\n",
    "                             edge_labels=nx.get_edge_attributes(G,'label'),\n",
    "                             font_color='gray',  font_size=8, rotate=False);"
   ],
   "id": "568a88d0-413e-4b77-be5a-75b50d3f2a51"
  },
  {
   "cell_type": "markdown",
   "metadata": {},
   "source": [
    "### Log into resources"
   ],
   "id": "632e14eb-a30f-4456-af3b-a153a0e4728c"
  },
  {
   "cell_type": "markdown",
   "metadata": {},
   "source": [
    "Now, we are finally ready to log in to our resources over SSH! Run the following cells, and observe the table output - you will see an SSH command for each of the resources in your topology."
   ],
   "id": "4b38c6a8-1e08-4831-b6f0-8364fa0c9b36"
  },
  {
   "cell_type": "code",
   "execution_count": null,
   "metadata": {},
   "outputs": [],
   "source": [
    "import pandas as pd\n",
    "pd.set_option('display.max_colwidth', None)\n",
    "slice_info = [{'Name': n.get_name(), 'SSH command': n.get_ssh_command()} for n in slice.get_nodes()]\n",
    "pd.DataFrame(slice_info).set_index('Name')"
   ],
   "id": "b4a250dc-8ab0-46c6-9bb4-3b71212c7ee0"
  },
  {
   "cell_type": "markdown",
   "metadata": {},
   "source": [
    "Now, you can open an SSH session on any of the resources as follows:\n",
    "\n",
    "-   in Jupyter, from the menu bar, use File \\> New \\> Terminal to open a new terminal.\n",
    "-   copy an SSH command from the table, and paste it into the terminal. (Note that each SSH command is a single line, even if the display wraps the text to a second line! When you copy and paste it, paste it all together.)\n",
    "\n",
    "You can repeat this process (open several terminals) to start a session on each resource. Each terminal session will have a tab in the Jupyter environment, so that you can easily switch between them."
   ],
   "id": "8d60ee41-028f-4674-b65c-a120e861a34c"
  },
  {
   "cell_type": "markdown",
   "metadata": {},
   "source": [
    "### Execute experiment"
   ],
   "id": "9f99d043-8a05-4c4a-9cdd-4a909cd3668c"
  },
  {
   "cell_type": "code",
   "execution_count": null,
   "metadata": {},
   "outputs": [],
   "source": [
    "# get name of router interface that is 'toward' h1 - apply delay here\n",
    "# get name of router interface that is 'toward' h3 - apply rate limiting and buffer size limit here\n",
    "router_node = slice.get_node(name='tbf')\n",
    "router_ingress_iface = router_node.get_interface(network_name = \"link1\")\n",
    "router_ingress_name = router_ingress_iface.get_device_name()\n",
    "router_egress_iface  = router_node.get_interface(network_name = \"link3\")\n",
    "router_egress_name = router_egress_iface.get_device_name()"
   ],
   "id": "b385062d-5c5b-4d9f-b67f-a16d7c858c95"
  },
  {
   "cell_type": "code",
   "execution_count": null,
   "metadata": {},
   "outputs": [],
   "source": [
    "tx_node = slice.get_node(name=\"h1\")\n",
    "rx_node = slice.get_node(name=\"h3\")"
   ],
   "id": "6b26c1b4-dc13-44d7-a321-ac4db91fcf84"
  },
  {
   "cell_type": "code",
   "execution_count": null,
   "metadata": {},
   "outputs": [],
   "source": [
    "# congestion control algorithms to compare\n",
    "cc_variants = [\"cubic\", \"bbr\"]"
   ],
   "id": "6876e4b9-8a3d-4e24-ac21-68413539b247"
  },
  {
   "cell_type": "code",
   "execution_count": null,
   "metadata": {},
   "outputs": [],
   "source": [
    "# make sure they are loaded before you start!\n",
    "for cc in cc_variants:\n",
    "    tx_node.execute(\"sudo modprobe tcp_\" + cc)"
   ],
   "id": "6feeb6d3-7fa6-4f61-9597-d46f4155cc5b"
  },
  {
   "cell_type": "code",
   "execution_count": null,
   "metadata": {},
   "outputs": [],
   "source": [
    "kernel = tx_node.execute(\"uname -r\")[0].strip()\n",
    "data_dir = kernel + \"_\" + cc_variants[0] + \"_\" + cc_variants[1]\n",
    "tx_node.execute(\"mkdir -p \" + data_dir)"
   ],
   "id": "108dd23c-8cc3-48e8-93c9-d8f32d25c07a"
  },
  {
   "cell_type": "code",
   "execution_count": null,
   "metadata": {},
   "outputs": [],
   "source": [
    "for bufcap in [100, 10000]:\n",
    "    for bandwidth in [10, 20, 50, 100, 250, 500, 750, 1000]: \n",
    "        for rtt in [5, 10, 25, 50, 75, 100, 150, 200]: \n",
    "            \n",
    "            print(\"Now running: buffer %d, bandwidth %d, RTT %d\" % (bufcap, bandwidth, rtt))\n",
    "            \n",
    "            router_node.execute(\"sudo tc qdisc del dev \" + router_ingress_name + \" root\")\n",
    "            router_node.execute(\"sudo tc qdisc del dev \" + router_egress_name + \" root\")\n",
    "\n",
    "\n",
    "            # set up RTT\n",
    "            router_node.execute(\"sudo tc qdisc replace dev \" + router_ingress_name + \" root netem delay \" + str(rtt) + \"ms\")\n",
    "            # set up rate limit, buffer limit\n",
    "            router_node.execute(\"sudo tc qdisc replace dev \" + router_egress_name + \" root handle 1: htb default 3\")\n",
    "            router_node.execute(\"sudo tc class add dev \" + router_egress_name + \" parent 1: classid 1:3 htb rate \" + str(bandwidth) + \"Mbit\")\n",
    "            router_node.execute(\"sudo tc qdisc add dev \" + router_egress_name + \" parent 1:3 bfifo limit \" + str(bufcap) + \"kb\")\n",
    "\n",
    "            # quick validation\n",
    "            tx_node.execute(\"ping -c 5 h3\")\n",
    "            time.sleep(10)\n",
    "            rx_node.execute(\"iperf3 -s -1 -D\")\n",
    "            tx_node.execute(\"iperf3 -t 30 -i 30 -P 10 -c h3\")\n",
    "\n",
    "            for trial_idx in [1, 2, 3, 4, 5]:\n",
    "\n",
    "                file_prefix = data_dir + \"/%d_%d_%d_%d\" % (bufcap, bandwidth, rtt, trial_idx)\n",
    "\n",
    "                for cc in cc_variants:\n",
    "                    time.sleep(10)\n",
    "                    rx_node.execute(\"iperf3 -s -1 -D\")\n",
    "                    tx_node.execute(\"iperf3 -V -c h3 -C \" + cc + \" -t 60s -fk --logfile \" + file_prefix + \"_\" + cc + \".txt\", quiet=True)\n"
   ],
   "id": "e5c8a552-f642-4adb-ba6f-4dd4e68640fd"
  },
  {
   "cell_type": "markdown",
   "metadata": {},
   "source": [
    "### Analyze experiment results"
   ],
   "id": "ff59251a-1fc5-4d13-ba39-206513d9558f"
  },
  {
   "cell_type": "code",
   "execution_count": null,
   "metadata": {},
   "outputs": [],
   "source": [
    "import pandas as pd\n",
    "from io import StringIO\n",
    "import seaborn as sns # may need to pip install seaborn\n",
    "import matplotlib.pyplot as plt"
   ],
   "id": "7515e708-67fc-4298-82d3-f4ee65a548d7"
  },
  {
   "cell_type": "code",
   "execution_count": null,
   "metadata": {},
   "outputs": [],
   "source": [
    "tput = tx_node.execute(\"cd \" + data_dir + \"; grep 'Kbits/sec.*sender' *.txt | awk -F'[_ .]' '{print $1\\\",\\\"$2\\\",\\\"$3\\\",\\\"$4\\\",\\\"$5\\\",\\\"$21}' \")"
   ],
   "id": "db4a455e-d7af-47c0-aa1e-0ea161f25ae0"
  },
  {
   "cell_type": "code",
   "execution_count": null,
   "metadata": {},
   "outputs": [],
   "source": [
    "df_tput = pd.read_csv(StringIO(tput[0]), names = ['bufcap','bandwidth','rtt','trial','cc','goodput_'])\n",
    "df_tput = df_tput.pivot_table(columns='cc', index=['bufcap','bandwidth','rtt'], values=['goodput_'], aggfunc='mean').reset_index() \n",
    "df_tput.columns = [''.join(col).strip() for col in df_tput.columns.values]\n",
    "df_tput = df_tput.assign(goodput_gain = 100*(df_tput['goodput_' + cc_variants[1]]-df_tput['goodput_' + cc_variants[0]])/df_tput['goodput_' + cc_variants[0]])"
   ],
   "id": "5740a18f-0102-49ab-b29f-6a0e089c9060"
  },
  {
   "cell_type": "code",
   "execution_count": null,
   "metadata": {},
   "outputs": [],
   "source": [
    "dat_hm = df_tput[df_tput.bufcap==100].pivot(columns=[\"bandwidth\"], index=[\"rtt\"], values=\"goodput_gain\")\n",
    "sns.set(font_scale=0.8)\n",
    "ax = sns.heatmap(dat_hm, annot=True, fmt=\".1f\", cmap=\"RdBu_r\", center=0, vmin=-100, vmax=100)\n",
    "ax.invert_yaxis()\n",
    "ax.set_title(\"Goodput gain for \" + cc_variants[1].upper() + \" vs \" + cc_variants[0].upper() + \", 100KB buffer\")\n",
    "plt.xlabel(\"RTT (in ms)\")\n",
    "plt.ylabel(\"Bandwidth (in Mbps)\")\n",
    "plt.show()"
   ],
   "id": "734e8cbd-e812-4537-9488-6785b6f7ef31"
  },
  {
   "cell_type": "code",
   "execution_count": null,
   "metadata": {},
   "outputs": [],
   "source": [
    "dat_hm = df_tput[df_tput.bufcap==10000].pivot(columns=[\"bandwidth\"], index=[\"rtt\"], values=\"goodput_gain\")\n",
    "sns.set(font_scale=0.8)\n",
    "ax = sns.heatmap(dat_hm, annot=True, fmt=\".1f\", cmap=\"RdBu_r\", center=0, vmin=-100, vmax=100)\n",
    "ax.invert_yaxis()\n",
    "ax.set_title(\"Goodput gain for \" + cc_variants[1].upper() + \" vs \" + cc_variants[0].upper() + \", 10MB buffer\")\n",
    "plt.xlabel(\"RTT (in ms)\")\n",
    "plt.ylabel(\"Bandwidth (in Mbps)\")\n",
    "plt.show()"
   ],
   "id": "b054cf0d-b38d-40ac-b28d-50d7613a1755"
  },
  {
   "cell_type": "markdown",
   "metadata": {},
   "source": [
    "### Delete your slice"
   ],
   "id": "5e3642e4-6531-4871-900a-a215209f8469"
  },
  {
   "cell_type": "markdown",
   "metadata": {},
   "source": [
    "When you finish your experiment, you should delete your slice! The following cells deletes all the resources in your slice, freeing them for other experimenters."
   ],
   "id": "bafc45b4-a20e-4b83-8838-8ea1e6944e4a"
  },
  {
   "cell_type": "code",
   "execution_count": null,
   "metadata": {},
   "outputs": [],
   "source": [
    "slice = fablib.get_slice(name=slice_name)\n",
    "fablib.delete_slice(slice_name)"
   ],
   "id": "392c2ada-d014-43fc-a4bc-fe4710fdd47c"
  },
  {
   "cell_type": "code",
   "execution_count": null,
   "metadata": {},
   "outputs": [],
   "source": [
    "# slice should end up in \"Dead\" state\n",
    "# re-run this cell until you see it in \"Dead\" state\n",
    "slice.update()\n",
    "_ = slice.show()"
   ],
   "id": "c5fb05df-bb69-4061-bfa2-0bd540e9d421"
  }
 ],
 "nbformat": 4,
 "nbformat_minor": 5,
 "metadata": {}
}
