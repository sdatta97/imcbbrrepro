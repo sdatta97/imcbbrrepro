{
 "cells": [
  {
   "cell_type": "markdown",
   "metadata": {},
   "source": [
    "## Replication: When to use and when not to use BBR: An empirical analysis and evaluation study"
   ],
   "id": "4c715e0b-2902-468c-80ba-42009eca42f6"
  },
  {
   "cell_type": "markdown",
   "metadata": {},
   "source": [
    "### Configure environment"
   ],
   "id": "e6c7e255-5001-4f39-a508-fb3f39c07946"
  },
  {
   "cell_type": "code",
   "execution_count": null,
   "metadata": {},
   "outputs": [],
   "source": [
    "from fabrictestbed_extensions.fablib.fablib import FablibManager as fablib_manager\n",
    "fablib = fablib_manager() \n",
    "conf = fablib.show_config()"
   ],
   "id": "28505e8e-8c01-486c-a053-41fa1bd1a983"
  },
  {
   "cell_type": "markdown",
   "metadata": {},
   "source": [
    "### Define configuration for this experiment"
   ],
   "id": "732078e1-ea44-4abc-9b5e-93c6b8a594f1"
  },
  {
   "cell_type": "code",
   "execution_count": null,
   "metadata": {},
   "outputs": [],
   "source": [
    "slice_name=\"re-when-to-use-bbr-\" + fablib.get_bastion_username()\n",
    "\n",
    "# use default_ubuntu_22 for 5.15 kernel, default_ubuntu_18 for 4.15 kernel, default_ubuntu_20 for BBRv2\n",
    "image = 'default_ubuntu_22' \n",
    "\n",
    "node_conf = [\n",
    " {'name': \"h1\",  'cores': 4, 'ram': 16, 'disk': 500, 'image': image, 'packages': ['iperf3']}, \n",
    " {'name': \"h2\",  'cores': 4, 'ram': 16, 'disk': 10, 'image': image, 'packages': ['iperf3']}, \n",
    " {'name': \"h3\",  'cores': 4, 'ram': 16, 'disk': 10, 'image': image, 'packages': ['iperf3']}, \n",
    " {'name': \"tbf\", 'cores': 4, 'ram': 16, 'disk': 10, 'image': image, 'packages': []} \n",
    "]\n",
    "net_conf = [\n",
    " {\"name\": \"link1\", \"subnet\": \"10.10.1.0/24\", \"nodes\": [{\"name\": \"tbf\",   \"addr\": \"10.10.1.10\"}, {\"name\": \"h1\", \"addr\": \"10.10.1.1\"}]},\n",
    " {\"name\": \"link2\", \"subnet\": \"10.10.2.0/24\", \"nodes\": [{\"name\": \"tbf\",   \"addr\": \"10.10.2.10\"}, {\"name\": \"h2\", \"addr\": \"10.10.2.1\"}]},\n",
    " {\"name\": \"link3\", \"subnet\": \"10.10.3.0/24\", \"nodes\": [{\"name\": \"tbf\",   \"addr\": \"10.10.3.10\"}, {\"name\": \"h3\", \"addr\": \"10.10.3.1\"}]}\n",
    "]\n",
    "route_conf = [\n",
    " {\"addr\": \"10.10.3.0/24\", \"gw\": \"10.10.1.10\", \"nodes\": [\"h1\"]}, \n",
    " {\"addr\": \"10.10.3.0/24\", \"gw\": \"10.10.2.10\", \"nodes\": [\"h2\"]},  \n",
    " {\"addr\": \"10.10.1.0/24\", \"gw\": \"10.10.3.10\", \"nodes\": [\"h3\"]},  \n",
    " {\"addr\": \"10.10.2.0/24\", \"gw\": \"10.10.3.10\", \"nodes\": [\"h3\"]}\n",
    "]\n",
    "exp_conf = {'cores': sum([ n['cores'] for n in node_conf]), 'nic': sum([len(n['nodes']) for n in net_conf]) }"
   ],
   "id": "5b782b01-9cf2-4094-9be5-00e725b596eb"
  },
  {
   "cell_type": "markdown",
   "metadata": {},
   "source": [
    "### Reserve resources\n",
    "\n",
    "Now, we are ready to reserve resources!"
   ],
   "id": "8fc7e4d6-f6bf-40ed-a15a-351d5c77b079"
  },
  {
   "cell_type": "markdown",
   "metadata": {},
   "source": [
    "First, make sure you don’t already have a slice with this name:"
   ],
   "id": "f558aea7-2419-4b24-b2b3-ffc53f9b4594"
  },
  {
   "cell_type": "code",
   "execution_count": null,
   "metadata": {},
   "outputs": [],
   "source": [
    "try:\n",
    "    slice = fablib.get_slice(slice_name)\n",
    "    print(\"You already have a slice by this name!\")\n",
    "    print(\"If you previously reserved resources, skip to the 'log in to resources' section.\")\n",
    "except:\n",
    "    print(\"You don't have a slice named %s yet.\" % slice_name)\n",
    "    print(\"Continue to the next step to make one.\")\n",
    "    slice = fablib.new_slice(name=slice_name)"
   ],
   "id": "52ad1334-8d04-4694-9f11-63ef7a69ac25"
  },
  {
   "cell_type": "markdown",
   "metadata": {},
   "source": [
    "We will select a random site that has sufficient resources for our experiment:"
   ],
   "id": "ed3dca34-8590-41a4-b39b-72f3a73b6a88"
  },
  {
   "cell_type": "code",
   "execution_count": null,
   "metadata": {},
   "outputs": [],
   "source": [
    "while True:\n",
    "    site_name = fablib.get_random_site()\n",
    "    if ( (fablib.resources.get_core_available(site_name) > 1.2*exp_conf['cores']) and\n",
    "        (fablib.resources.get_component_available(site_name, 'SharedNIC-ConnectX-6') > 1.2**exp_conf['nic']) ):\n",
    "        break\n",
    "\n",
    "fablib.show_site(site_name)"
   ],
   "id": "f8128193-5d56-4303-b995-b16aa498757a"
  },
  {
   "cell_type": "markdown",
   "metadata": {},
   "source": [
    "Then we will add hosts and network segments:"
   ],
   "id": "dccfb0d4-012b-4fa4-ac27-fdcf6180dcee"
  },
  {
   "cell_type": "code",
   "execution_count": null,
   "metadata": {},
   "outputs": [],
   "source": [
    "# this cell sets up the nodes\n",
    "for n in node_conf:\n",
    "    slice.add_node(name=n['name'], site=site_name, \n",
    "                   cores=n['cores'], \n",
    "                   ram=n['ram'], \n",
    "                   disk=n['disk'], \n",
    "                   image=n['image'])"
   ],
   "id": "d4b97639-762a-4937-91ef-82c960856c27"
  },
  {
   "cell_type": "code",
   "execution_count": null,
   "metadata": {},
   "outputs": [],
   "source": [
    "# this cell sets up the network segments\n",
    "for n in net_conf:\n",
    "    ifaces = [slice.get_node(node[\"name\"]).add_component(model=\"NIC_Basic\", \n",
    "                                                 name=n[\"name\"]).get_interfaces()[0] for node in n['nodes'] ]\n",
    "    slice.add_l2network(name=n[\"name\"], type='L2Bridge', interfaces=ifaces)"
   ],
   "id": "8a31f411-84c8-4430-bdd1-5888ae0e8f02"
  },
  {
   "cell_type": "markdown",
   "metadata": {},
   "source": [
    "The following cell submits our request to the FABRIC site. The output of this cell will update automatically as the status of our request changes.\n",
    "\n",
    "-   While it is being prepared, the “State” of the slice will appear as “Configuring”.\n",
    "-   When it is ready, the “State” of the slice will change to “StableOK”.\n",
    "\n",
    "You may prefer to walk away and come back in a few minutes (for simple slices) or a few tens of minutes (for more complicated slices with many resources)."
   ],
   "id": "a7617c4b-aab7-4549-bfe2-a8a02864532e"
  },
  {
   "cell_type": "code",
   "execution_count": null,
   "metadata": {},
   "outputs": [],
   "source": [
    "slice.submit()"
   ],
   "id": "677fedaa-fdf1-440b-a1ec-5f27dc3f9301"
  },
  {
   "cell_type": "code",
   "execution_count": null,
   "metadata": {},
   "outputs": [],
   "source": [
    "slice.get_state()\n",
    "slice.wait_ssh(progress=True)"
   ],
   "id": "339775de-022d-43b4-925c-0a887cea0a76"
  },
  {
   "cell_type": "markdown",
   "metadata": {},
   "source": [
    "### Extend slice for one week"
   ],
   "id": "293482bf-3b5a-436d-8d44-02771fa59fc4"
  },
  {
   "cell_type": "code",
   "execution_count": null,
   "metadata": {},
   "outputs": [],
   "source": [
    "from datetime import datetime\n",
    "from datetime import timezone\n",
    "from datetime import timedelta\n",
    "\n",
    "# Set end date to 7 days from now\n",
    "end_date = (datetime.now(timezone.utc) + timedelta(days=7)).strftime(\"%Y-%m-%d %H:%M:%S %z\")\n",
    "slice.renew(end_date)"
   ],
   "id": "ac3c7fb8-5039-45ff-b59d-d34f0c8c0f9d"
  },
  {
   "cell_type": "code",
   "execution_count": null,
   "metadata": {},
   "outputs": [],
   "source": [
    "slice.update()\n",
    "_ = slice.show()"
   ],
   "id": "147e4f5b-7d9e-4b72-85b6-c8d716340f84"
  },
  {
   "cell_type": "markdown",
   "metadata": {},
   "source": [
    "### Configure resources\n",
    "\n",
    "Next, we will configure the resources so they are ready to use."
   ],
   "id": "7a41a8d8-6f2f-46f1-b1b2-f91e3383d739"
  },
  {
   "cell_type": "code",
   "execution_count": null,
   "metadata": {},
   "outputs": [],
   "source": [
    "slice = fablib.get_slice(name=slice_name)"
   ],
   "id": "cb721150-a405-4863-9245-344fb3210b8a"
  },
  {
   "cell_type": "code",
   "execution_count": null,
   "metadata": {},
   "outputs": [],
   "source": [
    "# install packages\n",
    "# this will take a while and will run in background while you do other steps\n",
    "for n in node_conf:\n",
    "    if len(n['packages']):\n",
    "        node = slice.get_node(n['name'])\n",
    "        pkg = \" \".join(n['packages'])\n",
    "        node.execute_thread(\"sudo apt update; sudo apt -y install %s\" % pkg)"
   ],
   "id": "2651e719-2700-4b9a-a59a-2889d7a18417"
  },
  {
   "cell_type": "code",
   "execution_count": null,
   "metadata": {},
   "outputs": [],
   "source": [
    "# bring interfaces up and either assign an address (if there is one) or flush address\n",
    "from ipaddress import ip_address, IPv4Address, IPv4Network\n",
    "\n",
    "for net in net_conf:\n",
    "    for n in net['nodes']:\n",
    "        if_name = n['name'] + '-' + net['name'] + '-p1'\n",
    "        iface = slice.get_interface(if_name)\n",
    "        iface.ip_link_up()\n",
    "        if n['addr']:\n",
    "            iface.ip_addr_add(addr=n['addr'], subnet=IPv4Network(net['subnet']))\n",
    "        else:\n",
    "            iface.get_node().execute(\"sudo ip addr flush dev %s\"  % iface.get_device_name())"
   ],
   "id": "72ff343e-ac1a-4466-9223-c953b80c30fc"
  },
  {
   "cell_type": "code",
   "execution_count": null,
   "metadata": {},
   "outputs": [],
   "source": [
    "# prepare a \"hosts\" file that has names and addresses of every node\n",
    "hosts_txt = [ \"%s\\t%s\" % ( n['addr'], n['name'] ) for net in net_conf  for n in net['nodes'] if type(n) is dict and n['addr']]\n",
    "for n in slice.get_nodes():\n",
    "    for h in hosts_txt:\n",
    "        n.execute(\"echo %s | sudo tee -a /etc/hosts\" % h)"
   ],
   "id": "c4bd159b-2dd8-4d43-9016-f89262050ee2"
  },
  {
   "cell_type": "code",
   "execution_count": null,
   "metadata": {},
   "outputs": [],
   "source": [
    "# enable IPv4 forwarding on all nodes\n",
    "for n in slice.get_nodes():\n",
    "    n.execute(\"sudo sysctl -w net.ipv4.ip_forward=1\")"
   ],
   "id": "0551ebb5-dfe2-4a39-9ae2-ba9a0cc2c7bf"
  },
  {
   "cell_type": "code",
   "execution_count": null,
   "metadata": {},
   "outputs": [],
   "source": [
    "# set up static routes\n",
    "for rt in route_conf:\n",
    "    for n in rt['nodes']:\n",
    "        slice.get_node(name=n).ip_route_add(subnet=IPv4Network(rt['addr']), gateway=rt['gw'])"
   ],
   "id": "1364ca44-9275-44d7-974f-d958f9e2ab4f"
  },
  {
   "cell_type": "code",
   "execution_count": null,
   "metadata": {},
   "outputs": [],
   "source": [
    "# enable nodes to access IPv4-only resources, such as Github,\n",
    "# even if the control interface is IPv6-only\n",
    "from ipaddress import ip_address, IPv6Address\n",
    "for node in slice.get_nodes():\n",
    "    if type(ip_address(node.get_management_ip())) is IPv6Address:\n",
    "        node.execute('echo \"DNS=2a00:1098:2c::1\" | sudo tee -a /etc/systemd/resolved.conf')\n",
    "        node.execute('sudo service systemd-resolved restart')\n",
    "        node.execute('echo \"127.0.0.1 $(hostname -s)\" | sudo tee -a /etc/hosts')"
   ],
   "id": "54ccb5e9-d0f2-429d-926a-2d94ba34d7cb"
  },
  {
   "cell_type": "markdown",
   "metadata": {},
   "source": [
    "### Extra configuration for this experiment"
   ],
   "id": "89fabde7-0e66-4715-9c56-c947608238c4"
  },
  {
   "cell_type": "code",
   "execution_count": null,
   "metadata": {},
   "outputs": [],
   "source": [
    "# set socket read and write buffer on all endpoints to larger value\n",
    "for node in slice.get_nodes():\n",
    "    node.execute(\"sudo sysctl -w net.core.rmem_default=2147483647\")\n",
    "    node.execute(\"sudo sysctl -w net.core.wmem_default=2147483647\")\n",
    "    node.execute(\"sudo sysctl -w net.core.rmem_max=2147483647\")\n",
    "    node.execute(\"sudo sysctl -w net.core.wmem_max=2147483647\")"
   ],
   "id": "594801f3-6ab2-4a8e-a781-41a806ca2f6c"
  },
  {
   "cell_type": "markdown",
   "metadata": {},
   "source": [
    "### Validate base network\n",
    "\n",
    "Before we run any experiment, we should check the “base” network - before adding any emulated delay or rate limiting - and make sure that it will not be a limiting factor in the experiment."
   ],
   "id": "592dfa51-d344-44a8-81b8-b3d59d2af0a1"
  },
  {
   "cell_type": "code",
   "execution_count": null,
   "metadata": {},
   "outputs": [],
   "source": [
    "# check base delay\n",
    "slice.get_node(\"h1\").execute(\"ping -c 5 h3\")"
   ],
   "id": "17305f82-e7ae-4472-b5e1-e3fa0ba4d03d"
  },
  {
   "cell_type": "code",
   "execution_count": null,
   "metadata": {},
   "outputs": [],
   "source": [
    "# check base capacity (by sending 10 parallel flows, look at their sum throughput)\n",
    "import time\n",
    "slice.get_node(\"h3\").execute(\"iperf3 -s -1 -D\")\n",
    "time.sleep(5)\n",
    "slice.get_node(\"h1\").execute(\"iperf3 -t 30 -i 10 -P 10 -c h3\")"
   ],
   "id": "b52fa6ac-2212-4838-a928-e6e0391bb172"
  },
  {
   "cell_type": "code",
   "execution_count": null,
   "metadata": {},
   "outputs": [],
   "source": [
    "# also check Linux kernel version on sender\n",
    "slice.get_node(\"h1\").execute(\"uname -a\")"
   ],
   "id": "873ea991-4e4d-4c5f-91d4-2751c33a8c9d"
  },
  {
   "cell_type": "markdown",
   "metadata": {},
   "source": [
    "### Draw the network topology"
   ],
   "id": "53fb20e9-621e-4024-a5c8-4da68b1a764a"
  },
  {
   "cell_type": "markdown",
   "metadata": {},
   "source": [
    "The following cell will draw the network topology, for your reference. The interface name and addresses of each experiment interface will be shown on the drawing."
   ],
   "id": "525e723f-3af2-4cc1-b288-6e85bbdb4efb"
  },
  {
   "cell_type": "code",
   "execution_count": null,
   "metadata": {},
   "outputs": [],
   "source": [
    "l2_nets = [(n.get_name(), {'color': 'lavender'}) for n in slice.get_l2networks() ]\n",
    "l3_nets = [(n.get_name(), {'color': 'pink'}) for n in slice.get_l3networks() ]\n",
    "hosts   =   [(n.get_name(), {'color': 'lightblue'}) for n in slice.get_nodes()]\n",
    "nodes = l2_nets + l3_nets + hosts\n",
    "ifaces = [iface.toDict() for iface in slice.get_interfaces()]\n",
    "edges = [(iface['network'], iface['node'], \n",
    "          {'label': iface['physical_dev'] + '\\n' + iface['ip_addr'] + '\\n' + iface['mac']}) for iface in ifaces]"
   ],
   "id": "ef9bb9e6-06a9-467c-bbaf-1d1001887738"
  },
  {
   "cell_type": "code",
   "execution_count": null,
   "metadata": {},
   "outputs": [],
   "source": [
    "import networkx as nx\n",
    "import matplotlib.pyplot as plt\n",
    "plt.figure(figsize=(len(nodes),len(nodes)))\n",
    "G = nx.Graph()\n",
    "G.add_nodes_from(nodes)\n",
    "G.add_edges_from(edges)\n",
    "pos = nx.spring_layout(G)\n",
    "nx.draw(G, pos, node_shape='s',  \n",
    "        node_color=[n[1]['color'] for n in nodes], \n",
    "        node_size=[len(n[0])*400 for n in nodes],  \n",
    "        with_labels=True);\n",
    "nx.draw_networkx_edge_labels(G,pos,\n",
    "                             edge_labels=nx.get_edge_attributes(G,'label'),\n",
    "                             font_color='gray',  font_size=8, rotate=False);"
   ],
   "id": "f142da31-e98e-424a-bc28-c9b48ff2052c"
  },
  {
   "cell_type": "markdown",
   "metadata": {},
   "source": [
    "### Log into resources"
   ],
   "id": "cab8accd-a7f1-4e2d-b719-692b0f210470"
  },
  {
   "cell_type": "markdown",
   "metadata": {},
   "source": [
    "Now, we are finally ready to log in to our resources over SSH! Run the following cells, and observe the table output - you will see an SSH command for each of the resources in your topology."
   ],
   "id": "8a5abfcb-9455-4ab4-b288-376de3c19c1d"
  },
  {
   "cell_type": "code",
   "execution_count": null,
   "metadata": {},
   "outputs": [],
   "source": [
    "import pandas as pd\n",
    "pd.set_option('display.max_colwidth', None)\n",
    "slice_info = [{'Name': n.get_name(), 'SSH command': n.get_ssh_command()} for n in slice.get_nodes()]\n",
    "pd.DataFrame(slice_info).set_index('Name')"
   ],
   "id": "56bd43a4-843f-41cf-b1ec-1eaf117df8ac"
  },
  {
   "cell_type": "markdown",
   "metadata": {},
   "source": [
    "Now, you can open an SSH session on any of the resources as follows:\n",
    "\n",
    "-   in Jupyter, from the menu bar, use File \\> New \\> Terminal to open a new terminal.\n",
    "-   copy an SSH command from the table, and paste it into the terminal. (Note that each SSH command is a single line, even if the display wraps the text to a second line! When you copy and paste it, paste it all together.)\n",
    "\n",
    "You can repeat this process (open several terminals) to start a session on each resource. Each terminal session will have a tab in the Jupyter environment, so that you can easily switch between them."
   ],
   "id": "c4e7c1e6-c9c6-4a41-afcd-1550880ef43d"
  },
  {
   "cell_type": "markdown",
   "metadata": {},
   "source": [
    "### Execute experiment"
   ],
   "id": "a7d00fe4-29f0-4a61-9705-da883a5b7459"
  },
  {
   "cell_type": "code",
   "execution_count": null,
   "metadata": {},
   "outputs": [],
   "source": [
    "# generate full factorial experiment\n",
    "import itertools\n",
    "exp_factors = { \n",
    "    'bufcap': [100, 10000],\n",
    "    'bandwidth': [10, 20, 50, 100, 250, 500, 750, 1000],\n",
    "    'rtt': [5, 10, 25, 50, 75, 100, 150, 200],\n",
    "    'cc': [\"cubic\", \"bbr\"],\n",
    "    'trial': [1,2,3,4,5]\n",
    "}\n",
    "factor_names = [k for k in exp_factors]\n",
    "factor_lists = list(itertools.product(*exp_factors.values()))\n",
    "exp_lists = [dict(zip(factor_names, factor_l)) for factor_l in factor_lists]"
   ],
   "id": "9bc743a9-a87a-47d0-a03b-1d0af2727e18"
  },
  {
   "cell_type": "code",
   "execution_count": null,
   "metadata": {},
   "outputs": [],
   "source": [
    "# get name of router interface that is 'toward' h1 - apply delay here\n",
    "# get name of router interface that is 'toward' h3 - apply rate limiting and buffer size limit here\n",
    "router_node = slice.get_node(name='tbf')\n",
    "router_ingress_iface = router_node.get_interface(network_name = \"link1\")\n",
    "router_ingress_name = router_ingress_iface.get_device_name()\n",
    "router_egress_iface  = router_node.get_interface(network_name = \"link3\")\n",
    "router_egress_name = router_egress_iface.get_device_name()"
   ],
   "id": "4af518f0-e296-4fe4-9f35-fa0bf1596902"
  },
  {
   "cell_type": "code",
   "execution_count": null,
   "metadata": {},
   "outputs": [],
   "source": [
    "tx_node = slice.get_node(name=\"h1\")\n",
    "rx_node = slice.get_node(name=\"h3\")"
   ],
   "id": "b4b3e2b5-fc1d-497a-a7f7-69a7f8fe131c"
  },
  {
   "cell_type": "code",
   "execution_count": null,
   "metadata": {},
   "outputs": [],
   "source": [
    "kernel = tx_node.execute(\"uname -r\")[0].strip()\n",
    "data_dir = kernel + \"_\" + exp_factors['cc'][0] + \"_\" + exp_factors['cc'][1]\n",
    "tx_node.execute(\"mkdir -p \" + data_dir)"
   ],
   "id": "23dce594-28a3-4da3-a961-6f034da01d7a"
  },
  {
   "cell_type": "code",
   "execution_count": null,
   "metadata": {},
   "outputs": [],
   "source": [
    "for exp in exp_lists:\n",
    "\n",
    "    # check if we already ran this experiment\n",
    "    # (allow stop/resume)\n",
    "    file_out = data_dir + \"/%d_%d_%d_%d_%s.txt\" % (exp['bufcap'], exp['bandwidth'], exp['rtt'], exp['trial'], exp['cc'])\n",
    "    stdout, stderr = tx_node.execute(\"ls \" + file_out, quiet=True)\n",
    "\n",
    "    if len(stdout):\n",
    "        print(\"Already have \" + file_out + \", skipping\")\n",
    "\n",
    "    elif len(stderr):\n",
    "        print(\"Running experiment to generate \" + file_out)\n",
    "\n",
    "        tx_node.execute(\"sudo modprobe tcp_\" + exp['cc'])\n",
    "\n",
    "        router_node.execute(\"sudo tc qdisc del dev \" + router_ingress_name + \" root\")\n",
    "        router_node.execute(\"sudo tc qdisc del dev \" + router_egress_name + \" root\")\n",
    "\n",
    "        # set up RTT\n",
    "        router_node.execute(\"sudo tc qdisc replace dev \" + router_ingress_name + \" root netem delay \" + str(exp['rtt']) + \"ms\")\n",
    "        # set up rate limit, buffer limit\n",
    "        router_node.execute(\"sudo tc qdisc replace dev \" + router_egress_name + \" root handle 1: htb default 3\")\n",
    "        router_node.execute(\"sudo tc class add dev \" + router_egress_name + \" parent 1: classid 1:3 htb rate \" + str(exp['bandwidth']) + \"Mbit\")\n",
    "        router_node.execute(\"sudo tc qdisc add dev \" + router_egress_name + \" parent 1:3 bfifo limit \" + str(exp['bufcap']) + \"kb\")\n",
    "\n",
    "        time.sleep(10)\n",
    "        rx_node.execute(\"iperf3 -s -1 -D\")\n",
    "        tx_node.execute(\"iperf3 -V -c h3 -C \" + exp['cc'] + \" -t 60s -fk -w 20M --logfile \" + file_out, quiet=True)"
   ],
   "id": "4ec219d0-b7ad-4451-a25d-cdce12423666"
  },
  {
   "cell_type": "markdown",
   "metadata": {},
   "source": [
    "### Analyze experiment results"
   ],
   "id": "9ebaef5b-deb2-498c-8f69-00a777950ecb"
  },
  {
   "cell_type": "code",
   "execution_count": null,
   "metadata": {},
   "outputs": [],
   "source": [
    "!pip install seaborn"
   ],
   "id": "5380358b-5ad8-42f8-abee-a54a96792097"
  },
  {
   "cell_type": "code",
   "execution_count": null,
   "metadata": {},
   "outputs": [],
   "source": [
    "import pandas as pd\n",
    "from io import StringIO\n",
    "import seaborn as sns \n",
    "import matplotlib.pyplot as plt"
   ],
   "id": "0ae67dc4-2607-4090-9d04-1de84654ca30"
  },
  {
   "cell_type": "code",
   "execution_count": null,
   "metadata": {},
   "outputs": [],
   "source": [
    "tput = tx_node.execute(\"cd \" + data_dir + \"; grep 'Kbits/sec.*receiver' *.txt | awk -F'[_ .]' '{print $1\\\",\\\"$2\\\",\\\"$3\\\",\\\"$4\\\",\\\"$5\\\",\\\"$21}' \")"
   ],
   "id": "1915c195-d330-4731-9065-eff18b732784"
  },
  {
   "cell_type": "code",
   "execution_count": null,
   "metadata": {},
   "outputs": [],
   "source": [
    "df_tput = pd.read_csv(StringIO(tput[0]), names = ['bufcap','bandwidth','rtt','trial','cc','goodput_'])\n",
    "df_tput = df_tput.pivot_table(columns='cc', index=['bufcap','bandwidth','rtt'], values=['goodput_'], aggfunc='mean').reset_index() \n",
    "df_tput.columns = [''.join(col).strip() for col in df_tput.columns.values]\n",
    "df_tput = df_tput.assign(goodput_gain = 100*(df_tput['goodput_' + exp_factors['cc'][1]]-df_tput['goodput_' + exp_factors['cc'][0]])/df_tput['goodput_' + exp_factors['cc'][0]])"
   ],
   "id": "991657fe-8108-4766-8c58-9351d92a9442"
  },
  {
   "cell_type": "code",
   "execution_count": null,
   "metadata": {},
   "outputs": [],
   "source": [
    "dat_hm = df_tput[df_tput.bufcap==100].pivot(columns=[\"bandwidth\"], index=[\"rtt\"], values=\"goodput_gain\")\n",
    "sns.set(font_scale=0.8)\n",
    "ax = sns.heatmap(dat_hm, annot=True, fmt=\".1f\", cmap=\"RdBu_r\", center=0, vmin=-100, vmax=100)\n",
    "ax.invert_yaxis()\n",
    "ax.set_title(\"Goodput gain for \" + exp_factors['cc'][1].upper() + \" vs \" + exp_factors['cc'][0].upper() + \", 100KB buffer\")\n",
    "plt.xlabel(\"RTT (in ms)\")\n",
    "plt.ylabel(\"Bandwidth (in Mbps)\")\n",
    "plt.show()"
   ],
   "id": "ac43c7fb-1a24-4d87-89b1-eba15b53419a"
  },
  {
   "cell_type": "code",
   "execution_count": null,
   "metadata": {},
   "outputs": [],
   "source": [
    "dat_hm = df_tput[df_tput.bufcap==10000].pivot(columns=[\"bandwidth\"], index=[\"rtt\"], values=\"goodput_gain\")\n",
    "sns.set(font_scale=0.8)\n",
    "ax = sns.heatmap(dat_hm, annot=True, fmt=\".1f\", cmap=\"RdBu_r\", center=0, vmin=-100, vmax=100)\n",
    "ax.invert_yaxis()\n",
    "ax.set_title(\"Goodput gain for \" + exp_factors['cc'][1].upper() + \" vs \" + exp_factors['cc'][0].upper() + \", 10MB buffer\")\n",
    "plt.xlabel(\"RTT (in ms)\")\n",
    "plt.ylabel(\"Bandwidth (in Mbps)\")\n",
    "plt.show()"
   ],
   "id": "58f7792e-20b7-4dc9-b13d-dbe0278832d1"
  },
  {
   "cell_type": "code",
   "execution_count": null,
   "metadata": {},
   "outputs": [],
   "source": [
    "retx = tx_node.execute(\"cd \" + data_dir + \"; grep 'Kbits/sec.*sender' *.txt | awk -F'[_ .]' '{print $1\\\",\\\"$2\\\",\\\"$3\\\",\\\"$4\\\",\\\"$5\\\",\\\"$24}' \")"
   ],
   "id": "693c7327-faae-420b-9d80-a462f66d9e96"
  },
  {
   "cell_type": "code",
   "execution_count": null,
   "metadata": {},
   "outputs": [],
   "source": [
    "df_retx = pd.read_csv(StringIO(retx[0]), names = ['bufcap','bandwidth','rtt','trial','cc','retx_'])\n",
    "df_retx = df_retx.fillna(0)\n",
    "df_retx = df_retx.pivot_table(columns='cc', index=['bufcap','bandwidth','rtt'], values=['retx_'], aggfunc='mean').reset_index() \n",
    "df_retx.columns = [''.join(col).strip() for col in df_retx.columns.values]"
   ],
   "id": "f50fb082-3d62-49f5-b880-0e2e84bce26c"
  },
  {
   "cell_type": "code",
   "execution_count": null,
   "metadata": {},
   "outputs": [],
   "source": [
    "dat_hm = df_retx[df_retx.bufcap==100].pivot(columns=[\"bandwidth\"], index=[\"rtt\"], values=\"retx_\"+exp_factors['cc'][0] )\n",
    "sns.set(font_scale=0.8)\n",
    "ax = sns.heatmap(dat_hm, annot=True, fmt=\".0f\", cmap=\"RdBu_r\", center=0)\n",
    "ax.invert_yaxis()\n",
    "ax.set_title(\"Retransmissions for \" + exp_factors['cc'][0].upper() + \", 100kB buffer\")\n",
    "plt.xlabel(\"RTT (in ms)\")\n",
    "plt.ylabel(\"Bandwidth (in Mbps)\")\n",
    "plt.show()"
   ],
   "id": "fe980160-c1c9-4a14-9f5b-6a398a67ee41"
  },
  {
   "cell_type": "code",
   "execution_count": null,
   "metadata": {},
   "outputs": [],
   "source": [
    "dat_hm = df_retx[df_retx.bufcap==100].pivot(columns=[\"bandwidth\"], index=[\"rtt\"], values=\"retx_\"+exp_factors['cc'][1] )\n",
    "sns.set(font_scale=0.8)\n",
    "ax = sns.heatmap(dat_hm, annot=True, fmt=\".0f\", cmap=\"RdBu_r\", center=0)\n",
    "ax.invert_yaxis()\n",
    "ax.set_title(\"Retransmissions for \" + exp_factors['cc'][1].upper() + \", 100kB buffer\")\n",
    "plt.xlabel(\"RTT (in ms)\")\n",
    "plt.ylabel(\"Bandwidth (in Mbps)\")\n",
    "plt.show()"
   ],
   "id": "6134dc4a-f7c5-472f-85c2-5c485cd1d340"
  },
  {
   "cell_type": "markdown",
   "metadata": {},
   "source": [
    "### Delete your slice"
   ],
   "id": "c0e3f9e4-a15d-4567-8f9a-105daded8e9f"
  },
  {
   "cell_type": "markdown",
   "metadata": {},
   "source": [
    "When you finish your experiment, you should delete your slice! The following cells deletes all the resources in your slice, freeing them for other experimenters."
   ],
   "id": "5b32567d-ad13-4439-bd6b-7917b2bc8f18"
  },
  {
   "cell_type": "code",
   "execution_count": null,
   "metadata": {},
   "outputs": [],
   "source": [
    "slice = fablib.get_slice(name=slice_name)\n",
    "fablib.delete_slice(slice_name)"
   ],
   "id": "f43e44dc-73a5-4ad1-bb19-8f15ee6e6a1b"
  },
  {
   "cell_type": "code",
   "execution_count": null,
   "metadata": {},
   "outputs": [],
   "source": [
    "# slice should end up in \"Dead\" state\n",
    "# re-run this cell until you see it in \"Dead\" state\n",
    "slice.update()\n",
    "_ = slice.show()"
   ],
   "id": "879f8a45-10b4-4351-ae05-fcb70a4a4812"
  }
 ],
 "nbformat": 4,
 "nbformat_minor": 5,
 "metadata": {}
}
