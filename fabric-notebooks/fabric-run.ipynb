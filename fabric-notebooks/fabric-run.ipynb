{
 "cells": [
  {
   "cell_type": "markdown",
   "metadata": {},
   "source": [
    "## Replication: When to use and when not to use BBR: An empirical analysis and evaluation study\n",
    "\n",
    "This experiment replicates Figure 5 of\n",
    "\n",
    "> Yi Cao, Arpit Jain, Kriti Sharma, Aruna Balasubramanian, and Anshul Gandhi. 2019. When to use and when not to use BBR: An empirical analysis and evaluation study. In Proceedings of the Internet Measurement Conference (IMC ’19). Association for Computing Machinery, New York, NY, USA, 130–136. https://doi.org/10.1145/3355369.3355579\n",
    "\n",
    "and also extends it to a more recent version of BBRv1 and to BBRv2."
   ],
   "id": "bd9caa66-715a-4bbb-985e-0b7a19c5629d"
  },
  {
   "cell_type": "markdown",
   "metadata": {},
   "source": [
    "To run this experiment:\n",
    "\n",
    "-   **Prerequisites**: You should have a FABRIC account, be part of a FABRIC project, and have configured your FABRIC Jupyter environment, as in [“Hello, FABRIC”](https://teaching-on-testbeds.github.io/blog/hello-fabric). Then, `git clone` this repository in the FABRIC JupyterHub environment, navigate to the “fabric-notebooks” directory, and open the “fabric-run.ipynb” file.\n",
    "-   **Configuration**: Next, you need to edit some parts of this notebook, depending on the version of the experiment you want to run.\n",
    "    -   In the “Define configuration for this experiment” section, set the `slice_name` prefix - slice names must be unique, so if you are running multiple slices in parallel (for example, to validate the result for the three BBR versions in parallel slices), make each have a unique name.\n",
    "    -   In the “Define configuration for this experiment” section, set the `image` variable - “default_ubuntu_18” to validate the result in the original paper (4.15 kernel), “default_ubuntu_22” for a newer BBRv1 (5.15 kernel), or “default_ubuntu_20” for BBRv2 (will use 5.13 kernel).\n",
    "    -   If you are evaluating BBRv2, in the “Extra configuration for this experiment” section set `is_bbr2` to `True`. (Otherwise, leave it as `False`.)\n",
    "    -   If you are evaluating BBRv2, in the “Execute experiment” section set the `cc` in the `exp_factors` dictionary to `[\"cubic\", \"bbr2\"]`. (Otherwise, leave it at `[\"cubic\", \"bbr\"]`.)\n",
    "-   **Execution**: Once you are ready, you’ll want to run all of the cells in this notebook in order. An easy way to do this is to scroll to the “Delete your slice” section at the end, click on the cell that has the title of this section, and choose Run \\> Run All Above Selected Cell from the JupyterHub menu to run all cells until this point.\n",
    "    -   In case there is a problem reserving resources (i.e. an infrastructure problem), you will want to delete your slice and try again. To do this, you would run the cells in the “Delete your slice” section, make sure your slice is deleted, then run the cells above that section again (using Run \\> Run All Above Selected Cell for convenience).\n",
    "    -   This full-factorial experiment design takes many hours to run. Once you have confirmed that the main loop in the “Execute experiment” section is running, you can leave this notebook running unattended.\n",
    "    -   Every 24 hours or less, your FABRIC JupyterHub session will time out, and you’ll need to resume execution. When you get the alert that your server has stopped, you should: (1) Force restart your JupyterHub server: File \\> Hub Control Panel \\> Stop My Server, then Start Server. (2) Re-run the first few code cells, until you see the output “You already have a slice by this name!”. (3) Scroll to the “Execute experiment” section and continue running cells in order from this point on."
   ],
   "id": "1a3c73d5-f504-45ac-85ef-c1cfaedd32d7"
  },
  {
   "cell_type": "markdown",
   "metadata": {},
   "source": [
    "### Configure environment"
   ],
   "id": "3366eb59-477c-4899-8f87-e2d3815618f3"
  },
  {
   "cell_type": "code",
   "execution_count": null,
   "metadata": {},
   "outputs": [],
   "source": [
    "from fabrictestbed_extensions.fablib.fablib import FablibManager as fablib_manager\n",
    "fablib = fablib_manager() \n",
    "conf = fablib.show_config()"
   ],
   "id": "53bf170f-f531-4d62-bffd-850099389324"
  },
  {
   "cell_type": "markdown",
   "metadata": {},
   "source": [
    "### Define configuration for this experiment"
   ],
   "id": "e859692d-08a3-45ad-ac24-3f2322e30194"
  },
  {
   "cell_type": "code",
   "execution_count": null,
   "metadata": {},
   "outputs": [],
   "source": [
    "slice_name=\"re-when-to-use-bbr-\" + fablib.get_bastion_username()\n",
    "\n",
    "# use default_ubuntu_22 for 5.15 kernel, default_ubuntu_18 for 4.15 kernel, default_ubuntu_20 for BBRv2\n",
    "image = 'default_ubuntu_22' \n",
    "\n",
    "node_conf = [\n",
    " {'name': \"h1\",  'cores': 4, 'ram': 16, 'disk': 500, 'image': image, 'packages': ['iperf3']}, \n",
    " {'name': \"h2\",  'cores': 4, 'ram': 16, 'disk': 10, 'image': image, 'packages': ['iperf3']}, \n",
    " {'name': \"h3\",  'cores': 4, 'ram': 16, 'disk': 10, 'image': image, 'packages': ['iperf3']}, \n",
    " {'name': \"tbf\", 'cores': 4, 'ram': 16, 'disk': 10, 'image': image, 'packages': []} \n",
    "]\n",
    "net_conf = [\n",
    " {\"name\": \"link1\", \"subnet\": \"10.10.1.0/24\", \"nodes\": [{\"name\": \"tbf\",   \"addr\": \"10.10.1.10\"}, {\"name\": \"h1\", \"addr\": \"10.10.1.1\"}]},\n",
    " {\"name\": \"link2\", \"subnet\": \"10.10.2.0/24\", \"nodes\": [{\"name\": \"tbf\",   \"addr\": \"10.10.2.10\"}, {\"name\": \"h2\", \"addr\": \"10.10.2.1\"}]},\n",
    " {\"name\": \"link3\", \"subnet\": \"10.10.3.0/24\", \"nodes\": [{\"name\": \"tbf\",   \"addr\": \"10.10.3.10\"}, {\"name\": \"h3\", \"addr\": \"10.10.3.1\"}]}\n",
    "]\n",
    "route_conf = [\n",
    " {\"addr\": \"10.10.3.0/24\", \"gw\": \"10.10.1.10\", \"nodes\": [\"h1\"]}, \n",
    " {\"addr\": \"10.10.3.0/24\", \"gw\": \"10.10.2.10\", \"nodes\": [\"h2\"]},  \n",
    " {\"addr\": \"10.10.1.0/24\", \"gw\": \"10.10.3.10\", \"nodes\": [\"h3\"]},  \n",
    " {\"addr\": \"10.10.2.0/24\", \"gw\": \"10.10.3.10\", \"nodes\": [\"h3\"]}\n",
    "]\n",
    "exp_conf = {'cores': sum([ n['cores'] for n in node_conf]), 'nic': sum([len(n['nodes']) for n in net_conf]) }"
   ],
   "id": "ebf8650b-ec45-46d1-96c6-64a3a8c609c3"
  },
  {
   "cell_type": "markdown",
   "metadata": {},
   "source": [
    "### Reserve resources\n",
    "\n",
    "Now, we are ready to reserve resources!"
   ],
   "id": "57bcd9a7-3ee3-49f9-861f-1df6400dbd89"
  },
  {
   "cell_type": "markdown",
   "metadata": {},
   "source": [
    "First, make sure you don’t already have a slice with this name:"
   ],
   "id": "d948b665-d29e-4b2b-9646-6d4c8a3f2514"
  },
  {
   "cell_type": "code",
   "execution_count": null,
   "metadata": {},
   "outputs": [],
   "source": [
    "try:\n",
    "    slice = fablib.get_slice(slice_name)\n",
    "    print(\"You already have a slice by this name!\")\n",
    "    print(\"If you previously reserved resources, skip to the 'log in to resources' section.\")\n",
    "except:\n",
    "    print(\"You don't have a slice named %s yet.\" % slice_name)\n",
    "    print(\"Continue to the next step to make one.\")\n",
    "    slice = fablib.new_slice(name=slice_name)"
   ],
   "id": "fbf1ecc8-5c63-4660-bf21-f584daf78a0e"
  },
  {
   "cell_type": "markdown",
   "metadata": {},
   "source": [
    "We will select a random site that has sufficient resources for our experiment:"
   ],
   "id": "716672e0-cb99-4e9b-8985-ba01d2469be9"
  },
  {
   "cell_type": "code",
   "execution_count": null,
   "metadata": {},
   "outputs": [],
   "source": [
    "while True:\n",
    "    site_name = fablib.get_random_site()\n",
    "    if ( (fablib.resources.get_core_available(site_name) > 1.2*exp_conf['cores']) and\n",
    "        (fablib.resources.get_component_available(site_name, 'SharedNIC-ConnectX-6') > 1.2**exp_conf['nic']) ):\n",
    "        break\n",
    "\n",
    "fablib.show_site(site_name)"
   ],
   "id": "4fab02bb-6dcd-4c4f-ae98-605fdf358b83"
  },
  {
   "cell_type": "markdown",
   "metadata": {},
   "source": [
    "Then we will add hosts and network segments:"
   ],
   "id": "235dec53-ad92-4b90-9d5f-e61c99f82e16"
  },
  {
   "cell_type": "code",
   "execution_count": null,
   "metadata": {},
   "outputs": [],
   "source": [
    "# this cell sets up the nodes\n",
    "for n in node_conf:\n",
    "    slice.add_node(name=n['name'], site=site_name, \n",
    "                   cores=n['cores'], \n",
    "                   ram=n['ram'], \n",
    "                   disk=n['disk'], \n",
    "                   image=n['image'])"
   ],
   "id": "66d673b0-50d3-4c2f-b234-36df94e011b5"
  },
  {
   "cell_type": "code",
   "execution_count": null,
   "metadata": {},
   "outputs": [],
   "source": [
    "# this cell sets up the network segments\n",
    "for n in net_conf:\n",
    "    ifaces = [slice.get_node(node[\"name\"]).add_component(model=\"NIC_Basic\", \n",
    "                                                 name=n[\"name\"]).get_interfaces()[0] for node in n['nodes'] ]\n",
    "    slice.add_l2network(name=n[\"name\"], type='L2Bridge', interfaces=ifaces)"
   ],
   "id": "bd696ce2-9f77-4a9b-b93f-0fb5f8b3fc74"
  },
  {
   "cell_type": "markdown",
   "metadata": {},
   "source": [
    "The following cell submits our request to the FABRIC site. The output of this cell will update automatically as the status of our request changes.\n",
    "\n",
    "-   While it is being prepared, the “State” of the slice will appear as “Configuring”.\n",
    "-   When it is ready, the “State” of the slice will change to “StableOK”.\n",
    "\n",
    "You may prefer to walk away and come back in a few minutes (for simple slices) or a few tens of minutes (for more complicated slices with many resources)."
   ],
   "id": "f0d9fa63-b724-4137-930d-a4967cea4ad3"
  },
  {
   "cell_type": "code",
   "execution_count": null,
   "metadata": {},
   "outputs": [],
   "source": [
    "slice.submit()"
   ],
   "id": "85f5e032-b8b2-40ee-abd3-db6bbd078f98"
  },
  {
   "cell_type": "code",
   "execution_count": null,
   "metadata": {},
   "outputs": [],
   "source": [
    "slice.get_state()\n",
    "slice.wait_ssh(progress=True)"
   ],
   "id": "cec0ce11-5dc0-405e-99c1-a8db1b0af9d0"
  },
  {
   "cell_type": "markdown",
   "metadata": {},
   "source": [
    "### Extend slice for one week"
   ],
   "id": "90093c02-66f3-4eed-b5b6-276aad97453f"
  },
  {
   "cell_type": "code",
   "execution_count": null,
   "metadata": {},
   "outputs": [],
   "source": [
    "from datetime import datetime\n",
    "from datetime import timezone\n",
    "from datetime import timedelta\n",
    "\n",
    "# Set end date to 7 days from now\n",
    "end_date = (datetime.now(timezone.utc) + timedelta(days=7)).strftime(\"%Y-%m-%d %H:%M:%S %z\")\n",
    "slice.renew(end_date)"
   ],
   "id": "8b507215-1c06-4278-b348-2ace734fc8ac"
  },
  {
   "cell_type": "code",
   "execution_count": null,
   "metadata": {},
   "outputs": [],
   "source": [
    "slice.update()\n",
    "_ = slice.show()"
   ],
   "id": "47bca45e-7caf-4286-99ef-e67c2fc03f18"
  },
  {
   "cell_type": "markdown",
   "metadata": {},
   "source": [
    "### Extra configuration for this experiment"
   ],
   "id": "5c054750-7128-4af6-9f24-849e403c71a7"
  },
  {
   "cell_type": "code",
   "execution_count": null,
   "metadata": {},
   "outputs": [],
   "source": [
    "# if you need to install BBR2 kernel, make this True\n",
    "is_bbr2 = False\n",
    "pkg_list = ['linux-headers-5.13.12_5.13.12-2_amd64.deb',\n",
    "            'linux-libc-dev_5.13.12-2_amd64.deb',\n",
    "            'linux-image-5.13.12_5.13.12-2_amd64.deb']\n",
    "if is_bbr2:\n",
    "    for node in slice.get_nodes():\n",
    "        for pkg in pkg_list:\n",
    "            node.upload_file(\"../setup/\" + pkg, \"/home/ubuntu/\" + pkg)\n",
    "        node.execute(\"sudo dpkg -i \" + \" \".join(pkg_list) + \"; sudo reboot\")\n",
    "\n",
    "        # if compiling from scratch.... which takes forever...\n",
    "        # node.execute(\"sudo apt update; sudo apt -y install libelf-dev libssl-dev libncurses-dev flex bison pkg-config gcc binutils ca-certificates build-essential\")\n",
    "        # node.execute(\"git clone -o google-bbr -b v2alpha  https://github.com/google/bbr.git\")\n",
    "        # node.upload_file(\"../setup/.config\", \"/home/ubuntu/bbr/.config\")\n",
    "        # node.execute(\"cd bbr; sudo make -j $(nproc) \")\n",
    "        # node.execute(\"cd bbr; sudo make modules -j $(nproc) \")\n",
    "        # node.execute(\"cd bbr; sudo make modules_install -j $(nproc) \")\n",
    "        # node.execute(\"cd bbr; sudo make install -j $(nproc) \")\n",
    "\n",
    "    # wait for all nodes to come back up\n",
    "    slice.wait_ssh(progress=True)\n",
    "    for node in slice.get_nodes():\n",
    "        node.execute(\"hostname; uname -a\")"
   ],
   "id": "0f6cb5ba-2389-4123-9bb5-04fc918f7261"
  },
  {
   "cell_type": "code",
   "execution_count": null,
   "metadata": {},
   "outputs": [],
   "source": [
    "# set socket read and write buffer on all endpoints to larger value\n",
    "for node in slice.get_nodes():\n",
    "    node.execute(\"sudo sysctl -w net.core.rmem_default=2147483647\")\n",
    "    node.execute(\"sudo sysctl -w net.core.wmem_default=2147483647\")\n",
    "    node.execute(\"sudo sysctl -w net.core.rmem_max=2147483647\")\n",
    "    node.execute(\"sudo sysctl -w net.core.wmem_max=2147483647\")"
   ],
   "id": "17878707-0d86-4ecd-822a-bfc6a313b7ba"
  },
  {
   "cell_type": "markdown",
   "metadata": {},
   "source": [
    "### Configure resources\n",
    "\n",
    "Next, we will configure the resources so they are ready to use."
   ],
   "id": "f035f073-8a46-4178-b503-82ebe2c55439"
  },
  {
   "cell_type": "code",
   "execution_count": null,
   "metadata": {},
   "outputs": [],
   "source": [
    "slice = fablib.get_slice(name=slice_name)"
   ],
   "id": "fd196244-1f82-42bf-9b72-71ee759a0f89"
  },
  {
   "cell_type": "code",
   "execution_count": null,
   "metadata": {},
   "outputs": [],
   "source": [
    "# install packages\n",
    "# this will take a while and will run in background while you do other steps\n",
    "for n in node_conf:\n",
    "    if len(n['packages']):\n",
    "        node = slice.get_node(n['name'])\n",
    "        pkg = \" \".join(n['packages'])\n",
    "        node.execute_thread(\"sudo apt update; sudo apt -y install %s\" % pkg)"
   ],
   "id": "748caea9-ea31-48d7-8fca-d8adae9c6787"
  },
  {
   "cell_type": "code",
   "execution_count": null,
   "metadata": {},
   "outputs": [],
   "source": [
    "# bring interfaces up and either assign an address (if there is one) or flush address\n",
    "from ipaddress import ip_address, IPv4Address, IPv4Network\n",
    "\n",
    "for net in net_conf:\n",
    "    for n in net['nodes']:\n",
    "        if_name = n['name'] + '-' + net['name'] + '-p1'\n",
    "        iface = slice.get_interface(if_name)\n",
    "        iface.ip_link_up()\n",
    "        if n['addr']:\n",
    "            iface.ip_addr_add(addr=n['addr'], subnet=IPv4Network(net['subnet']))\n",
    "        else:\n",
    "            iface.get_node().execute(\"sudo ip addr flush dev %s\"  % iface.get_device_name())"
   ],
   "id": "48caffd0-61d0-493f-9bd8-14e9decffabf"
  },
  {
   "cell_type": "code",
   "execution_count": null,
   "metadata": {},
   "outputs": [],
   "source": [
    "# prepare a \"hosts\" file that has names and addresses of every node\n",
    "hosts_txt = [ \"%s\\t%s\" % ( n['addr'], n['name'] ) for net in net_conf  for n in net['nodes'] if type(n) is dict and n['addr']]\n",
    "for n in slice.get_nodes():\n",
    "    for h in hosts_txt:\n",
    "        n.execute(\"echo %s | sudo tee -a /etc/hosts\" % h)"
   ],
   "id": "13b9b3ae-4bd9-40c6-94e4-b8aaa32dec80"
  },
  {
   "cell_type": "code",
   "execution_count": null,
   "metadata": {},
   "outputs": [],
   "source": [
    "# enable IPv4 forwarding on all nodes\n",
    "for n in slice.get_nodes():\n",
    "    n.execute(\"sudo sysctl -w net.ipv4.ip_forward=1\")"
   ],
   "id": "369bda34-7367-4ec3-9933-e8a15e3f3e5e"
  },
  {
   "cell_type": "code",
   "execution_count": null,
   "metadata": {},
   "outputs": [],
   "source": [
    "# set up static routes\n",
    "for rt in route_conf:\n",
    "    for n in rt['nodes']:\n",
    "        slice.get_node(name=n).ip_route_add(subnet=IPv4Network(rt['addr']), gateway=rt['gw'])"
   ],
   "id": "3ba5cc4a-ad89-4448-b5e9-3694ff28884f"
  },
  {
   "cell_type": "markdown",
   "metadata": {},
   "source": [
    "### Validate base network\n",
    "\n",
    "Before we run any experiment, we should check the “base” network - before adding any emulated delay or rate limiting - and make sure that it will not be a limiting factor in the experiment."
   ],
   "id": "e239f500-3fb9-4bd5-ad0f-deb3b619cf06"
  },
  {
   "cell_type": "code",
   "execution_count": null,
   "metadata": {},
   "outputs": [],
   "source": [
    "# check base delay\n",
    "slice.get_node(\"h1\").execute(\"ping -c 5 h3\")"
   ],
   "id": "c28aba0a-cd85-424e-9ef7-6999b833f38a"
  },
  {
   "cell_type": "code",
   "execution_count": null,
   "metadata": {},
   "outputs": [],
   "source": [
    "# check base capacity (by sending 10 parallel flows, look at their sum throughput)\n",
    "import time\n",
    "slice.get_node(\"h3\").execute(\"iperf3 -s -1 -D\")\n",
    "time.sleep(5)\n",
    "slice.get_node(\"h1\").execute(\"iperf3 -t 30 -i 10 -P 10 -c h3\")"
   ],
   "id": "021b79bd-2b24-4b11-9edf-c3c32be4f811"
  },
  {
   "cell_type": "code",
   "execution_count": null,
   "metadata": {},
   "outputs": [],
   "source": [
    "# also check Linux kernel version on sender\n",
    "slice.get_node(\"h1\").execute(\"uname -a\")"
   ],
   "id": "5d4def2e-85cc-44dc-9fbe-ac81fcf31561"
  },
  {
   "cell_type": "markdown",
   "metadata": {},
   "source": [
    "### Draw the network topology"
   ],
   "id": "55a79953-2d9f-41a2-ad61-e706acc5f79e"
  },
  {
   "cell_type": "markdown",
   "metadata": {},
   "source": [
    "The following cell will draw the network topology, for your reference. The interface name and addresses of each experiment interface will be shown on the drawing."
   ],
   "id": "138134c1-e3a7-4bf8-9572-2e4463c93e85"
  },
  {
   "cell_type": "code",
   "execution_count": null,
   "metadata": {},
   "outputs": [],
   "source": [
    "l2_nets = [(n.get_name(), {'color': 'lavender'}) for n in slice.get_l2networks() ]\n",
    "l3_nets = [(n.get_name(), {'color': 'pink'}) for n in slice.get_l3networks() ]\n",
    "hosts   =   [(n.get_name(), {'color': 'lightblue'}) for n in slice.get_nodes()]\n",
    "nodes = l2_nets + l3_nets + hosts\n",
    "ifaces = [iface.toDict() for iface in slice.get_interfaces()]\n",
    "edges = [(iface['network'], iface['node'], \n",
    "          {'label': iface['physical_dev'] + '\\n' + iface['ip_addr'] + '\\n' + iface['mac']}) for iface in ifaces]"
   ],
   "id": "f160a62a-a929-4d7f-bebf-7c035278b88d"
  },
  {
   "cell_type": "code",
   "execution_count": null,
   "metadata": {},
   "outputs": [],
   "source": [
    "import networkx as nx\n",
    "import matplotlib.pyplot as plt\n",
    "plt.figure(figsize=(len(nodes),len(nodes)))\n",
    "G = nx.Graph()\n",
    "G.add_nodes_from(nodes)\n",
    "G.add_edges_from(edges)\n",
    "pos = nx.spring_layout(G)\n",
    "nx.draw(G, pos, node_shape='s',  \n",
    "        node_color=[n[1]['color'] for n in nodes], \n",
    "        node_size=[len(n[0])*400 for n in nodes],  \n",
    "        with_labels=True);\n",
    "nx.draw_networkx_edge_labels(G,pos,\n",
    "                             edge_labels=nx.get_edge_attributes(G,'label'),\n",
    "                             font_color='gray',  font_size=8, rotate=False);"
   ],
   "id": "cc191c3a-64d2-459a-a04f-203e6e471fe0"
  },
  {
   "cell_type": "markdown",
   "metadata": {},
   "source": [
    "### Log into resources"
   ],
   "id": "169eb075-3f22-4087-b16d-3ecf64becea3"
  },
  {
   "cell_type": "markdown",
   "metadata": {},
   "source": [
    "Now, we are finally ready to log in to our resources over SSH! Run the following cells, and observe the table output - you will see an SSH command for each of the resources in your topology."
   ],
   "id": "22c91407-1536-4a4b-a211-847db2218a7f"
  },
  {
   "cell_type": "code",
   "execution_count": null,
   "metadata": {},
   "outputs": [],
   "source": [
    "import pandas as pd\n",
    "pd.set_option('display.max_colwidth', None)\n",
    "slice_info = [{'Name': n.get_name(), 'SSH command': n.get_ssh_command()} for n in slice.get_nodes()]\n",
    "pd.DataFrame(slice_info).set_index('Name')"
   ],
   "id": "811830a4-4353-4802-9589-70cf59d2dd9b"
  },
  {
   "cell_type": "markdown",
   "metadata": {},
   "source": [
    "Now, you can open an SSH session on any of the resources as follows:\n",
    "\n",
    "-   in Jupyter, from the menu bar, use File \\> New \\> Terminal to open a new terminal.\n",
    "-   copy an SSH command from the table, and paste it into the terminal. (Note that each SSH command is a single line, even if the display wraps the text to a second line! When you copy and paste it, paste it all together.)\n",
    "\n",
    "You can repeat this process (open several terminals) to start a session on each resource. Each terminal session will have a tab in the Jupyter environment, so that you can easily switch between them."
   ],
   "id": "40dc82c2-e191-4431-8d28-201377090bf5"
  },
  {
   "cell_type": "markdown",
   "metadata": {},
   "source": [
    "### Execute experiment"
   ],
   "id": "0e71a3b5-2607-4d9c-b4e6-f4b0d73bb5f5"
  },
  {
   "cell_type": "code",
   "execution_count": null,
   "metadata": {},
   "outputs": [],
   "source": [
    "# generate full factorial experiment\n",
    "import itertools\n",
    "exp_factors = { \n",
    "    'bufcap': [100, 10000],\n",
    "    'bandwidth': [10, 20, 50, 100, 250, 500, 750, 1000],\n",
    "    'rtt': [5, 10, 25, 50, 75, 100, 150, 200],\n",
    "    'cc': [\"cubic\", \"bbr\"],\n",
    "    'trial': [1,2,3,4,5]\n",
    "}\n",
    "factor_names = [k for k in exp_factors]\n",
    "factor_lists = list(itertools.product(*exp_factors.values()))\n",
    "exp_lists = [dict(zip(factor_names, factor_l)) for factor_l in factor_lists]"
   ],
   "id": "5c29ea7e-fe27-4cff-98af-5a03dc7f39bc"
  },
  {
   "cell_type": "code",
   "execution_count": null,
   "metadata": {},
   "outputs": [],
   "source": [
    "# get name of router interface that is 'toward' h1 - apply delay here\n",
    "# get name of router interface that is 'toward' h3 - apply rate limiting and buffer size limit here\n",
    "router_node = slice.get_node(name='tbf')\n",
    "router_ingress_iface = router_node.get_interface(network_name = \"link1\")\n",
    "router_ingress_name = router_ingress_iface.get_device_name()\n",
    "router_egress_iface  = router_node.get_interface(network_name = \"link3\")\n",
    "router_egress_name = router_egress_iface.get_device_name()"
   ],
   "id": "f9b6d870-fab4-418a-84a8-1ef78fda45ac"
  },
  {
   "cell_type": "code",
   "execution_count": null,
   "metadata": {},
   "outputs": [],
   "source": [
    "tx_node = slice.get_node(name=\"h1\")\n",
    "rx_node = slice.get_node(name=\"h3\")"
   ],
   "id": "7f1b787c-0f13-4b7b-8ba9-39ca6b8ee059"
  },
  {
   "cell_type": "code",
   "execution_count": null,
   "metadata": {},
   "outputs": [],
   "source": [
    "kernel = tx_node.execute(\"uname -r\")[0].strip()\n",
    "data_dir = kernel + \"_\" + exp_factors['cc'][0] + \"_\" + exp_factors['cc'][1]\n",
    "tx_node.execute(\"mkdir -p \" + data_dir)"
   ],
   "id": "c8b477ba-f6ed-4abf-aa4f-66042288b424"
  },
  {
   "cell_type": "code",
   "execution_count": null,
   "metadata": {},
   "outputs": [],
   "source": [
    "import time # to allow resume\n",
    "for exp in exp_lists:\n",
    "\n",
    "    # check if we already ran this experiment\n",
    "    # (allow stop/resume)\n",
    "    file_out = data_dir + \"/%d_%d_%d_%d_%s.txt\" % (exp['bufcap'], exp['bandwidth'], exp['rtt'], exp['trial'], exp['cc'])\n",
    "    stdout, stderr = tx_node.execute(\"ls \" + file_out, quiet=True)\n",
    "\n",
    "    if len(stdout):\n",
    "        print(\"Already have \" + file_out + \", skipping\")\n",
    "\n",
    "    elif len(stderr):\n",
    "        print(\"Running experiment to generate \" + file_out)\n",
    "\n",
    "        tx_node.execute(\"sudo modprobe tcp_\" + exp['cc'])\n",
    "        rx_node.execute(\"sudo modprobe tcp_\" + exp['cc']) # iperf3 on ubuntu 18.04 requires this if using BBR and setting window size..\n",
    "\n",
    "        router_node.execute(\"sudo tc qdisc del dev \" + router_ingress_name + \" root\")\n",
    "        router_node.execute(\"sudo tc qdisc del dev \" + router_egress_name + \" root\")\n",
    "\n",
    "        # set up RTT\n",
    "        router_node.execute(\"sudo tc qdisc replace dev \" + router_ingress_name + \" root netem delay \" + str(exp['rtt']) + \"ms\")\n",
    "        # set up rate limit, buffer limit\n",
    "        router_node.execute(\"sudo tc qdisc replace dev \" + router_egress_name + \" root handle 1: htb default 3\")\n",
    "        router_node.execute(\"sudo tc class add dev \" + router_egress_name + \" parent 1: classid 1:3 htb rate \" + str(exp['bandwidth']) + \"Mbit\")\n",
    "        router_node.execute(\"sudo tc qdisc add dev \" + router_egress_name + \" parent 1:3 bfifo limit \" + str(exp['bufcap']) + \"kb\")\n",
    "\n",
    "        time.sleep(10)\n",
    "        rx_node.execute(\"iperf3 -s -1 -D\")\n",
    "        tx_node.execute(\"iperf3 -V -c h3 -C \" + exp['cc'] + \" -t 60s -fk -w 20M --logfile \" + file_out, quiet=True)"
   ],
   "id": "70dbcac9-b6d0-48ab-a4b9-18a4793910fd"
  },
  {
   "cell_type": "markdown",
   "metadata": {},
   "source": [
    "### Analyze experiment results"
   ],
   "id": "41640d27-4ce1-49e3-a5dc-76d6e60ee034"
  },
  {
   "cell_type": "code",
   "execution_count": null,
   "metadata": {},
   "outputs": [],
   "source": [
    "!pip install seaborn"
   ],
   "id": "82388f2f-d0b5-44b9-9bd3-8294002e994b"
  },
  {
   "cell_type": "code",
   "execution_count": null,
   "metadata": {},
   "outputs": [],
   "source": [
    "import pandas as pd\n",
    "from io import StringIO\n",
    "import seaborn as sns \n",
    "import matplotlib.pyplot as plt"
   ],
   "id": "26ffbdef-de31-4f42-b199-59d29345030c"
  },
  {
   "cell_type": "code",
   "execution_count": null,
   "metadata": {},
   "outputs": [],
   "source": [
    "tput = tx_node.execute(\"cd \" + data_dir + \"; grep 'Kbits/sec.*receiver' *.txt | awk -F'[_ .]' '{print $1\\\",\\\"$2\\\",\\\"$3\\\",\\\"$4\\\",\\\"$5\\\",\\\"$21}' \"), quiet=True)"
   ],
   "id": "46f658a4-3988-4a14-bc8a-9c3804ada2cd"
  },
  {
   "cell_type": "code",
   "execution_count": null,
   "metadata": {},
   "outputs": [],
   "source": [
    "df_tput = pd.read_csv(StringIO(tput[0]), names = ['bufcap','bandwidth','rtt','trial','cc','goodput_'])\n",
    "# force it to drop bad runs\n",
    "df_tput['goodput_'] = pd.to_numeric(df_tput['goodput_'], errors='coerce').dropna()\n",
    "df_tput = df_tput.pivot_table(columns='cc', index=['bufcap','bandwidth','rtt'], values=['goodput_'], aggfunc='mean').reset_index() \n",
    "df_tput.columns = [''.join(col).strip() for col in df_tput.columns.values]\n",
    "df_tput = df_tput.assign(goodput_gain = 100*(df_tput['goodput_' + exp_factors['cc'][1]]-df_tput['goodput_' + exp_factors['cc'][0]])/df_tput['goodput_' + exp_factors['cc'][0]])"
   ],
   "id": "b06298ba-e999-4164-9c7f-41a92d03e508"
  },
  {
   "cell_type": "code",
   "execution_count": null,
   "metadata": {},
   "outputs": [],
   "source": [
    "dat_hm = df_tput[df_tput.bufcap==100].pivot(index=[\"bandwidth\"], columns=[\"rtt\"], values=\"goodput_gain\")\n",
    "sns.set(font_scale=0.8)\n",
    "ax = sns.heatmap(dat_hm, annot=True, fmt=\".1f\", cmap=\"RdBu_r\", center=0, vmin=-100, vmax=100)\n",
    "ax.invert_yaxis()\n",
    "ax.set_title(\"Goodput gain for \" + exp_factors['cc'][1].upper() + \" vs \" + exp_factors['cc'][0].upper() + \", 100KB buffer, \" + kernel + \" kernel\")\n",
    "plt.xlabel(\"RTT (in ms)\")\n",
    "plt.ylabel(\"Bandwidth (in Mbps)\")\n",
    "plt.show()"
   ],
   "id": "ba82ddca-bc5c-4d81-8717-46847d564f65"
  },
  {
   "cell_type": "code",
   "execution_count": null,
   "metadata": {},
   "outputs": [],
   "source": [
    "dat_hm = df_tput[df_tput.bufcap==10000].pivot(index=[\"bandwidth\"], columns=[\"rtt\"], values=\"goodput_gain\")\n",
    "sns.set(font_scale=0.8)\n",
    "ax = sns.heatmap(dat_hm, annot=True, fmt=\".1f\", cmap=\"RdBu_r\", center=0, vmin=-100, vmax=100)\n",
    "ax.invert_yaxis()\n",
    "ax.set_title(\"Goodput gain for \" + exp_factors['cc'][1].upper() + \" vs \" + exp_factors['cc'][0].upper() + \", 10MB buffer, \" + kernel + \" kernel\")\n",
    "plt.xlabel(\"RTT (in ms)\")\n",
    "plt.ylabel(\"Bandwidth (in Mbps)\")\n",
    "plt.show()"
   ],
   "id": "b159f22f-1179-45a0-a3bd-f33539e6144f"
  },
  {
   "cell_type": "code",
   "execution_count": null,
   "metadata": {},
   "outputs": [],
   "source": [
    "df_tput = pd.read_csv(StringIO(tput[0]), names = ['bufcap','bandwidth','rtt','trial','cc','goodput_'])\n",
    "df_tput['goodput_'] = pd.to_numeric(df_tput['goodput_'], errors='coerce').dropna()\n",
    "df_tput = df_tput.pivot_table(columns='cc', index=['bufcap','bandwidth','rtt'], values=['goodput_'], aggfunc='mean').reset_index() \n",
    "df_tput.columns = [''.join(col).strip() for col in df_tput.columns.values]\n",
    "df_tput = df_tput.assign(util = 100*(df_tput['goodput_' + exp_factors['cc'][0] ]/(df_tput['bandwidth']*1000)))\n",
    "dat_hm = df_tput[df_tput.bufcap==100].pivot(index=[\"bandwidth\"], columns=[\"rtt\"], values=\"util\")\n",
    "sns.set(font_scale=0.8)\n",
    "ax = sns.heatmap(dat_hm, annot=True, fmt=\".0f\", cmap=\"RdBu_r\", center=50, vmin=0, vmax=100)\n",
    "ax.invert_yaxis()\n",
    "ax.set_title(\"Utilization for \" + exp_factors['cc'][0].upper() + \", 100KB buffer, \" + kernel + \" kernel\")\n",
    "plt.xlabel(\"RTT (in ms)\")\n",
    "plt.ylabel(\"Bandwidth (in Mbps)\")\n",
    "plt.show()"
   ],
   "id": "cd87494d-ebb6-4a8d-91a1-42531d82b999"
  },
  {
   "cell_type": "code",
   "execution_count": null,
   "metadata": {},
   "outputs": [],
   "source": [
    "df_tput = pd.read_csv(StringIO(tput[0]), names = ['bufcap','bandwidth','rtt','trial','cc','goodput_'])\n",
    "df_tput['goodput_'] = pd.to_numeric(df_tput['goodput_'], errors='coerce').dropna()\n",
    "df_tput = df_tput.pivot_table(columns='cc', index=['bufcap','bandwidth','rtt'], values=['goodput_'], aggfunc='mean').reset_index() \n",
    "df_tput.columns = [''.join(col).strip() for col in df_tput.columns.values]\n",
    "df_tput = df_tput.assign(util = 100*(df_tput['goodput_' + exp_factors['cc'][0] ]/(df_tput['bandwidth']*1000)))\n",
    "dat_hm = df_tput[df_tput.bufcap==10000].pivot(index=[\"bandwidth\"], columns=[\"rtt\"], values=\"util\")\n",
    "sns.set(font_scale=0.8)\n",
    "ax = sns.heatmap(dat_hm, annot=True, fmt=\".0f\", cmap=\"RdBu_r\", center=50, vmin=0, vmax=100)\n",
    "ax.invert_yaxis()\n",
    "ax.set_title(\"Utilization for \" + exp_factors['cc'][0].upper() + \", 10MB buffer, \" + kernel + \" kernel\")\n",
    "plt.xlabel(\"RTT (in ms)\")\n",
    "plt.ylabel(\"Bandwidth (in Mbps)\")\n",
    "plt.show()"
   ],
   "id": "f8277f75-48f9-409b-8815-b4bf35dc127f"
  },
  {
   "cell_type": "code",
   "execution_count": null,
   "metadata": {},
   "outputs": [],
   "source": [
    "df_tput = pd.read_csv(StringIO(tput[0]), names = ['bufcap','bandwidth','rtt','trial','cc','goodput_'])\n",
    "df_tput['goodput_'] = pd.to_numeric(df_tput['goodput_'], errors='coerce').dropna()\n",
    "df_tput = df_tput.pivot_table(columns='cc', index=['bufcap','bandwidth','rtt'], values=['goodput_'], aggfunc='mean').reset_index() \n",
    "df_tput.columns = [''.join(col).strip() for col in df_tput.columns.values]\n",
    "df_tput = df_tput.assign(util = 100*(df_tput['goodput_' + exp_factors['cc'][1] ]/(df_tput['bandwidth']*1000)))\n",
    "dat_hm = df_tput[df_tput.bufcap==100].pivot(index=[\"bandwidth\"], columns=[\"rtt\"], values=\"util\")\n",
    "sns.set(font_scale=0.8)\n",
    "ax = sns.heatmap(dat_hm, annot=True, fmt=\".0f\", cmap=\"RdBu_r\", center=50, vmin=0, vmax=100)\n",
    "ax.invert_yaxis()\n",
    "ax.set_title(\"Utilization for \" + exp_factors['cc'][1].upper() + \", 100KB buffer, \" + kernel + \" kernel\")\n",
    "plt.xlabel(\"RTT (in ms)\")\n",
    "plt.ylabel(\"Bandwidth (in Mbps)\")\n",
    "plt.show()"
   ],
   "id": "50ec8ad2-abfa-48c3-a888-09164a3a9bf9"
  },
  {
   "cell_type": "code",
   "execution_count": null,
   "metadata": {},
   "outputs": [],
   "source": [
    "df_tput = pd.read_csv(StringIO(tput[0]), names = ['bufcap','bandwidth','rtt','trial','cc','goodput_'])\n",
    "df_tput['goodput_'] = pd.to_numeric(df_tput['goodput_'], errors='coerce').dropna()\n",
    "df_tput = df_tput.pivot_table(columns='cc', index=['bufcap','bandwidth','rtt'], values=['goodput_'], aggfunc='mean').reset_index() \n",
    "df_tput.columns = [''.join(col).strip() for col in df_tput.columns.values]\n",
    "df_tput = df_tput.assign(util = 100*(df_tput['goodput_' + exp_factors['cc'][1] ]/(df_tput['bandwidth']*1000)))\n",
    "dat_hm = df_tput[df_tput.bufcap==10000].pivot(index=[\"bandwidth\"], columns=[\"rtt\"], values=\"util\")\n",
    "sns.set(font_scale=0.8)\n",
    "ax = sns.heatmap(dat_hm, annot=True, fmt=\".0f\", cmap=\"RdBu_r\", center=50, vmin=0, vmax=100)\n",
    "ax.invert_yaxis()\n",
    "ax.set_title(\"Utilization for \" + exp_factors['cc'][1].upper() + \", 10MB buffer, \" + kernel + \" kernel\")\n",
    "plt.xlabel(\"RTT (in ms)\")\n",
    "plt.ylabel(\"Bandwidth (in Mbps)\")\n",
    "plt.show()"
   ],
   "id": "99e39a9d-5a7b-4e1c-a39b-a08f674d7f3b"
  },
  {
   "cell_type": "code",
   "execution_count": null,
   "metadata": {},
   "outputs": [],
   "source": [
    "retx = tx_node.execute(\"cd \" + data_dir + \"; grep 'Kbits/sec.*sender' *.txt | awk -F'[_ .]' '{print $1\\\",\\\"$2\\\",\\\"$3\\\",\\\"$4\\\",\\\"$5\\\",\\\"$24}' \", quiet=True)"
   ],
   "id": "85c521b0-f4fd-4685-a9a8-c237002f65c9"
  },
  {
   "cell_type": "code",
   "execution_count": null,
   "metadata": {},
   "outputs": [],
   "source": [
    "df_retx = pd.read_csv(StringIO(retx[0]), names = ['bufcap','bandwidth','rtt','trial','cc','retx_'])\n",
    "df_retx = df_retx.fillna(0)\n",
    "df_retx = df_retx.pivot_table(columns='cc', index=['bufcap','bandwidth','rtt'], values=['retx_'], aggfunc='mean').reset_index() \n",
    "df_retx.columns = [''.join(col).strip() for col in df_retx.columns.values]"
   ],
   "id": "c73d5fe9-1ba7-4f8a-97e9-802425132f2a"
  },
  {
   "cell_type": "code",
   "execution_count": null,
   "metadata": {},
   "outputs": [],
   "source": [
    "dat_hm = df_retx[df_retx.bufcap==100].pivot(index=[\"bandwidth\"], columns=[\"rtt\"], values=\"retx_\"+exp_factors['cc'][0] )\n",
    "sns.set(font_scale=0.8)\n",
    "ax = sns.heatmap(dat_hm, annot=True, fmt=\".0f\", cmap=\"RdBu_r\", center=0)\n",
    "ax.invert_yaxis()\n",
    "ax.set_title(\"Retransmissions for \" + exp_factors['cc'][0].upper() + \", 100kB buffer, \" + kernel + \" kernel\")\n",
    "plt.xlabel(\"RTT (in ms)\")\n",
    "plt.ylabel(\"Bandwidth (in Mbps)\")\n",
    "plt.show()"
   ],
   "id": "e39f0266-b81e-4840-8ed2-2526ca7b2aa9"
  },
  {
   "cell_type": "code",
   "execution_count": null,
   "metadata": {},
   "outputs": [],
   "source": [
    "dat_hm = df_retx[df_retx.bufcap==100].pivot(index=[\"bandwidth\"], columns=[\"rtt\"], values=\"retx_\"+exp_factors['cc'][1] )\n",
    "sns.set(font_scale=0.8)\n",
    "ax = sns.heatmap(dat_hm, annot=True, fmt=\".0f\", cmap=\"RdBu_r\", center=0)\n",
    "ax.invert_yaxis()\n",
    "ax.set_title(\"Retransmissions for \" + exp_factors['cc'][1].upper() + \", 100kB buffer, \" + kernel + \" kernel\")\n",
    "plt.xlabel(\"RTT (in ms)\")\n",
    "plt.ylabel(\"Bandwidth (in Mbps)\")\n",
    "plt.show()"
   ],
   "id": "7160b6bb-3c2a-4dde-9688-ba603acdeacb"
  },
  {
   "cell_type": "markdown",
   "metadata": {},
   "source": [
    "### Delete your slice"
   ],
   "id": "3c436fb1-f306-4f92-8058-da860a08bfb7"
  },
  {
   "cell_type": "markdown",
   "metadata": {},
   "source": [
    "When you finish your experiment, you should delete your slice! The following cells deletes all the resources in your slice, freeing them for other experimenters."
   ],
   "id": "f59e2416-cfe9-4c3b-bd41-c5a5afa911fd"
  },
  {
   "cell_type": "code",
   "execution_count": null,
   "metadata": {},
   "outputs": [],
   "source": [
    "slice = fablib.get_slice(name=slice_name)\n",
    "fablib.delete_slice(slice_name)"
   ],
   "id": "6bf7af69-b2fa-458a-b87b-af99d1742b97"
  },
  {
   "cell_type": "code",
   "execution_count": null,
   "metadata": {},
   "outputs": [],
   "source": [
    "# slice should end up in \"Dead\" state\n",
    "# re-run this cell until you see it in \"Dead\" state\n",
    "slice.update()\n",
    "_ = slice.show()"
   ],
   "id": "15995e98-1933-4267-97c6-0ee204d423c4"
  }
 ],
 "nbformat": 4,
 "nbformat_minor": 5,
 "metadata": {}
}
