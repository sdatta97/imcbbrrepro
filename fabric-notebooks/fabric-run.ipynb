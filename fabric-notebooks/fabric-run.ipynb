{
 "cells": [
  {
   "cell_type": "markdown",
   "metadata": {},
   "source": [
    "## Replication: When to use and when not to use BBR: An empirical analysis and evaluation study\n",
    "\n",
    "This experiment replicates Figure 5 of\n",
    "\n",
    "> Yi Cao, Arpit Jain, Kriti Sharma, Aruna Balasubramanian, and Anshul Gandhi. 2019. When to use and when not to use BBR: An empirical analysis and evaluation study. In Proceedings of the Internet Measurement Conference (IMC ’19). Association for Computing Machinery, New York, NY, USA, 130–136. https://doi.org/10.1145/3355369.3355579\n",
    "\n",
    "and also extends it to a more recent version of BBRv1 and to BBRv2."
   ],
   "id": "8764df61-a8b1-4ecf-8f4e-011cc24b9f93"
  },
  {
   "cell_type": "markdown",
   "metadata": {},
   "source": [
    "To run this experiment:\n",
    "\n",
    "-   **Prerequisites**: You should have a FABRIC account, be part of a FABRIC project, and have configured your FABRIC Jupyter environment, as in [“Hello, FABRIC”](https://teaching-on-testbeds.github.io/blog/hello-fabric). Then, `git clone` this repository in the FABRIC JupyterHub environment, navigate to the “fabric-notebooks” directory, and open the “fabric-run.ipynb” file.\n",
    "-   **Configuration**: Next, you need to edit some parts of this notebook, depending on the version of the experiment you want to run.\n",
    "    -   In the “Define configuration for this experiment” section, set the `slice_name` prefix - slice names must be unique, so if you are running multiple slices in parallel (for example, to validate the result for the three BBR versions in parallel slices), make each have a unique name.\n",
    "    -   In the “Define configuration for this experiment” section, set the `image` variable - “default_ubuntu_18” to validate the result in the original paper (4.15 kernel), “default_ubuntu_22” for a newer BBRv1 (5.15 kernel), or “default_ubuntu_20” for BBRv2 (will use 5.13 kernel).\n",
    "    -   If you are evaluating BBRv2, in the “Extra configuration for this experiment” section set `is_bbr2` to `True`. (Otherwise, leave it as `False`.)\n",
    "    -   If you are evaluating BBRv2, in the “Execute experiment” section set the `cc` in the `exp_factors` dictionary to `[\"cubic\", \"bbr2\"]`. (Otherwise, leave it at `[\"cubic\", \"bbr\"]`.)\n",
    "    -   If you are running multiple versions of this notebook in parallel, it’s easiest to duplicate the notebook (right-click on the file in the JupyterHub file browser, choose Duplicate), configure the copy as described above, and execute the copy.\n",
    "-   **Execution**: Once you are ready, you’ll want to run all of the cells in this notebook in order. An easy way to do this is to scroll to the “Delete your slice” section at the end, click on the cell that has the title of this section, and choose Run \\> Run All Above Selected Cell from the JupyterHub menu to run all cells until this point.\n",
    "    -   In case there is a problem reserving resources (i.e. an infrastructure problem), you will want to delete your slice and try again. To do this, you would run the cells in the “Delete your slice” section, make sure your slice is deleted, then run the cells above that section again (using Run \\> Run All Above Selected Cell for convenience).\n",
    "    -   This full-factorial experiment design takes many hours to run. Once you have confirmed that the main loop in the “Execute experiment” section is running, you can leave this notebook running unattended.\n",
    "    -   Every 24 hours or less, your FABRIC JupyterHub session will time out, and you’ll need to resume execution. When you get the alert that your server has stopped, you should: (1) Force restart your JupyterHub server: File \\> Hub Control Panel \\> Stop My Server, then Start Server. (2) Re-run the first few code cells, until you see the output “You already have a slice by this name!”. (3) Scroll to the “Execute experiment” section and continue running cells in order from this point on."
   ],
   "id": "7b05a24b-d503-4b57-8f04-5d10a0f4945b"
  },
  {
   "cell_type": "markdown",
   "metadata": {},
   "source": [
    "### Configure environment"
   ],
   "id": "68de8337-ae23-4d18-9d5f-779ee111bbd9"
  },
  {
   "cell_type": "code",
   "execution_count": null,
   "metadata": {},
   "outputs": [],
   "source": [
    "from fabrictestbed_extensions.fablib.fablib import FablibManager as fablib_manager\n",
    "fablib = fablib_manager() \n",
    "conf = fablib.show_config()"
   ],
   "id": "301e56b4-8223-4e37-9f6b-cf09773d7216"
  },
  {
   "cell_type": "markdown",
   "metadata": {},
   "source": [
    "### Define configuration for this experiment"
   ],
   "id": "6eac258a-aeb2-49c6-b40e-8e07467df0f9"
  },
  {
   "cell_type": "code",
   "execution_count": null,
   "metadata": {},
   "outputs": [],
   "source": [
    "slice_name=\"re-when-to-use-bbr-\" + fablib.get_bastion_username()\n",
    "\n",
    "# use default_ubuntu_22 for 5.15 kernel, default_ubuntu_18 for 4.15 kernel, default_ubuntu_20 for BBRv2\n",
    "image = 'default_ubuntu_22' \n",
    "\n",
    "node_conf = [\n",
    " {'name': \"h1\",  'cores': 4, 'ram': 16, 'disk': 500, 'image': image, 'packages': ['iperf3']}, \n",
    " {'name': \"h2\",  'cores': 4, 'ram': 16, 'disk': 10, 'image': image, 'packages': ['iperf3']}, \n",
    " {'name': \"h3\",  'cores': 4, 'ram': 16, 'disk': 10, 'image': image, 'packages': ['iperf3']}, \n",
    " {'name': \"tbf\", 'cores': 4, 'ram': 16, 'disk': 10, 'image': image, 'packages': []} \n",
    "]\n",
    "net_conf = [\n",
    " {\"name\": \"link1\", \"subnet\": \"10.10.1.0/24\", \"nodes\": [{\"name\": \"tbf\",   \"addr\": \"10.10.1.10\"}, {\"name\": \"h1\", \"addr\": \"10.10.1.1\"}]},\n",
    " {\"name\": \"link2\", \"subnet\": \"10.10.2.0/24\", \"nodes\": [{\"name\": \"tbf\",   \"addr\": \"10.10.2.10\"}, {\"name\": \"h2\", \"addr\": \"10.10.2.1\"}]},\n",
    " {\"name\": \"link3\", \"subnet\": \"10.10.3.0/24\", \"nodes\": [{\"name\": \"tbf\",   \"addr\": \"10.10.3.10\"}, {\"name\": \"h3\", \"addr\": \"10.10.3.1\"}]}\n",
    "]\n",
    "route_conf = [\n",
    " {\"addr\": \"10.10.3.0/24\", \"gw\": \"10.10.1.10\", \"nodes\": [\"h1\"]}, \n",
    " {\"addr\": \"10.10.3.0/24\", \"gw\": \"10.10.2.10\", \"nodes\": [\"h2\"]},  \n",
    " {\"addr\": \"10.10.1.0/24\", \"gw\": \"10.10.3.10\", \"nodes\": [\"h3\"]},  \n",
    " {\"addr\": \"10.10.2.0/24\", \"gw\": \"10.10.3.10\", \"nodes\": [\"h3\"]}\n",
    "]\n",
    "exp_conf = {'cores': sum([ n['cores'] for n in node_conf]), 'nic': sum([len(n['nodes']) for n in net_conf]) }"
   ],
   "id": "14524505-fd22-4bc3-9c21-35e99fba8b0f"
  },
  {
   "cell_type": "markdown",
   "metadata": {},
   "source": [
    "### Reserve resources\n",
    "\n",
    "Now, we are ready to reserve resources!"
   ],
   "id": "d8075828-2aa2-4937-9539-3b47a9bd3fa2"
  },
  {
   "cell_type": "markdown",
   "metadata": {},
   "source": [
    "First, make sure you don’t already have a slice with this name:"
   ],
   "id": "ce0be99c-1ca8-465b-9e64-6b96cb6ea269"
  },
  {
   "cell_type": "code",
   "execution_count": null,
   "metadata": {},
   "outputs": [],
   "source": [
    "try:\n",
    "    slice = fablib.get_slice(slice_name)\n",
    "    print(\"You already have a slice by this name!\")\n",
    "    print(\"If you previously reserved resources, skip to the 'log in to resources' section.\")\n",
    "except:\n",
    "    print(\"You don't have a slice named %s yet.\" % slice_name)\n",
    "    print(\"Continue to the next step to make one.\")\n",
    "    slice = fablib.new_slice(name=slice_name)"
   ],
   "id": "dbc7b370-d94b-47d8-9dac-75117b52bc39"
  },
  {
   "cell_type": "markdown",
   "metadata": {},
   "source": [
    "We will select a random site that has sufficient resources for our experiment:"
   ],
   "id": "df19b866-c0db-416e-842f-408b9c532b54"
  },
  {
   "cell_type": "code",
   "execution_count": null,
   "metadata": {},
   "outputs": [],
   "source": [
    "while True:\n",
    "    site_name = fablib.get_random_site()\n",
    "    if ( (fablib.resources.get_core_available(site_name) > 1.2*exp_conf['cores']) and\n",
    "        (fablib.resources.get_component_available(site_name, 'SharedNIC-ConnectX-6') > 1.2**exp_conf['nic']) ):\n",
    "        break\n",
    "\n",
    "fablib.show_site(site_name)"
   ],
   "id": "102d3b87-8217-4ff1-87a4-97b13691a99e"
  },
  {
   "cell_type": "markdown",
   "metadata": {},
   "source": [
    "Then we will add hosts and network segments:"
   ],
   "id": "5741eab5-c86e-4f61-b901-b75d7a7f8a57"
  },
  {
   "cell_type": "code",
   "execution_count": null,
   "metadata": {},
   "outputs": [],
   "source": [
    "# this cell sets up the nodes\n",
    "for n in node_conf:\n",
    "    slice.add_node(name=n['name'], site=site_name, \n",
    "                   cores=n['cores'], \n",
    "                   ram=n['ram'], \n",
    "                   disk=n['disk'], \n",
    "                   image=n['image'])"
   ],
   "id": "f6f0453b-3eea-407e-bdb7-9ab1521e177c"
  },
  {
   "cell_type": "code",
   "execution_count": null,
   "metadata": {},
   "outputs": [],
   "source": [
    "# this cell sets up the network segments\n",
    "for n in net_conf:\n",
    "    ifaces = [slice.get_node(node[\"name\"]).add_component(model=\"NIC_Basic\", \n",
    "                                                 name=n[\"name\"]).get_interfaces()[0] for node in n['nodes'] ]\n",
    "    slice.add_l2network(name=n[\"name\"], type='L2Bridge', interfaces=ifaces)"
   ],
   "id": "f7bf9961-8bed-4991-aca6-31dd0c0be0cf"
  },
  {
   "cell_type": "markdown",
   "metadata": {},
   "source": [
    "The following cell submits our request to the FABRIC site. The output of this cell will update automatically as the status of our request changes.\n",
    "\n",
    "-   While it is being prepared, the “State” of the slice will appear as “Configuring”.\n",
    "-   When it is ready, the “State” of the slice will change to “StableOK”.\n",
    "\n",
    "You may prefer to walk away and come back in a few minutes (for simple slices) or a few tens of minutes (for more complicated slices with many resources)."
   ],
   "id": "61e6b046-9a34-4f7c-bca2-610147e9fbfc"
  },
  {
   "cell_type": "code",
   "execution_count": null,
   "metadata": {},
   "outputs": [],
   "source": [
    "slice.submit()"
   ],
   "id": "7df96f4f-dc82-4773-96e6-5677308ccb10"
  },
  {
   "cell_type": "code",
   "execution_count": null,
   "metadata": {},
   "outputs": [],
   "source": [
    "slice.get_state()\n",
    "slice.wait_ssh(progress=True)"
   ],
   "id": "9069921d-2786-45b9-b471-f3c4e60e30f7"
  },
  {
   "cell_type": "markdown",
   "metadata": {},
   "source": [
    "### Extend slice for one week"
   ],
   "id": "33b10983-d073-4cf8-bb5d-672d9db37924"
  },
  {
   "cell_type": "code",
   "execution_count": null,
   "metadata": {},
   "outputs": [],
   "source": [
    "from datetime import datetime\n",
    "from datetime import timezone\n",
    "from datetime import timedelta\n",
    "\n",
    "# Set end date to 7 days from now\n",
    "end_date = (datetime.now(timezone.utc) + timedelta(days=7)).strftime(\"%Y-%m-%d %H:%M:%S %z\")\n",
    "slice.renew(end_date)"
   ],
   "id": "be0f65c8-82f6-457d-a980-863dc94dc54a"
  },
  {
   "cell_type": "code",
   "execution_count": null,
   "metadata": {},
   "outputs": [],
   "source": [
    "slice.update()\n",
    "_ = slice.show()"
   ],
   "id": "c9d51028-2b51-4cfb-95a6-df76c60d5c7c"
  },
  {
   "cell_type": "markdown",
   "metadata": {},
   "source": [
    "### Extra configuration for this experiment"
   ],
   "id": "f996bb4b-ce9f-4083-8bab-f9d539a89fbe"
  },
  {
   "cell_type": "code",
   "execution_count": null,
   "metadata": {},
   "outputs": [],
   "source": [
    "# if you need to install BBR2 kernel, make this True\n",
    "is_bbr2 = False\n",
    "pkg_list = ['linux-headers-5.13.12_5.13.12-2_amd64.deb',\n",
    "            'linux-libc-dev_5.13.12-2_amd64.deb',\n",
    "            'linux-image-5.13.12_5.13.12-2_amd64.deb']\n",
    "if is_bbr2:\n",
    "    for node in slice.get_nodes():\n",
    "        for pkg in pkg_list:\n",
    "            node.upload_file(\"../setup/\" + pkg, \"/home/ubuntu/\" + pkg)\n",
    "        node.execute(\"sudo dpkg -i \" + \" \".join(pkg_list) + \"; sudo reboot\")\n",
    "\n",
    "        # if compiling from scratch.... which takes forever...\n",
    "        # node.execute(\"sudo apt update; sudo apt -y install libelf-dev libssl-dev libncurses-dev flex bison pkg-config gcc binutils ca-certificates build-essential\")\n",
    "        # node.execute(\"git clone -o google-bbr -b v2alpha  https://github.com/google/bbr.git\")\n",
    "        # node.upload_file(\"../setup/.config\", \"/home/ubuntu/bbr/.config\")\n",
    "        # node.execute(\"cd bbr; sudo make -j $(nproc) \")\n",
    "        # node.execute(\"cd bbr; sudo make modules -j $(nproc) \")\n",
    "        # node.execute(\"cd bbr; sudo make modules_install -j $(nproc) \")\n",
    "        # node.execute(\"cd bbr; sudo make install -j $(nproc) \")\n",
    "\n",
    "    # wait for all nodes to come back up\n",
    "    slice.wait_ssh(progress=True)\n",
    "    for node in slice.get_nodes():\n",
    "        node.execute(\"hostname; uname -a\")"
   ],
   "id": "0ba18d72-5cb1-4707-93ee-03c3f0ab6aa0"
  },
  {
   "cell_type": "code",
   "execution_count": null,
   "metadata": {},
   "outputs": [],
   "source": [
    "# set socket read and write buffer on all endpoints to larger value\n",
    "for node in slice.get_nodes():\n",
    "    node.execute(\"sudo sysctl -w net.core.rmem_default=2147483647\")\n",
    "    node.execute(\"sudo sysctl -w net.core.wmem_default=2147483647\")\n",
    "    node.execute(\"sudo sysctl -w net.core.rmem_max=2147483647\")\n",
    "    node.execute(\"sudo sysctl -w net.core.wmem_max=2147483647\")"
   ],
   "id": "d3769a50-451d-4ed6-8584-d133b7488f59"
  },
  {
   "cell_type": "markdown",
   "metadata": {},
   "source": [
    "### Configure resources\n",
    "\n",
    "Next, we will configure the resources so they are ready to use."
   ],
   "id": "3b809351-a669-4bbb-9d76-f27f1be5abff"
  },
  {
   "cell_type": "code",
   "execution_count": null,
   "metadata": {},
   "outputs": [],
   "source": [
    "slice = fablib.get_slice(name=slice_name)"
   ],
   "id": "acf68759-2840-4d73-9139-b89841339b8e"
  },
  {
   "cell_type": "code",
   "execution_count": null,
   "metadata": {},
   "outputs": [],
   "source": [
    "# install packages\n",
    "# this will take a while and will run in background while you do other steps\n",
    "for n in node_conf:\n",
    "    if len(n['packages']):\n",
    "        node = slice.get_node(n['name'])\n",
    "        pkg = \" \".join(n['packages'])\n",
    "        node.execute_thread(\"sudo apt update; sudo apt -y install %s\" % pkg)"
   ],
   "id": "b0e30c55-90e7-4984-aade-9fe5ff30ac4c"
  },
  {
   "cell_type": "code",
   "execution_count": null,
   "metadata": {},
   "outputs": [],
   "source": [
    "# bring interfaces up and either assign an address (if there is one) or flush address\n",
    "from ipaddress import ip_address, IPv4Address, IPv4Network\n",
    "\n",
    "for net in net_conf:\n",
    "    for n in net['nodes']:\n",
    "        if_name = n['name'] + '-' + net['name'] + '-p1'\n",
    "        iface = slice.get_interface(if_name)\n",
    "        iface.ip_link_up()\n",
    "        if n['addr']:\n",
    "            iface.ip_addr_add(addr=n['addr'], subnet=IPv4Network(net['subnet']))\n",
    "        else:\n",
    "            iface.get_node().execute(\"sudo ip addr flush dev %s\"  % iface.get_device_name())"
   ],
   "id": "77edcc3f-0669-4577-a33d-8ed9b4c709c7"
  },
  {
   "cell_type": "code",
   "execution_count": null,
   "metadata": {},
   "outputs": [],
   "source": [
    "# prepare a \"hosts\" file that has names and addresses of every node\n",
    "hosts_txt = [ \"%s\\t%s\" % ( n['addr'], n['name'] ) for net in net_conf  for n in net['nodes'] if type(n) is dict and n['addr']]\n",
    "for n in slice.get_nodes():\n",
    "    for h in hosts_txt:\n",
    "        n.execute(\"echo %s | sudo tee -a /etc/hosts\" % h)"
   ],
   "id": "436ebab5-2864-4eeb-acd4-d01d7e52d665"
  },
  {
   "cell_type": "code",
   "execution_count": null,
   "metadata": {},
   "outputs": [],
   "source": [
    "# enable IPv4 forwarding on all nodes\n",
    "for n in slice.get_nodes():\n",
    "    n.execute(\"sudo sysctl -w net.ipv4.ip_forward=1\")"
   ],
   "id": "8f94a97a-b46b-41c2-a3b2-fa0a6b738316"
  },
  {
   "cell_type": "code",
   "execution_count": null,
   "metadata": {},
   "outputs": [],
   "source": [
    "# set up static routes\n",
    "for rt in route_conf:\n",
    "    for n in rt['nodes']:\n",
    "        slice.get_node(name=n).ip_route_add(subnet=IPv4Network(rt['addr']), gateway=rt['gw'])"
   ],
   "id": "7d19e47a-7576-4039-be0c-7f24b127d2e1"
  },
  {
   "cell_type": "markdown",
   "metadata": {},
   "source": [
    "### Validate base network\n",
    "\n",
    "Before we run any experiment, we should check the “base” network - before adding any emulated delay or rate limiting - and make sure that it will not be a limiting factor in the experiment."
   ],
   "id": "791c1b4f-3d13-4720-99e6-a5b5cc3efa03"
  },
  {
   "cell_type": "code",
   "execution_count": null,
   "metadata": {},
   "outputs": [],
   "source": [
    "# check base delay\n",
    "slice.get_node(\"h1\").execute(\"ping -c 5 h3\")"
   ],
   "id": "c776db2a-b842-4d7d-a2d9-39f0536c95b9"
  },
  {
   "cell_type": "code",
   "execution_count": null,
   "metadata": {},
   "outputs": [],
   "source": [
    "# check base capacity (by sending 10 parallel flows, look at their sum throughput)\n",
    "import time\n",
    "slice.get_node(\"h3\").execute(\"iperf3 -s -1 -D\")\n",
    "time.sleep(5)\n",
    "slice.get_node(\"h1\").execute(\"iperf3 -t 30 -i 10 -P 10 -c h3\")"
   ],
   "id": "f300fcff-49f1-4fe4-b803-ec4b45f5e535"
  },
  {
   "cell_type": "code",
   "execution_count": null,
   "metadata": {},
   "outputs": [],
   "source": [
    "# also check Linux kernel version on sender\n",
    "slice.get_node(\"h1\").execute(\"uname -a\")"
   ],
   "id": "48408005-c731-4731-8852-7433f1d462e5"
  },
  {
   "cell_type": "markdown",
   "metadata": {},
   "source": [
    "### Draw the network topology"
   ],
   "id": "91d1a18b-495c-49ed-a944-458480116610"
  },
  {
   "cell_type": "markdown",
   "metadata": {},
   "source": [
    "The following cell will draw the network topology, for your reference. The interface name and addresses of each experiment interface will be shown on the drawing."
   ],
   "id": "b51b215f-b75b-472e-ba43-97c72e8e1e92"
  },
  {
   "cell_type": "code",
   "execution_count": null,
   "metadata": {},
   "outputs": [],
   "source": [
    "l2_nets = [(n.get_name(), {'color': 'lavender'}) for n in slice.get_l2networks() ]\n",
    "l3_nets = [(n.get_name(), {'color': 'pink'}) for n in slice.get_l3networks() ]\n",
    "hosts   =   [(n.get_name(), {'color': 'lightblue'}) for n in slice.get_nodes()]\n",
    "nodes = l2_nets + l3_nets + hosts\n",
    "ifaces = [iface.toDict() for iface in slice.get_interfaces()]\n",
    "edges = [(iface['network'], iface['node'], \n",
    "          {'label': iface['physical_dev'] + '\\n' + iface['ip_addr'] + '\\n' + iface['mac']}) for iface in ifaces]"
   ],
   "id": "93ee90fa-f267-4022-83a9-19675178d5a5"
  },
  {
   "cell_type": "code",
   "execution_count": null,
   "metadata": {},
   "outputs": [],
   "source": [
    "import networkx as nx\n",
    "import matplotlib.pyplot as plt\n",
    "plt.figure(figsize=(len(nodes),len(nodes)))\n",
    "G = nx.Graph()\n",
    "G.add_nodes_from(nodes)\n",
    "G.add_edges_from(edges)\n",
    "pos = nx.spring_layout(G)\n",
    "nx.draw(G, pos, node_shape='s',  \n",
    "        node_color=[n[1]['color'] for n in nodes], \n",
    "        node_size=[len(n[0])*400 for n in nodes],  \n",
    "        with_labels=True);\n",
    "nx.draw_networkx_edge_labels(G,pos,\n",
    "                             edge_labels=nx.get_edge_attributes(G,'label'),\n",
    "                             font_color='gray',  font_size=8, rotate=False);"
   ],
   "id": "f84fced6-5790-48a9-aafe-50dd1b3331f7"
  },
  {
   "cell_type": "markdown",
   "metadata": {},
   "source": [
    "### Log into resources"
   ],
   "id": "91b1b014-7868-4ffb-b292-280a1a0d8e30"
  },
  {
   "cell_type": "markdown",
   "metadata": {},
   "source": [
    "Now, we are finally ready to log in to our resources over SSH! Run the following cells, and observe the table output - you will see an SSH command for each of the resources in your topology."
   ],
   "id": "3b652f53-1e59-47ce-9c2c-b9500883270d"
  },
  {
   "cell_type": "code",
   "execution_count": null,
   "metadata": {},
   "outputs": [],
   "source": [
    "import pandas as pd\n",
    "pd.set_option('display.max_colwidth', None)\n",
    "slice_info = [{'Name': n.get_name(), 'SSH command': n.get_ssh_command()} for n in slice.get_nodes()]\n",
    "pd.DataFrame(slice_info).set_index('Name')"
   ],
   "id": "44751493-c748-4c1e-abb2-c08e9076b8e1"
  },
  {
   "cell_type": "markdown",
   "metadata": {},
   "source": [
    "Now, you can open an SSH session on any of the resources as follows:\n",
    "\n",
    "-   in Jupyter, from the menu bar, use File \\> New \\> Terminal to open a new terminal.\n",
    "-   copy an SSH command from the table, and paste it into the terminal. (Note that each SSH command is a single line, even if the display wraps the text to a second line! When you copy and paste it, paste it all together.)\n",
    "\n",
    "You can repeat this process (open several terminals) to start a session on each resource. Each terminal session will have a tab in the Jupyter environment, so that you can easily switch between them."
   ],
   "id": "ce8270f7-b89f-40cf-b30c-3a8f2f711680"
  },
  {
   "cell_type": "markdown",
   "metadata": {},
   "source": [
    "### Execute experiment"
   ],
   "id": "ad40d167-21ee-4bb0-8a27-e1d62536db6f"
  },
  {
   "cell_type": "code",
   "execution_count": null,
   "metadata": {},
   "outputs": [],
   "source": [
    "# generate full factorial experiment\n",
    "import itertools\n",
    "exp_factors = { \n",
    "    'bufcap': [100, 10000],\n",
    "    'bandwidth': [10, 20, 50, 100, 250, 500, 750, 1000],\n",
    "    'rtt': [5, 10, 25, 50, 75, 100, 150, 200],\n",
    "    'cc': [\"cubic\", \"bbr\"],\n",
    "    'trial': [1,2,3,4,5]\n",
    "}\n",
    "factor_names = [k for k in exp_factors]\n",
    "factor_lists = list(itertools.product(*exp_factors.values()))\n",
    "exp_lists = [dict(zip(factor_names, factor_l)) for factor_l in factor_lists]"
   ],
   "id": "b26cba11-b38b-48de-bd3a-bfc515f7b2cd"
  },
  {
   "cell_type": "code",
   "execution_count": null,
   "metadata": {},
   "outputs": [],
   "source": [
    "# get name of router interface that is 'toward' h1 - apply delay here\n",
    "# get name of router interface that is 'toward' h3 - apply rate limiting and buffer size limit here\n",
    "router_node = slice.get_node(name='tbf')\n",
    "router_ingress_iface = router_node.get_interface(network_name = \"link1\")\n",
    "router_ingress_name = router_ingress_iface.get_device_name()\n",
    "router_egress_iface  = router_node.get_interface(network_name = \"link3\")\n",
    "router_egress_name = router_egress_iface.get_device_name()"
   ],
   "id": "c447899a-7bae-48b7-8d6c-a256488a2d67"
  },
  {
   "cell_type": "code",
   "execution_count": null,
   "metadata": {},
   "outputs": [],
   "source": [
    "tx_node = slice.get_node(name=\"h1\")\n",
    "rx_node = slice.get_node(name=\"h3\")"
   ],
   "id": "537b80b3-22a4-40d3-be07-5f39fcded321"
  },
  {
   "cell_type": "code",
   "execution_count": null,
   "metadata": {},
   "outputs": [],
   "source": [
    "kernel = tx_node.execute(\"uname -r\")[0].strip()\n",
    "data_dir = kernel + \"_\" + exp_factors['cc'][0] + \"_\" + exp_factors['cc'][1]\n",
    "tx_node.execute(\"mkdir -p \" + data_dir)"
   ],
   "id": "180ed63a-d6f2-4f2c-9394-fdc125b53179"
  },
  {
   "cell_type": "code",
   "execution_count": null,
   "metadata": {},
   "outputs": [],
   "source": [
    "import time # to allow resume\n",
    "for exp in exp_lists:\n",
    "\n",
    "    # check if we already ran this experiment\n",
    "    # (allow stop/resume)\n",
    "    file_out = data_dir + \"/%d_%d_%d_%d_%s.txt\" % (exp['bufcap'], exp['bandwidth'], exp['rtt'], exp['trial'], exp['cc'])\n",
    "    stdout, stderr = tx_node.execute(\"ls \" + file_out, quiet=True)\n",
    "\n",
    "    if len(stdout):\n",
    "        print(\"Already have \" + file_out + \", skipping\")\n",
    "\n",
    "    elif len(stderr):\n",
    "        print(\"Running experiment to generate \" + file_out)\n",
    "\n",
    "        tx_node.execute(\"sudo modprobe tcp_\" + exp['cc'])\n",
    "        rx_node.execute(\"sudo modprobe tcp_\" + exp['cc']) # iperf3 on ubuntu 18.04 requires this if using BBR and setting window size..\n",
    "\n",
    "        router_node.execute(\"sudo tc qdisc del dev \" + router_ingress_name + \" root\")\n",
    "        router_node.execute(\"sudo tc qdisc del dev \" + router_egress_name + \" root\")\n",
    "\n",
    "        # set up RTT\n",
    "        router_node.execute(\"sudo tc qdisc replace dev \" + router_ingress_name + \" root netem delay \" + str(exp['rtt']) + \"ms limit 10000\")\n",
    "        # set up rate limit, buffer limit\n",
    "        router_node.execute(\"sudo tc qdisc replace dev \" + router_egress_name + \" root handle 1: htb default 3\")\n",
    "        router_node.execute(\"sudo tc class add dev \" + router_egress_name + \" parent 1: classid 1:3 htb rate \" + str(exp['bandwidth']) + \"Mbit\")\n",
    "        router_node.execute(\"sudo tc qdisc add dev \" + router_egress_name + \" parent 1:3 bfifo limit \" + str(exp['bufcap']) + \"kb\")\n",
    "\n",
    "        time.sleep(10)\n",
    "        rx_node.execute(\"iperf3 -s -1 -D\")\n",
    "        tx_node.execute(\"iperf3 -V -c h3 -C \" + exp['cc'] + \" -t 60s -fk -w 20M --logfile \" + file_out, quiet=True)"
   ],
   "id": "2f60d0a1-1540-470a-b893-4738f5a31fc9"
  },
  {
   "cell_type": "markdown",
   "metadata": {},
   "source": [
    "### Analyze experiment results"
   ],
   "id": "ee6bc99c-792c-43c7-91d8-79d1cecf5115"
  },
  {
   "cell_type": "code",
   "execution_count": null,
   "metadata": {},
   "outputs": [],
   "source": [
    "!pip install seaborn"
   ],
   "id": "efa1e893-d5a5-4e3e-9927-fb9525eef0d4"
  },
  {
   "cell_type": "code",
   "execution_count": null,
   "metadata": {},
   "outputs": [],
   "source": [
    "import pandas as pd\n",
    "from io import StringIO\n",
    "import seaborn as sns \n",
    "import matplotlib.pyplot as plt"
   ],
   "id": "b8d19b4c-2259-4cec-a02f-e7ce5de57beb"
  },
  {
   "cell_type": "code",
   "execution_count": null,
   "metadata": {},
   "outputs": [],
   "source": [
    "tput = tx_node.execute(\"cd \" + data_dir + \"; grep 'Kbits/sec.*receiver' *.txt | awk -F'[_ .]' '{print $1\\\",\\\"$2\\\",\\\"$3\\\",\\\"$4\\\",\\\"$5\\\",\\\"$21}' \"), quiet=True)"
   ],
   "id": "5f78815e-9a0e-4557-b410-ba9c91cfdbe9"
  },
  {
   "cell_type": "code",
   "execution_count": null,
   "metadata": {},
   "outputs": [],
   "source": [
    "df_tput = pd.read_csv(StringIO(tput[0]), names = ['bufcap','bandwidth','rtt','trial','cc','goodput_'])\n",
    "# force it to drop bad runs\n",
    "df_tput['goodput_'] = pd.to_numeric(df_tput['goodput_'], errors='coerce').dropna()\n",
    "df_tput = df_tput.pivot_table(columns='cc', index=['bufcap','bandwidth','rtt'], values=['goodput_'], aggfunc='mean').reset_index() \n",
    "df_tput.columns = [''.join(col).strip() for col in df_tput.columns.values]\n",
    "df_tput = df_tput.assign(goodput_gain = 100*(df_tput['goodput_' + exp_factors['cc'][1]]-df_tput['goodput_' + exp_factors['cc'][0]])/df_tput['goodput_' + exp_factors['cc'][0]])"
   ],
   "id": "bc5da233-71a3-4f82-9780-953e7fb77541"
  },
  {
   "cell_type": "code",
   "execution_count": null,
   "metadata": {},
   "outputs": [],
   "source": [
    "dat_hm = df_tput[df_tput.bufcap==100].pivot(index=[\"bandwidth\"], columns=[\"rtt\"], values=\"goodput_gain\")\n",
    "sns.set(font_scale=0.8)\n",
    "ax = sns.heatmap(dat_hm, annot=True, fmt=\".1f\", cmap=\"RdBu_r\", center=0, vmin=-100, vmax=100)\n",
    "ax.invert_yaxis()\n",
    "ax.set_title(\"Goodput gain for \" + exp_factors['cc'][1].upper() + \" vs \" + exp_factors['cc'][0].upper() + \", 100KB buffer, \" + kernel + \" kernel\")\n",
    "plt.xlabel(\"RTT (in ms)\")\n",
    "plt.ylabel(\"Bandwidth (in Mbps)\")\n",
    "plt.show()"
   ],
   "id": "0d6122f8-ac17-42b0-ae8e-cfe33bd4220c"
  },
  {
   "cell_type": "code",
   "execution_count": null,
   "metadata": {},
   "outputs": [],
   "source": [
    "dat_hm = df_tput[df_tput.bufcap==10000].pivot(index=[\"bandwidth\"], columns=[\"rtt\"], values=\"goodput_gain\")\n",
    "sns.set(font_scale=0.8)\n",
    "ax = sns.heatmap(dat_hm, annot=True, fmt=\".1f\", cmap=\"RdBu_r\", center=0, vmin=-100, vmax=100)\n",
    "ax.invert_yaxis()\n",
    "ax.set_title(\"Goodput gain for \" + exp_factors['cc'][1].upper() + \" vs \" + exp_factors['cc'][0].upper() + \", 10MB buffer, \" + kernel + \" kernel\")\n",
    "plt.xlabel(\"RTT (in ms)\")\n",
    "plt.ylabel(\"Bandwidth (in Mbps)\")\n",
    "plt.show()"
   ],
   "id": "2b35e696-e21b-4c7b-a200-ec3df3a09a74"
  },
  {
   "cell_type": "code",
   "execution_count": null,
   "metadata": {},
   "outputs": [],
   "source": [
    "df_tput = pd.read_csv(StringIO(tput[0]), names = ['bufcap','bandwidth','rtt','trial','cc','goodput_'])\n",
    "df_tput['goodput_'] = pd.to_numeric(df_tput['goodput_'], errors='coerce').dropna()\n",
    "df_tput = df_tput.pivot_table(columns='cc', index=['bufcap','bandwidth','rtt'], values=['goodput_'], aggfunc='mean').reset_index() \n",
    "df_tput.columns = [''.join(col).strip() for col in df_tput.columns.values]\n",
    "df_tput = df_tput.assign(util = 100*(df_tput['goodput_' + exp_factors['cc'][0] ]/(df_tput['bandwidth']*1000)))\n",
    "dat_hm = df_tput[df_tput.bufcap==100].pivot(index=[\"bandwidth\"], columns=[\"rtt\"], values=\"util\")\n",
    "sns.set(font_scale=0.8)\n",
    "ax = sns.heatmap(dat_hm, annot=True, fmt=\".0f\", cmap=\"RdBu_r\", center=50, vmin=0, vmax=100)\n",
    "ax.invert_yaxis()\n",
    "ax.set_title(\"Utilization for \" + exp_factors['cc'][0].upper() + \", 100KB buffer, \" + kernel + \" kernel\")\n",
    "plt.xlabel(\"RTT (in ms)\")\n",
    "plt.ylabel(\"Bandwidth (in Mbps)\")\n",
    "plt.show()"
   ],
   "id": "beae1756-e959-4256-9a72-03145c156ee7"
  },
  {
   "cell_type": "code",
   "execution_count": null,
   "metadata": {},
   "outputs": [],
   "source": [
    "df_tput = pd.read_csv(StringIO(tput[0]), names = ['bufcap','bandwidth','rtt','trial','cc','goodput_'])\n",
    "df_tput['goodput_'] = pd.to_numeric(df_tput['goodput_'], errors='coerce').dropna()\n",
    "df_tput = df_tput.pivot_table(columns='cc', index=['bufcap','bandwidth','rtt'], values=['goodput_'], aggfunc='mean').reset_index() \n",
    "df_tput.columns = [''.join(col).strip() for col in df_tput.columns.values]\n",
    "df_tput = df_tput.assign(util = 100*(df_tput['goodput_' + exp_factors['cc'][0] ]/(df_tput['bandwidth']*1000)))\n",
    "dat_hm = df_tput[df_tput.bufcap==10000].pivot(index=[\"bandwidth\"], columns=[\"rtt\"], values=\"util\")\n",
    "sns.set(font_scale=0.8)\n",
    "ax = sns.heatmap(dat_hm, annot=True, fmt=\".0f\", cmap=\"RdBu_r\", center=50, vmin=0, vmax=100)\n",
    "ax.invert_yaxis()\n",
    "ax.set_title(\"Utilization for \" + exp_factors['cc'][0].upper() + \", 10MB buffer, \" + kernel + \" kernel\")\n",
    "plt.xlabel(\"RTT (in ms)\")\n",
    "plt.ylabel(\"Bandwidth (in Mbps)\")\n",
    "plt.show()"
   ],
   "id": "4df4c0de-c0c5-46ec-a55d-ff4ec6ca3976"
  },
  {
   "cell_type": "code",
   "execution_count": null,
   "metadata": {},
   "outputs": [],
   "source": [
    "df_tput = pd.read_csv(StringIO(tput[0]), names = ['bufcap','bandwidth','rtt','trial','cc','goodput_'])\n",
    "df_tput['goodput_'] = pd.to_numeric(df_tput['goodput_'], errors='coerce').dropna()\n",
    "df_tput = df_tput.pivot_table(columns='cc', index=['bufcap','bandwidth','rtt'], values=['goodput_'], aggfunc='mean').reset_index() \n",
    "df_tput.columns = [''.join(col).strip() for col in df_tput.columns.values]\n",
    "df_tput = df_tput.assign(util = 100*(df_tput['goodput_' + exp_factors['cc'][1] ]/(df_tput['bandwidth']*1000)))\n",
    "dat_hm = df_tput[df_tput.bufcap==100].pivot(index=[\"bandwidth\"], columns=[\"rtt\"], values=\"util\")\n",
    "sns.set(font_scale=0.8)\n",
    "ax = sns.heatmap(dat_hm, annot=True, fmt=\".0f\", cmap=\"RdBu_r\", center=50, vmin=0, vmax=100)\n",
    "ax.invert_yaxis()\n",
    "ax.set_title(\"Utilization for \" + exp_factors['cc'][1].upper() + \", 100KB buffer, \" + kernel + \" kernel\")\n",
    "plt.xlabel(\"RTT (in ms)\")\n",
    "plt.ylabel(\"Bandwidth (in Mbps)\")\n",
    "plt.show()"
   ],
   "id": "d837e350-2581-4c12-9690-7452d1cbebdb"
  },
  {
   "cell_type": "code",
   "execution_count": null,
   "metadata": {},
   "outputs": [],
   "source": [
    "df_tput = pd.read_csv(StringIO(tput[0]), names = ['bufcap','bandwidth','rtt','trial','cc','goodput_'])\n",
    "df_tput['goodput_'] = pd.to_numeric(df_tput['goodput_'], errors='coerce').dropna()\n",
    "df_tput = df_tput.pivot_table(columns='cc', index=['bufcap','bandwidth','rtt'], values=['goodput_'], aggfunc='mean').reset_index() \n",
    "df_tput.columns = [''.join(col).strip() for col in df_tput.columns.values]\n",
    "df_tput = df_tput.assign(util = 100*(df_tput['goodput_' + exp_factors['cc'][1] ]/(df_tput['bandwidth']*1000)))\n",
    "dat_hm = df_tput[df_tput.bufcap==10000].pivot(index=[\"bandwidth\"], columns=[\"rtt\"], values=\"util\")\n",
    "sns.set(font_scale=0.8)\n",
    "ax = sns.heatmap(dat_hm, annot=True, fmt=\".0f\", cmap=\"RdBu_r\", center=50, vmin=0, vmax=100)\n",
    "ax.invert_yaxis()\n",
    "ax.set_title(\"Utilization for \" + exp_factors['cc'][1].upper() + \", 10MB buffer, \" + kernel + \" kernel\")\n",
    "plt.xlabel(\"RTT (in ms)\")\n",
    "plt.ylabel(\"Bandwidth (in Mbps)\")\n",
    "plt.show()"
   ],
   "id": "03750ef0-482f-4f90-9c35-a0c82692725f"
  },
  {
   "cell_type": "code",
   "execution_count": null,
   "metadata": {},
   "outputs": [],
   "source": [
    "retx = tx_node.execute(\"cd \" + data_dir + \"; grep 'Kbits/sec.*sender' *.txt | awk -F'[_ .]' '{print $1\\\",\\\"$2\\\",\\\"$3\\\",\\\"$4\\\",\\\"$5\\\",\\\"$24}' \", quiet=True)"
   ],
   "id": "767d9d13-dc0c-4b8f-9306-b80fc1701dc2"
  },
  {
   "cell_type": "code",
   "execution_count": null,
   "metadata": {},
   "outputs": [],
   "source": [
    "df_retx = pd.read_csv(StringIO(retx[0]), names = ['bufcap','bandwidth','rtt','trial','cc','retx_'])\n",
    "df_retx = df_retx.fillna(0)\n",
    "df_retx = df_retx.pivot_table(columns='cc', index=['bufcap','bandwidth','rtt'], values=['retx_'], aggfunc='mean').reset_index() \n",
    "df_retx.columns = [''.join(col).strip() for col in df_retx.columns.values]"
   ],
   "id": "f2e3ff7f-4994-49a7-a608-1e5c529f3996"
  },
  {
   "cell_type": "code",
   "execution_count": null,
   "metadata": {},
   "outputs": [],
   "source": [
    "dat_hm = df_retx[df_retx.bufcap==100].pivot(index=[\"bandwidth\"], columns=[\"rtt\"], values=\"retx_\"+exp_factors['cc'][0] )\n",
    "sns.set(font_scale=0.8)\n",
    "ax = sns.heatmap(dat_hm, annot=True, fmt=\".0f\", cmap=\"RdBu_r\", center=0)\n",
    "ax.invert_yaxis()\n",
    "ax.set_title(\"Retransmissions for \" + exp_factors['cc'][0].upper() + \", 100kB buffer, \" + kernel + \" kernel\")\n",
    "plt.xlabel(\"RTT (in ms)\")\n",
    "plt.ylabel(\"Bandwidth (in Mbps)\")\n",
    "plt.show()"
   ],
   "id": "fe495320-53bd-4c76-bc33-5f6b1d8e0445"
  },
  {
   "cell_type": "code",
   "execution_count": null,
   "metadata": {},
   "outputs": [],
   "source": [
    "dat_hm = df_retx[df_retx.bufcap==100].pivot(index=[\"bandwidth\"], columns=[\"rtt\"], values=\"retx_\"+exp_factors['cc'][1] )\n",
    "sns.set(font_scale=0.8)\n",
    "ax = sns.heatmap(dat_hm, annot=True, fmt=\".0f\", cmap=\"RdBu_r\", center=0)\n",
    "ax.invert_yaxis()\n",
    "ax.set_title(\"Retransmissions for \" + exp_factors['cc'][1].upper() + \", 100kB buffer, \" + kernel + \" kernel\")\n",
    "plt.xlabel(\"RTT (in ms)\")\n",
    "plt.ylabel(\"Bandwidth (in Mbps)\")\n",
    "plt.show()"
   ],
   "id": "cf45a73b-2dc0-44d5-b7d6-05d6ada8a8e2"
  },
  {
   "cell_type": "markdown",
   "metadata": {},
   "source": [
    "### Transfer experiment data"
   ],
   "id": "195c277f-4bc0-4c87-bf60-84ee49806ee7"
  },
  {
   "cell_type": "code",
   "execution_count": null,
   "metadata": {},
   "outputs": [],
   "source": [
    "tx_node.execute('tar -czf ' + data_dir + '.tgz ' + data_dir)"
   ],
   "id": "eb4ddea8-ce5f-4b7d-b7be-003f1086c5d0"
  },
  {
   "cell_type": "code",
   "execution_count": null,
   "metadata": {},
   "outputs": [],
   "source": [
    "tx_node.download_file(data_dir + '.tgz', '/home/ubuntu/' + data_dir + '.tgz')"
   ],
   "id": "8f05359c-b818-4e49-92d7-1e405243d4b4"
  },
  {
   "cell_type": "markdown",
   "metadata": {},
   "source": [
    "### Delete your slice"
   ],
   "id": "2724f453-5343-4928-8398-9a357f972b5c"
  },
  {
   "cell_type": "markdown",
   "metadata": {},
   "source": [
    "When you finish your experiment, you should delete your slice! The following cells deletes all the resources in your slice, freeing them for other experimenters."
   ],
   "id": "05fda561-3fde-40a0-8eff-01be5ed02271"
  },
  {
   "cell_type": "code",
   "execution_count": null,
   "metadata": {},
   "outputs": [],
   "source": [
    "slice = fablib.get_slice(name=slice_name)\n",
    "fablib.delete_slice(slice_name)"
   ],
   "id": "f6fd14cf-d78a-40ad-b1d3-4fcedaad3b3a"
  },
  {
   "cell_type": "code",
   "execution_count": null,
   "metadata": {},
   "outputs": [],
   "source": [
    "# slice should end up in \"Dead\" state\n",
    "# re-run this cell until you see it in \"Dead\" state\n",
    "slice.update()\n",
    "_ = slice.show()"
   ],
   "id": "ddd096af-8038-4caa-9f64-8bf1782ca0c8"
  }
 ],
 "nbformat": 4,
 "nbformat_minor": 5,
 "metadata": {}
}
