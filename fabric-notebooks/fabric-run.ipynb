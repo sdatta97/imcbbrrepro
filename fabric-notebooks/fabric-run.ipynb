{
 "cells": [
  {
   "cell_type": "markdown",
   "metadata": {},
   "source": [
    "## Replication: When to use and when not to use BBR: An empirical analysis and evaluation study\n",
    "\n",
    "This experiment replicates Figure 5 of\n",
    "\n",
    "> Yi Cao, Arpit Jain, Kriti Sharma, Aruna Balasubramanian, and Anshul Gandhi. 2019. When to use and when not to use BBR: An empirical analysis and evaluation study. In Proceedings of the Internet Measurement Conference (IMC ’19). Association for Computing Machinery, New York, NY, USA, 130–136. https://doi.org/10.1145/3355369.3355579\n",
    "\n",
    "and also extends it to a more recent version of BBRv1 and to BBRv2."
   ],
   "id": "e0f2e16b-fd80-43d7-a250-3463137e203c"
  },
  {
   "cell_type": "markdown",
   "metadata": {},
   "source": [
    "To run this experiment:\n",
    "\n",
    "-   **Prerequisites**: You should have a FABRIC account, be part of a FABRIC project, and have configured your FABRIC Jupyter environment, as in [“Hello, FABRIC”](https://teaching-on-testbeds.github.io/blog/hello-fabric). Then, `git clone` this repository in the FABRIC JupyterHub environment, navigate to the “fabric-notebooks” directory, and open the “fabric-run.ipynb” file.\n",
    "-   **Configuration**: Next, you need to edit some parts of this notebook, depending on the version of the experiment you want to run.\n",
    "    -   In the “Define configuration for this experiment” section, set the `slice_name` prefix - slice names must be unique, so if you are running multiple slices in parallel (for example, to validate the result for the three BBR versions in parallel slices), make each have a unique name.\n",
    "    -   In the “Define configuration for this experiment” section, set the `image` variable - “default_ubuntu_18” to validate the result in the original paper (4.15 kernel), “default_ubuntu_22” for a newer BBRv1 (5.15 kernel), or “default_ubuntu_20” for BBRv2 (will use 5.13 kernel).\n",
    "    -   If you are evaluating BBRv2, in the “Extra configuration for this experiment” section set `is_bbr2` to `True`. (Otherwise, leave it as `False`.)\n",
    "    -   If you are evaluating BBRv2, in the “Execute experiment” section set the `cc` in the `exp_factors` dictionary to `[\"cubic\", \"bbr2\"]`. (Otherwise, leave it at `[\"cubic\", \"bbr\"]`.)\n",
    "    -   If you are running multiple versions of this notebook in parallel, it’s easiest to duplicate the notebook (right-click on the file in the JupyterHub file browser, choose Duplicate), configure the copy as described above, and execute the copy.\n",
    "-   **Execution**: Once you are ready, you’ll want to run all of the cells in this notebook in order. An easy way to do this is to scroll to the “Delete your slice” section at the end, click on the cell that has the title of this section, and choose Run \\> Run All Above Selected Cell from the JupyterHub menu to run all cells until this point.\n",
    "    -   In case there is a problem reserving resources (i.e. an infrastructure problem), you will want to delete your slice and try again. To do this, you would run the cells in the “Delete your slice” section, make sure your slice is deleted, then run the cells above that section again (using Run \\> Run All Above Selected Cell for convenience).\n",
    "    -   This full-factorial experiment design takes many hours to run. Once you have confirmed that the main loop in the “Execute experiment” section is running, you can leave this notebook running unattended.\n",
    "    -   Every 24 hours or less, your FABRIC JupyterHub session will time out, and you’ll need to resume execution. When you get the alert that your server has stopped, you should: (1) Force restart your JupyterHub server: File \\> Hub Control Panel \\> Stop My Server, then Start Server. (2) Re-run the first few code cells, until you see the output “You already have a slice by this name!”. (3) Scroll to the “Execute experiment” section and continue running cells in order from this point on."
   ],
   "id": "fc888201-ff59-40dc-9ba5-5d49497af713"
  },
  {
   "cell_type": "markdown",
   "metadata": {},
   "source": [
    "### Configure environment"
   ],
   "id": "ebfee8ea-d7b6-4578-b87d-a4c955ce6196"
  },
  {
   "cell_type": "code",
   "execution_count": null,
   "metadata": {},
   "outputs": [],
   "source": [
    "from fabrictestbed_extensions.fablib.fablib import FablibManager as fablib_manager\n",
    "fablib = fablib_manager() \n",
    "conf = fablib.show_config()"
   ],
   "id": "92e7f09d-80d8-4d30-b718-3e6d8f7f7c79"
  },
  {
   "cell_type": "markdown",
   "metadata": {},
   "source": [
    "### Define configuration for this experiment"
   ],
   "id": "f4be14b4-e9eb-4d88-9511-3bf16b045dec"
  },
  {
   "cell_type": "code",
   "execution_count": null,
   "metadata": {},
   "outputs": [],
   "source": [
    "slice_name=\"re-when-to-use-bbr-\" + fablib.get_bastion_username()\n",
    "\n",
    "# use default_ubuntu_22 for 5.15 kernel, default_ubuntu_18 for 4.15 kernel, default_ubuntu_20 for BBRv2\n",
    "image = 'default_ubuntu_22' \n",
    "\n",
    "node_conf = [\n",
    " {'name': \"h1\",  'cores': 4, 'ram': 16, 'disk': 500, 'image': image, 'packages': ['iperf3']}, \n",
    " {'name': \"h2\",  'cores': 4, 'ram': 16, 'disk': 10, 'image': image, 'packages': ['iperf3']}, \n",
    " {'name': \"h3\",  'cores': 4, 'ram': 16, 'disk': 10, 'image': image, 'packages': ['iperf3']}, \n",
    " {'name': \"tbf\", 'cores': 4, 'ram': 16, 'disk': 10, 'image': image, 'packages': []} \n",
    "]\n",
    "net_conf = [\n",
    " {\"name\": \"link1\", \"subnet\": \"10.10.1.0/24\", \"nodes\": [{\"name\": \"tbf\",   \"addr\": \"10.10.1.10\"}, {\"name\": \"h1\", \"addr\": \"10.10.1.1\"}]},\n",
    " {\"name\": \"link2\", \"subnet\": \"10.10.2.0/24\", \"nodes\": [{\"name\": \"tbf\",   \"addr\": \"10.10.2.10\"}, {\"name\": \"h2\", \"addr\": \"10.10.2.1\"}]},\n",
    " {\"name\": \"link3\", \"subnet\": \"10.10.3.0/24\", \"nodes\": [{\"name\": \"tbf\",   \"addr\": \"10.10.3.10\"}, {\"name\": \"h3\", \"addr\": \"10.10.3.1\"}]}\n",
    "]\n",
    "route_conf = [\n",
    " {\"addr\": \"10.10.3.0/24\", \"gw\": \"10.10.1.10\", \"nodes\": [\"h1\"]}, \n",
    " {\"addr\": \"10.10.3.0/24\", \"gw\": \"10.10.2.10\", \"nodes\": [\"h2\"]},  \n",
    " {\"addr\": \"10.10.1.0/24\", \"gw\": \"10.10.3.10\", \"nodes\": [\"h3\"]},  \n",
    " {\"addr\": \"10.10.2.0/24\", \"gw\": \"10.10.3.10\", \"nodes\": [\"h3\"]}\n",
    "]\n",
    "exp_conf = {'cores': sum([ n['cores'] for n in node_conf]), 'nic': sum([len(n['nodes']) for n in net_conf]) }"
   ],
   "id": "94ad880a-dbf5-4d28-97a6-af7b2cf97613"
  },
  {
   "cell_type": "markdown",
   "metadata": {},
   "source": [
    "### Reserve resources\n",
    "\n",
    "Now, we are ready to reserve resources!"
   ],
   "id": "b5278f1c-36ef-4bef-b268-f8d13e57f8c2"
  },
  {
   "cell_type": "markdown",
   "metadata": {},
   "source": [
    "First, make sure you don’t already have a slice with this name:"
   ],
   "id": "f9a0c291-d9f5-4241-9c18-24586de490d4"
  },
  {
   "cell_type": "code",
   "execution_count": null,
   "metadata": {},
   "outputs": [],
   "source": [
    "try:\n",
    "    slice = fablib.get_slice(slice_name)\n",
    "    print(\"You already have a slice by this name!\")\n",
    "    print(\"If you previously reserved resources, skip to the 'log in to resources' section.\")\n",
    "except:\n",
    "    print(\"You don't have a slice named %s yet.\" % slice_name)\n",
    "    print(\"Continue to the next step to make one.\")\n",
    "    slice = fablib.new_slice(name=slice_name)"
   ],
   "id": "46c8b289-ba33-4392-bf0a-64d6483d5a85"
  },
  {
   "cell_type": "markdown",
   "metadata": {},
   "source": [
    "We will select a random site that has sufficient resources for our experiment:"
   ],
   "id": "489323f4-a703-410a-b8a8-94509514835a"
  },
  {
   "cell_type": "code",
   "execution_count": null,
   "metadata": {},
   "outputs": [],
   "source": [
    "while True:\n",
    "    site_name = fablib.get_random_site()\n",
    "    if ( (fablib.resources.get_core_available(site_name) > 1.2*exp_conf['cores']) and\n",
    "        (fablib.resources.get_component_available(site_name, 'SharedNIC-ConnectX-6') > 1.2**exp_conf['nic']) ):\n",
    "        break\n",
    "\n",
    "fablib.show_site(site_name)"
   ],
   "id": "9573d921-f4a8-486a-997e-70de1d29d794"
  },
  {
   "cell_type": "markdown",
   "metadata": {},
   "source": [
    "Then we will add hosts and network segments:"
   ],
   "id": "d0a972fe-9f87-440d-a3bc-06c847ddbc93"
  },
  {
   "cell_type": "code",
   "execution_count": null,
   "metadata": {},
   "outputs": [],
   "source": [
    "# this cell sets up the nodes\n",
    "for n in node_conf:\n",
    "    slice.add_node(name=n['name'], site=site_name, \n",
    "                   cores=n['cores'], \n",
    "                   ram=n['ram'], \n",
    "                   disk=n['disk'], \n",
    "                   image=n['image'])"
   ],
   "id": "f7810607-9324-44c3-8f45-f74314f403cd"
  },
  {
   "cell_type": "code",
   "execution_count": null,
   "metadata": {},
   "outputs": [],
   "source": [
    "# this cell sets up the network segments\n",
    "for n in net_conf:\n",
    "    ifaces = [slice.get_node(node[\"name\"]).add_component(model=\"NIC_Basic\", \n",
    "                                                 name=n[\"name\"]).get_interfaces()[0] for node in n['nodes'] ]\n",
    "    slice.add_l2network(name=n[\"name\"], type='L2Bridge', interfaces=ifaces)"
   ],
   "id": "1ce58c13-7db2-4099-b256-98d97a6c909a"
  },
  {
   "cell_type": "markdown",
   "metadata": {},
   "source": [
    "The following cell submits our request to the FABRIC site. The output of this cell will update automatically as the status of our request changes.\n",
    "\n",
    "-   While it is being prepared, the “State” of the slice will appear as “Configuring”.\n",
    "-   When it is ready, the “State” of the slice will change to “StableOK”.\n",
    "\n",
    "You may prefer to walk away and come back in a few minutes (for simple slices) or a few tens of minutes (for more complicated slices with many resources)."
   ],
   "id": "3ea4fb95-fe87-43a9-8384-bc36f06eb71c"
  },
  {
   "cell_type": "code",
   "execution_count": null,
   "metadata": {},
   "outputs": [],
   "source": [
    "slice.submit()"
   ],
   "id": "d91a561a-dd20-423f-9cb9-8c0df1119227"
  },
  {
   "cell_type": "code",
   "execution_count": null,
   "metadata": {},
   "outputs": [],
   "source": [
    "slice.get_state()\n",
    "slice.wait_ssh(progress=True)"
   ],
   "id": "c6390658-a88d-4435-a4a9-60877d8e15b2"
  },
  {
   "cell_type": "markdown",
   "metadata": {},
   "source": [
    "### Extend slice for one week"
   ],
   "id": "d86925ca-cc83-4e28-897a-ed6e45ec8b0b"
  },
  {
   "cell_type": "code",
   "execution_count": null,
   "metadata": {},
   "outputs": [],
   "source": [
    "from datetime import datetime\n",
    "from datetime import timezone\n",
    "from datetime import timedelta\n",
    "\n",
    "# Set end date to 7 days from now\n",
    "end_date = (datetime.now(timezone.utc) + timedelta(days=7)).strftime(\"%Y-%m-%d %H:%M:%S %z\")\n",
    "slice.renew(end_date)"
   ],
   "id": "987616f5-728c-4354-bb12-77ee1c6cb307"
  },
  {
   "cell_type": "code",
   "execution_count": null,
   "metadata": {},
   "outputs": [],
   "source": [
    "slice.update()\n",
    "_ = slice.show()"
   ],
   "id": "b7596355-024b-4a88-92cd-7325736feda9"
  },
  {
   "cell_type": "markdown",
   "metadata": {},
   "source": [
    "### Extra configuration for this experiment"
   ],
   "id": "7d2c9d55-47b0-49b4-83d7-5547258fb67a"
  },
  {
   "cell_type": "code",
   "execution_count": null,
   "metadata": {},
   "outputs": [],
   "source": [
    "# if you need to install BBR3 kernel, make this True\n",
    "is_bbr3 = True\n",
    "pkg_list = ['linux-headers-6.4.0+_6.4.0-g6e321d1c986a-5_amd64.deb',\n",
    "            'linux-libc-dev_6.4.0-g6e321d1c986a-5_amd64.deb',\n",
    "            'linux-image-6.4.0+_6.4.0-g6e321d1c986a-5_amd64.deb']\n",
    "if is_bbr3:\n",
    "    for node in slice.get_nodes():\n",
    "        for pkg in pkg_list:\n",
    "            node.upload_file(\"../setup/\" + pkg, \"/home/ubuntu/\" + pkg)\n",
    "        node.execute(\"sudo dpkg -i \" + \" \".join(pkg_list) + \"; sudo reboot\")\n",
    "\n",
    "        # if compiling from scratch.... which takes forever...\n",
    "        # node.execute(\"sudo apt update; sudo apt -y install libelf-dev libssl-dev libncurses-dev flex bison pkg-config gcc binutils ca-certificates build-essential\")\n",
    "        # node.execute(\"git clone -o google-bbr -b v2alpha  https://github.com/google/bbr.git\")\n",
    "        # node.upload_file(\"../setup/.config\", \"/home/ubuntu/bbr/.config\")\n",
    "        # node.execute(\"cd bbr; sudo make -j $(nproc) \")\n",
    "        # node.execute(\"cd bbr; sudo make modules -j $(nproc) \")\n",
    "        # node.execute(\"cd bbr; sudo make modules_install -j $(nproc) \")\n",
    "        # node.execute(\"cd bbr; sudo make install -j $(nproc) \")\n",
    "\n",
    "    # wait for all nodes to come back up\n",
    "    slice.wait_ssh(progress=True)\n",
    "    for node in slice.get_nodes():\n",
    "        node.execute(\"hostname; uname -a\")"
   ],
   "id": "7f0e0e82-f663-4456-b01c-7cfca80e1cb9"
  },
  {
   "cell_type": "code",
   "execution_count": null,
   "metadata": {},
   "outputs": [],
   "source": [
    "# set socket read and write buffer on all endpoints to larger value\n",
    "for node in slice.get_nodes():\n",
    "    node.execute(\"sudo sysctl -w net.core.rmem_default=2147483647\")\n",
    "    node.execute(\"sudo sysctl -w net.core.wmem_default=2147483647\")\n",
    "    node.execute(\"sudo sysctl -w net.core.rmem_max=2147483647\")\n",
    "    node.execute(\"sudo sysctl -w net.core.wmem_max=2147483647\")"
   ],
   "id": "c0cdae60-9cec-472d-a877-b8a5dfed6826"
  },
  {
   "cell_type": "markdown",
   "metadata": {},
   "source": [
    "### Configure resources\n",
    "\n",
    "Next, we will configure the resources so they are ready to use."
   ],
   "id": "3acd6b37-0227-43f6-a784-82b9889e93b7"
  },
  {
   "cell_type": "code",
   "execution_count": null,
   "metadata": {},
   "outputs": [],
   "source": [
    "slice = fablib.get_slice(name=slice_name)"
   ],
   "id": "d5378ff3-46ea-48a6-aded-7fea2bccd714"
  },
  {
   "cell_type": "code",
   "execution_count": null,
   "metadata": {},
   "outputs": [],
   "source": [
    "# install packages\n",
    "# this will take a while and will run in background while you do other steps\n",
    "for n in node_conf:\n",
    "    if len(n['packages']):\n",
    "        node = slice.get_node(n['name'])\n",
    "        pkg = \" \".join(n['packages'])\n",
    "        node.execute_thread(\"sudo apt update; sudo apt -y install %s\" % pkg)"
   ],
   "id": "ca7bbbda-de49-4e5c-ba22-07966c97d433"
  },
  {
   "cell_type": "code",
   "execution_count": null,
   "metadata": {},
   "outputs": [],
   "source": [
    "# bring interfaces up and either assign an address (if there is one) or flush address\n",
    "from ipaddress import ip_address, IPv4Address, IPv4Network\n",
    "\n",
    "for net in net_conf:\n",
    "    for n in net['nodes']:\n",
    "        if_name = n['name'] + '-' + net['name'] + '-p1'\n",
    "        iface = slice.get_interface(if_name)\n",
    "        iface.ip_link_up()\n",
    "        if n['addr']:\n",
    "            iface.ip_addr_add(addr=n['addr'], subnet=IPv4Network(net['subnet']))\n",
    "        else:\n",
    "            iface.get_node().execute(\"sudo ip addr flush dev %s\"  % iface.get_device_name())"
   ],
   "id": "1de90a25-263e-4b41-b004-10f1467cdcba"
  },
  {
   "cell_type": "code",
   "execution_count": null,
   "metadata": {},
   "outputs": [],
   "source": [
    "# prepare a \"hosts\" file that has names and addresses of every node\n",
    "hosts_txt = [ \"%s\\t%s\" % ( n['addr'], n['name'] ) for net in net_conf  for n in net['nodes'] if type(n) is dict and n['addr']]\n",
    "for n in slice.get_nodes():\n",
    "    for h in hosts_txt:\n",
    "        n.execute(\"echo %s | sudo tee -a /etc/hosts\" % h)"
   ],
   "id": "4eeb8242-0541-4976-a7ad-dc1f99f1a8b3"
  },
  {
   "cell_type": "code",
   "execution_count": null,
   "metadata": {},
   "outputs": [],
   "source": [
    "# enable IPv4 forwarding on all nodes\n",
    "for n in slice.get_nodes():\n",
    "    n.execute(\"sudo sysctl -w net.ipv4.ip_forward=1\")"
   ],
   "id": "5f5dc21a-e2b1-4e29-821a-d438b24368cc"
  },
  {
   "cell_type": "code",
   "execution_count": null,
   "metadata": {},
   "outputs": [],
   "source": [
    "# set up static routes\n",
    "for rt in route_conf:\n",
    "    for n in rt['nodes']:\n",
    "        slice.get_node(name=n).ip_route_add(subnet=IPv4Network(rt['addr']), gateway=rt['gw'])"
   ],
   "id": "f08e095d-942d-4ecb-8656-cfe72214bd4e"
  },
  {
   "cell_type": "markdown",
   "metadata": {},
   "source": [
    "### Validate base network\n",
    "\n",
    "Before we run any experiment, we should check the “base” network - before adding any emulated delay or rate limiting - and make sure that it will not be a limiting factor in the experiment."
   ],
   "id": "dac78a85-7a39-4163-bb7c-8f353eff0bfc"
  },
  {
   "cell_type": "code",
   "execution_count": null,
   "metadata": {},
   "outputs": [],
   "source": [
    "# check base delay\n",
    "slice.get_node(\"h1\").execute(\"ping -c 5 h3\")"
   ],
   "id": "39515691-6819-4c6d-9644-f709cdc96faf"
  },
  {
   "cell_type": "code",
   "execution_count": null,
   "metadata": {},
   "outputs": [],
   "source": [
    "# check base capacity (by sending 10 parallel flows, look at their sum throughput)\n",
    "import time\n",
    "slice.get_node(\"h3\").execute(\"iperf3 -s -1 -D\")\n",
    "time.sleep(5)\n",
    "slice.get_node(\"h1\").execute(\"iperf3 -t 30 -i 10 -P 10 -c h3\")"
   ],
   "id": "62984566-7a04-4b9e-86ab-10c28230b3dc"
  },
  {
   "cell_type": "code",
   "execution_count": null,
   "metadata": {},
   "outputs": [],
   "source": [
    "# also check Linux kernel version on sender\n",
    "slice.get_node(\"h1\").execute(\"uname -a\")"
   ],
   "id": "6a3c9720-368d-409b-81db-911906e4d67c"
  },
  {
   "cell_type": "markdown",
   "metadata": {},
   "source": [
    "### Draw the network topology"
   ],
   "id": "9c833af6-9173-48ff-9c58-82fcb1f2027b"
  },
  {
   "cell_type": "markdown",
   "metadata": {},
   "source": [
    "The following cell will draw the network topology, for your reference. The interface name and addresses of each experiment interface will be shown on the drawing."
   ],
   "id": "a175379f-cad4-4a0a-84fe-ade4d8f4c72b"
  },
  {
   "cell_type": "code",
   "execution_count": null,
   "metadata": {},
   "outputs": [],
   "source": [
    "l2_nets = [(n.get_name(), {'color': 'lavender'}) for n in slice.get_l2networks() ]\n",
    "l3_nets = [(n.get_name(), {'color': 'pink'}) for n in slice.get_l3networks() ]\n",
    "hosts   =   [(n.get_name(), {'color': 'lightblue'}) for n in slice.get_nodes()]\n",
    "nodes = l2_nets + l3_nets + hosts\n",
    "ifaces = [iface.toDict() for iface in slice.get_interfaces()]\n",
    "edges = [(iface['network'], iface['node'], \n",
    "          {'label': iface['physical_dev'] + '\\n' + iface['ip_addr'] + '\\n' + iface['mac']}) for iface in ifaces]"
   ],
   "id": "721321d3-b3eb-413f-8e5d-f9f951e847e6"
  },
  {
   "cell_type": "code",
   "execution_count": null,
   "metadata": {},
   "outputs": [],
   "source": [
    "import networkx as nx\n",
    "import matplotlib.pyplot as plt\n",
    "plt.figure(figsize=(len(nodes),len(nodes)))\n",
    "G = nx.Graph()\n",
    "G.add_nodes_from(nodes)\n",
    "G.add_edges_from(edges)\n",
    "pos = nx.spring_layout(G)\n",
    "nx.draw(G, pos, node_shape='s',  \n",
    "        node_color=[n[1]['color'] for n in nodes], \n",
    "        node_size=[len(n[0])*400 for n in nodes],  \n",
    "        with_labels=True);\n",
    "nx.draw_networkx_edge_labels(G,pos,\n",
    "                             edge_labels=nx.get_edge_attributes(G,'label'),\n",
    "                             font_color='gray',  font_size=8, rotate=False);"
   ],
   "id": "86a6c1e8-6b83-489f-9723-109f424dedbf"
  },
  {
   "cell_type": "markdown",
   "metadata": {},
   "source": [
    "### Log into resources"
   ],
   "id": "b96e04ef-0f55-444f-b637-d9e6e6180d99"
  },
  {
   "cell_type": "markdown",
   "metadata": {},
   "source": [
    "Now, we are finally ready to log in to our resources over SSH! Run the following cells, and observe the table output - you will see an SSH command for each of the resources in your topology."
   ],
   "id": "05101c42-6e40-4eb9-aba6-72c30def37d3"
  },
  {
   "cell_type": "code",
   "execution_count": null,
   "metadata": {},
   "outputs": [],
   "source": [
    "import pandas as pd\n",
    "pd.set_option('display.max_colwidth', None)\n",
    "slice_info = [{'Name': n.get_name(), 'SSH command': n.get_ssh_command()} for n in slice.get_nodes()]\n",
    "pd.DataFrame(slice_info).set_index('Name')"
   ],
   "id": "48d05570-8280-4796-9d8f-47e7523e2dc3"
  },
  {
   "cell_type": "markdown",
   "metadata": {},
   "source": [
    "Now, you can open an SSH session on any of the resources as follows:\n",
    "\n",
    "-   in Jupyter, from the menu bar, use File \\> New \\> Terminal to open a new terminal.\n",
    "-   copy an SSH command from the table, and paste it into the terminal. (Note that each SSH command is a single line, even if the display wraps the text to a second line! When you copy and paste it, paste it all together.)\n",
    "\n",
    "You can repeat this process (open several terminals) to start a session on each resource. Each terminal session will have a tab in the Jupyter environment, so that you can easily switch between them."
   ],
   "id": "4cd50907-13a3-40e3-83b3-3781ff021c4a"
  },
  {
   "cell_type": "markdown",
   "metadata": {},
   "source": [
    "### Execute experiment"
   ],
   "id": "3116a404-65cd-4296-91be-7a46a1c60475"
  },
  {
   "cell_type": "code",
   "execution_count": null,
   "metadata": {},
   "outputs": [],
   "source": [
    "# generate full factorial experiment\n",
    "import itertools\n",
    "exp_factors = { \n",
    "    'bufcap': [100, 10000],\n",
    "    'bandwidth': [10, 20, 50, 100, 250, 500, 750, 1000],\n",
    "    'rtt': [5, 10, 25, 50, 75, 100, 150, 200],\n",
    "    'cc': [\"cubic\", \"bbr\"],\n",
    "    'trial': [1,2,3,4,5]\n",
    "}\n",
    "factor_names = [k for k in exp_factors]\n",
    "factor_lists = list(itertools.product(*exp_factors.values()))\n",
    "exp_lists = [dict(zip(factor_names, factor_l)) for factor_l in factor_lists]"
   ],
   "id": "4345ce62-f013-4a0c-972b-4c711c5ad9a9"
  },
  {
   "cell_type": "code",
   "execution_count": null,
   "metadata": {},
   "outputs": [],
   "source": [
    "# get name of router interface that is 'toward' h1 - apply delay here\n",
    "# get name of router interface that is 'toward' h3 - apply rate limiting and buffer size limit here\n",
    "router_node = slice.get_node(name='tbf')\n",
    "router_ingress_iface = router_node.get_interface(network_name = \"link1\")\n",
    "router_ingress_name = router_ingress_iface.get_device_name()\n",
    "router_egress_iface  = router_node.get_interface(network_name = \"link3\")\n",
    "router_egress_name = router_egress_iface.get_device_name()"
   ],
   "id": "dc779f1d-a7ec-47aa-967f-fee657e3da6e"
  },
  {
   "cell_type": "code",
   "execution_count": null,
   "metadata": {},
   "outputs": [],
   "source": [
    "tx_node = slice.get_node(name=\"h1\")\n",
    "rx_node = slice.get_node(name=\"h3\")"
   ],
   "id": "a032d403-c5b9-40eb-aeca-f786937b8ad0"
  },
  {
   "cell_type": "code",
   "execution_count": null,
   "metadata": {},
   "outputs": [],
   "source": [
    "kernel = tx_node.execute(\"uname -r\")[0].strip()\n",
    "data_dir = kernel + \"_\" + exp_factors['cc'][0] + \"_\" + exp_factors['cc'][1]\n",
    "tx_node.execute(\"mkdir -p \" + data_dir)"
   ],
   "id": "83ee6d3c-79c9-4b0b-b9ca-650599db8022"
  },
  {
   "cell_type": "code",
   "execution_count": null,
   "metadata": {},
   "outputs": [],
   "source": [
    "import time # to allow resume\n",
    "for exp in exp_lists:\n",
    "\n",
    "    # check if we already ran this experiment\n",
    "    # (allow stop/resume)\n",
    "    file_out = data_dir + \"/%d_%d_%d_%d_%s.txt\" % (exp['bufcap'], exp['bandwidth'], exp['rtt'], exp['trial'], exp['cc'])\n",
    "    stdout, stderr = tx_node.execute(\"ls \" + file_out, quiet=True)\n",
    "\n",
    "    if len(stdout):\n",
    "        print(\"Already have \" + file_out + \", skipping\")\n",
    "\n",
    "    elif len(stderr):\n",
    "        print(\"Running experiment to generate \" + file_out)\n",
    "\n",
    "        tx_node.execute(\"sudo modprobe tcp_\" + exp['cc'])\n",
    "        rx_node.execute(\"sudo modprobe tcp_\" + exp['cc']) # iperf3 on ubuntu 18.04 requires this if using BBR and setting window size..\n",
    "\n",
    "        router_node.execute(\"sudo tc qdisc del dev \" + router_ingress_name + \" root\")\n",
    "        router_node.execute(\"sudo tc qdisc del dev \" + router_egress_name + \" root\")\n",
    "\n",
    "        # set up RTT\n",
    "        router_node.execute(\"sudo tc qdisc replace dev \" + router_ingress_name + \" root netem delay \" + str(exp['rtt']) + \"ms limit 10000\")\n",
    "        # set up rate limit, buffer limit\n",
    "        router_node.execute(\"sudo tc qdisc replace dev \" + router_egress_name + \" root handle 1: htb default 3\")\n",
    "        router_node.execute(\"sudo tc class add dev \" + router_egress_name + \" parent 1: classid 1:3 htb rate \" + str(exp['bandwidth']) + \"Mbit\")\n",
    "        router_node.execute(\"sudo tc qdisc add dev \" + router_egress_name + \" parent 1:3 bfifo limit \" + str(exp['bufcap']) + \"kb\")\n",
    "\n",
    "        time.sleep(10)\n",
    "        rx_node.execute(\"iperf3 -s -1 -D\")\n",
    "        tx_node.execute(\"iperf3 -V -c h3 -C \" + exp['cc'] + \" -t 60s -fk -w 100M --logfile \" + file_out, quiet=True)"
   ],
   "id": "a3423ee7-e180-444c-a845-273d859380c6"
  },
  {
   "cell_type": "markdown",
   "metadata": {},
   "source": [
    "### Analyze experiment results"
   ],
   "id": "7f17591b-9ef5-416d-8e30-4a80e537a900"
  },
  {
   "cell_type": "code",
   "execution_count": null,
   "metadata": {},
   "outputs": [],
   "source": [
    "!pip install seaborn"
   ],
   "id": "fd39cd82-6cbd-493a-acd5-016149b92b76"
  },
  {
   "cell_type": "code",
   "execution_count": null,
   "metadata": {},
   "outputs": [],
   "source": [
    "import pandas as pd\n",
    "from io import StringIO\n",
    "import seaborn as sns \n",
    "import matplotlib.pyplot as plt"
   ],
   "id": "d671970f-841f-46c1-a102-02f7a0ada411"
  },
  {
   "cell_type": "code",
   "execution_count": null,
   "metadata": {},
   "outputs": [],
   "source": [
    "tput = tx_node.execute(\"cd \" + data_dir + \"; grep 'Kbits/sec.*receiver' *.txt | awk -F'[_ .]' '{print $1\\\",\\\"$2\\\",\\\"$3\\\",\\\"$4\\\",\\\"$5\\\",\\\"$21}' \", quiet=True)"
   ],
   "id": "b336487e-1b3b-45bd-b736-615516758119"
  },
  {
   "cell_type": "code",
   "execution_count": null,
   "metadata": {},
   "outputs": [],
   "source": [
    "df_tput = pd.read_csv(StringIO(tput[0]), names = ['bufcap','bandwidth','rtt','trial','cc','goodput_'])\n",
    "# force it to drop bad runs\n",
    "df_tput['goodput_'] = pd.to_numeric(df_tput['goodput_'], errors='coerce').dropna()\n",
    "df_tput = df_tput.pivot_table(columns='cc', index=['bufcap','bandwidth','rtt'], values=['goodput_'], aggfunc='mean').reset_index() \n",
    "df_tput.columns = [''.join(col).strip() for col in df_tput.columns.values]\n",
    "df_tput = df_tput.assign(goodput_gain = 100*(df_tput['goodput_' + exp_factors['cc'][1]]-df_tput['goodput_' + exp_factors['cc'][0]])/df_tput['goodput_' + exp_factors['cc'][0]])"
   ],
   "id": "76fa985e-d14e-4cd9-837b-059ff3272123"
  },
  {
   "cell_type": "code",
   "execution_count": null,
   "metadata": {},
   "outputs": [],
   "source": [
    "dat_hm = df_tput[df_tput.bufcap==100].pivot(index=[\"bandwidth\"], columns=[\"rtt\"], values=\"goodput_gain\")\n",
    "sns.set(font_scale=0.8)\n",
    "ax = sns.heatmap(dat_hm, annot=True, fmt=\".1f\", cmap=\"RdBu_r\", center=0, vmin=-100, vmax=100)\n",
    "ax.invert_yaxis()\n",
    "ax.set_title(\"Goodput gain for \" + exp_factors['cc'][1].upper() + \" vs \" + exp_factors['cc'][0].upper() + \", 100KB buffer, \" + kernel + \" kernel\")\n",
    "plt.xlabel(\"RTT (in ms)\")\n",
    "plt.ylabel(\"Bandwidth (in Mbps)\")\n",
    "plt.show()"
   ],
   "id": "ae70b8da-7057-4d5f-9f93-f8126f4873e4"
  },
  {
   "cell_type": "code",
   "execution_count": null,
   "metadata": {},
   "outputs": [],
   "source": [
    "dat_hm = df_tput[df_tput.bufcap==10000].pivot(index=[\"bandwidth\"], columns=[\"rtt\"], values=\"goodput_gain\")\n",
    "sns.set(font_scale=0.8)\n",
    "ax = sns.heatmap(dat_hm, annot=True, fmt=\".1f\", cmap=\"RdBu_r\", center=0, vmin=-100, vmax=100)\n",
    "ax.invert_yaxis()\n",
    "ax.set_title(\"Goodput gain for \" + exp_factors['cc'][1].upper() + \" vs \" + exp_factors['cc'][0].upper() + \", 10MB buffer, \" + kernel + \" kernel\")\n",
    "plt.xlabel(\"RTT (in ms)\")\n",
    "plt.ylabel(\"Bandwidth (in Mbps)\")\n",
    "plt.show()"
   ],
   "id": "422ee810-e516-4998-8bc2-b6ef6b4e3a8c"
  },
  {
   "cell_type": "code",
   "execution_count": null,
   "metadata": {},
   "outputs": [],
   "source": [
    "df_tput = pd.read_csv(StringIO(tput[0]), names = ['bufcap','bandwidth','rtt','trial','cc','goodput_'])\n",
    "df_tput['goodput_'] = pd.to_numeric(df_tput['goodput_'], errors='coerce').dropna()\n",
    "df_tput = df_tput.pivot_table(columns='cc', index=['bufcap','bandwidth','rtt'], values=['goodput_'], aggfunc='mean').reset_index() \n",
    "df_tput.columns = [''.join(col).strip() for col in df_tput.columns.values]\n",
    "df_tput = df_tput.assign(util = 100*(df_tput['goodput_' + exp_factors['cc'][0] ]/(df_tput['bandwidth']*1000)))\n",
    "dat_hm = df_tput[df_tput.bufcap==100].pivot(index=[\"bandwidth\"], columns=[\"rtt\"], values=\"util\")\n",
    "sns.set(font_scale=0.8)\n",
    "ax = sns.heatmap(dat_hm, annot=True, fmt=\".0f\", cmap=\"RdBu_r\", center=50, vmin=0, vmax=100)\n",
    "ax.invert_yaxis()\n",
    "ax.set_title(\"Utilization for \" + exp_factors['cc'][0].upper() + \", 100KB buffer, \" + kernel + \" kernel\")\n",
    "plt.xlabel(\"RTT (in ms)\")\n",
    "plt.ylabel(\"Bandwidth (in Mbps)\")\n",
    "plt.show()"
   ],
   "id": "ad083870-6af6-40d3-a777-ff944ef07b35"
  },
  {
   "cell_type": "code",
   "execution_count": null,
   "metadata": {},
   "outputs": [],
   "source": [
    "df_tput = pd.read_csv(StringIO(tput[0]), names = ['bufcap','bandwidth','rtt','trial','cc','goodput_'])\n",
    "df_tput['goodput_'] = pd.to_numeric(df_tput['goodput_'], errors='coerce').dropna()\n",
    "df_tput = df_tput.pivot_table(columns='cc', index=['bufcap','bandwidth','rtt'], values=['goodput_'], aggfunc='mean').reset_index() \n",
    "df_tput.columns = [''.join(col).strip() for col in df_tput.columns.values]\n",
    "df_tput = df_tput.assign(util = 100*(df_tput['goodput_' + exp_factors['cc'][0] ]/(df_tput['bandwidth']*1000)))\n",
    "dat_hm = df_tput[df_tput.bufcap==10000].pivot(index=[\"bandwidth\"], columns=[\"rtt\"], values=\"util\")\n",
    "sns.set(font_scale=0.8)\n",
    "ax = sns.heatmap(dat_hm, annot=True, fmt=\".0f\", cmap=\"RdBu_r\", center=50, vmin=0, vmax=100)\n",
    "ax.invert_yaxis()\n",
    "ax.set_title(\"Utilization for \" + exp_factors['cc'][0].upper() + \", 10MB buffer, \" + kernel + \" kernel\")\n",
    "plt.xlabel(\"RTT (in ms)\")\n",
    "plt.ylabel(\"Bandwidth (in Mbps)\")\n",
    "plt.show()"
   ],
   "id": "56688225-2059-43fe-988e-467c494411a3"
  },
  {
   "cell_type": "code",
   "execution_count": null,
   "metadata": {},
   "outputs": [],
   "source": [
    "df_tput = pd.read_csv(StringIO(tput[0]), names = ['bufcap','bandwidth','rtt','trial','cc','goodput_'])\n",
    "df_tput['goodput_'] = pd.to_numeric(df_tput['goodput_'], errors='coerce').dropna()\n",
    "df_tput = df_tput.pivot_table(columns='cc', index=['bufcap','bandwidth','rtt'], values=['goodput_'], aggfunc='mean').reset_index() \n",
    "df_tput.columns = [''.join(col).strip() for col in df_tput.columns.values]\n",
    "df_tput = df_tput.assign(util = 100*(df_tput['goodput_' + exp_factors['cc'][1] ]/(df_tput['bandwidth']*1000)))\n",
    "dat_hm = df_tput[df_tput.bufcap==100].pivot(index=[\"bandwidth\"], columns=[\"rtt\"], values=\"util\")\n",
    "sns.set(font_scale=0.8)\n",
    "ax = sns.heatmap(dat_hm, annot=True, fmt=\".0f\", cmap=\"RdBu_r\", center=50, vmin=0, vmax=100)\n",
    "ax.invert_yaxis()\n",
    "ax.set_title(\"Utilization for \" + exp_factors['cc'][1].upper() + \", 100KB buffer, \" + kernel + \" kernel\")\n",
    "plt.xlabel(\"RTT (in ms)\")\n",
    "plt.ylabel(\"Bandwidth (in Mbps)\")\n",
    "plt.show()"
   ],
   "id": "d8fd2c5f-b743-4f02-a2c1-ed1b9d018afc"
  },
  {
   "cell_type": "code",
   "execution_count": null,
   "metadata": {},
   "outputs": [],
   "source": [
    "df_tput = pd.read_csv(StringIO(tput[0]), names = ['bufcap','bandwidth','rtt','trial','cc','goodput_'])\n",
    "df_tput['goodput_'] = pd.to_numeric(df_tput['goodput_'], errors='coerce').dropna()\n",
    "df_tput = df_tput.pivot_table(columns='cc', index=['bufcap','bandwidth','rtt'], values=['goodput_'], aggfunc='mean').reset_index() \n",
    "df_tput.columns = [''.join(col).strip() for col in df_tput.columns.values]\n",
    "df_tput = df_tput.assign(util = 100*(df_tput['goodput_' + exp_factors['cc'][1] ]/(df_tput['bandwidth']*1000)))\n",
    "dat_hm = df_tput[df_tput.bufcap==10000].pivot(index=[\"bandwidth\"], columns=[\"rtt\"], values=\"util\")\n",
    "sns.set(font_scale=0.8)\n",
    "ax = sns.heatmap(dat_hm, annot=True, fmt=\".0f\", cmap=\"RdBu_r\", center=50, vmin=0, vmax=100)\n",
    "ax.invert_yaxis()\n",
    "ax.set_title(\"Utilization for \" + exp_factors['cc'][1].upper() + \", 10MB buffer, \" + kernel + \" kernel\")\n",
    "plt.xlabel(\"RTT (in ms)\")\n",
    "plt.ylabel(\"Bandwidth (in Mbps)\")\n",
    "plt.show()"
   ],
   "id": "ea0fb8d8-6ce9-47c9-8e16-fd9689b5cbcd"
  },
  {
   "cell_type": "code",
   "execution_count": null,
   "metadata": {},
   "outputs": [],
   "source": [
    "retx = tx_node.execute(\"cd \" + data_dir + \"; grep 'Kbits/sec.*sender' *.txt | awk -F'[_ .]' '{print $1\\\",\\\"$2\\\",\\\"$3\\\",\\\"$4\\\",\\\"$5\\\",\\\"$24}' \", quiet=True)"
   ],
   "id": "8fc82c7b-c23d-46a9-89c7-be198a5c0f2d"
  },
  {
   "cell_type": "code",
   "execution_count": null,
   "metadata": {},
   "outputs": [],
   "source": [
    "df_retx = pd.read_csv(StringIO(retx[0]), names = ['bufcap','bandwidth','rtt','trial','cc','retx_'])\n",
    "df_retx = df_retx.fillna(0)\n",
    "df_retx = df_retx.pivot_table(columns='cc', index=['bufcap','bandwidth','rtt'], values=['retx_'], aggfunc='mean').reset_index() \n",
    "df_retx.columns = [''.join(col).strip() for col in df_retx.columns.values]"
   ],
   "id": "685f0e2c-dd58-4e49-9fc8-721742d1ec53"
  },
  {
   "cell_type": "code",
   "execution_count": null,
   "metadata": {},
   "outputs": [],
   "source": [
    "dat_hm = df_retx[df_retx.bufcap==100].pivot(index=[\"bandwidth\"], columns=[\"rtt\"], values=\"retx_\"+exp_factors['cc'][0] )\n",
    "sns.set(font_scale=0.8)\n",
    "ax = sns.heatmap(dat_hm, annot=True, fmt=\".0f\", cmap=\"RdBu_r\", center=0)\n",
    "ax.invert_yaxis()\n",
    "ax.set_title(\"Retransmissions for \" + exp_factors['cc'][0].upper() + \", 100kB buffer, \" + kernel + \" kernel\")\n",
    "plt.xlabel(\"RTT (in ms)\")\n",
    "plt.ylabel(\"Bandwidth (in Mbps)\")\n",
    "plt.show()"
   ],
   "id": "cd85d43d-960d-4e03-ab90-35305accd984"
  },
  {
   "cell_type": "code",
   "execution_count": null,
   "metadata": {},
   "outputs": [],
   "source": [
    "dat_hm = df_retx[df_retx.bufcap==100].pivot(index=[\"bandwidth\"], columns=[\"rtt\"], values=\"retx_\"+exp_factors['cc'][1] )\n",
    "sns.set(font_scale=0.8)\n",
    "ax = sns.heatmap(dat_hm, annot=True, fmt=\".0f\", cmap=\"RdBu_r\", center=0)\n",
    "ax.invert_yaxis()\n",
    "ax.set_title(\"Retransmissions for \" + exp_factors['cc'][1].upper() + \", 100kB buffer, \" + kernel + \" kernel\")\n",
    "plt.xlabel(\"RTT (in ms)\")\n",
    "plt.ylabel(\"Bandwidth (in Mbps)\")\n",
    "plt.show()"
   ],
   "id": "84236439-938d-4378-91ca-7cd7e7f34cee"
  },
  {
   "cell_type": "markdown",
   "metadata": {},
   "source": [
    "### Transfer experiment data"
   ],
   "id": "b5429f0d-0d39-44b1-9368-204f6a4502d2"
  },
  {
   "cell_type": "code",
   "execution_count": null,
   "metadata": {},
   "outputs": [],
   "source": [
    "tx_node.execute('tar -czf ' + data_dir + '.tgz ' + data_dir)"
   ],
   "id": "b7771818-99d0-45f3-900d-167209897f76"
  },
  {
   "cell_type": "code",
   "execution_count": null,
   "metadata": {},
   "outputs": [],
   "source": [
    "tx_node.download_file(data_dir + '.tgz', '/home/ubuntu/' + data_dir + '.tgz')"
   ],
   "id": "c9926da4-c0f7-444c-829c-f4597572015f"
  },
  {
   "cell_type": "markdown",
   "metadata": {},
   "source": [
    "### Delete your slice"
   ],
   "id": "6bf7c044-6c65-424f-947a-af69c9730bee"
  },
  {
   "cell_type": "markdown",
   "metadata": {},
   "source": [
    "When you finish your experiment, you should delete your slice! The following cells deletes all the resources in your slice, freeing them for other experimenters."
   ],
   "id": "0551b5e6-a193-4f94-ad6b-8da9a95d843e"
  },
  {
   "cell_type": "code",
   "execution_count": null,
   "metadata": {},
   "outputs": [],
   "source": [
    "slice = fablib.get_slice(name=slice_name)\n",
    "fablib.delete_slice(slice_name)"
   ],
   "id": "ceb4e3b8-7aab-431c-b63e-3cd187a7e537"
  },
  {
   "cell_type": "code",
   "execution_count": null,
   "metadata": {},
   "outputs": [],
   "source": [
    "# slice should end up in \"Dead\" state\n",
    "# re-run this cell until you see it in \"Dead\" state\n",
    "slice.update()\n",
    "_ = slice.show()"
   ],
   "id": "1ffdfff0-d5f7-43b5-be85-f8d17d323cc3"
  }
 ],
 "nbformat": 4,
 "nbformat_minor": 5,
 "metadata": {}
}
