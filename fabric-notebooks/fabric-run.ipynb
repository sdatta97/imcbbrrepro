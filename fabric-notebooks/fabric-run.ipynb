{
 "cells": [
  {
   "cell_type": "markdown",
   "metadata": {},
   "source": [
    "## Replication: When to use and when not to use BBR: An empirical analysis and evaluation study"
   ],
   "id": "6f712e32-4e77-4a32-9384-64b2551ecbfd"
  },
  {
   "cell_type": "markdown",
   "metadata": {},
   "source": [
    "### Configure environment"
   ],
   "id": "a073c19b-ca7a-4125-85fd-9acfab7e8983"
  },
  {
   "cell_type": "code",
   "execution_count": null,
   "metadata": {},
   "outputs": [],
   "source": [
    "from fabrictestbed_extensions.fablib.fablib import FablibManager as fablib_manager\n",
    "fablib = fablib_manager() \n",
    "conf = fablib.show_config()"
   ],
   "id": "51cd7fd7-d8a3-4ee8-a2eb-8cf0a5fa3a58"
  },
  {
   "cell_type": "markdown",
   "metadata": {},
   "source": [
    "### Define configuration for this experiment"
   ],
   "id": "084eed32-20ce-4c77-8325-aab029684adf"
  },
  {
   "cell_type": "code",
   "execution_count": null,
   "metadata": {},
   "outputs": [],
   "source": [
    "slice_name=\"re-when-to-use-bbr-\" + fablib.get_bastion_username()\n",
    "\n",
    "# use default_ubuntu_22 for 5.15 kernel, default_ubuntu_18 for 4.15 kernel, default_ubuntu_20 for BBRv2\n",
    "image = 'default_ubuntu_22' \n",
    "\n",
    "node_conf = [\n",
    " {'name': \"h1\",  'cores': 4, 'ram': 16, 'disk': 500, 'image': image, 'packages': ['iperf3']}, \n",
    " {'name': \"h2\",  'cores': 4, 'ram': 16, 'disk': 10, 'image': image, 'packages': ['iperf3']}, \n",
    " {'name': \"h3\",  'cores': 4, 'ram': 16, 'disk': 10, 'image': image, 'packages': ['iperf3']}, \n",
    " {'name': \"tbf\", 'cores': 4, 'ram': 16, 'disk': 10, 'image': image, 'packages': []} \n",
    "]\n",
    "net_conf = [\n",
    " {\"name\": \"link1\", \"subnet\": \"10.10.1.0/24\", \"nodes\": [{\"name\": \"tbf\",   \"addr\": \"10.10.1.10\"}, {\"name\": \"h1\", \"addr\": \"10.10.1.1\"}]},\n",
    " {\"name\": \"link2\", \"subnet\": \"10.10.2.0/24\", \"nodes\": [{\"name\": \"tbf\",   \"addr\": \"10.10.2.10\"}, {\"name\": \"h2\", \"addr\": \"10.10.2.1\"}]},\n",
    " {\"name\": \"link3\", \"subnet\": \"10.10.3.0/24\", \"nodes\": [{\"name\": \"tbf\",   \"addr\": \"10.10.3.10\"}, {\"name\": \"h3\", \"addr\": \"10.10.3.1\"}]}\n",
    "]\n",
    "route_conf = [\n",
    " {\"addr\": \"10.10.3.0/24\", \"gw\": \"10.10.1.10\", \"nodes\": [\"h1\"]}, \n",
    " {\"addr\": \"10.10.3.0/24\", \"gw\": \"10.10.2.10\", \"nodes\": [\"h2\"]},  \n",
    " {\"addr\": \"10.10.1.0/24\", \"gw\": \"10.10.3.10\", \"nodes\": [\"h3\"]},  \n",
    " {\"addr\": \"10.10.2.0/24\", \"gw\": \"10.10.3.10\", \"nodes\": [\"h3\"]}\n",
    "]\n",
    "exp_conf = {'cores': sum([ n['cores'] for n in node_conf]), 'nic': sum([len(n['nodes']) for n in net_conf]) }"
   ],
   "id": "209a326e-5193-49db-8324-afd091a62822"
  },
  {
   "cell_type": "markdown",
   "metadata": {},
   "source": [
    "### Reserve resources\n",
    "\n",
    "Now, we are ready to reserve resources!"
   ],
   "id": "34b40ec5-8366-4e51-9177-9dc1543ed7ef"
  },
  {
   "cell_type": "markdown",
   "metadata": {},
   "source": [
    "First, make sure you don’t already have a slice with this name:"
   ],
   "id": "9af43475-114d-45f5-a0d7-8b81c44d8f7b"
  },
  {
   "cell_type": "code",
   "execution_count": null,
   "metadata": {},
   "outputs": [],
   "source": [
    "try:\n",
    "    slice = fablib.get_slice(slice_name)\n",
    "    print(\"You already have a slice by this name!\")\n",
    "    print(\"If you previously reserved resources, skip to the 'log in to resources' section.\")\n",
    "except:\n",
    "    print(\"You don't have a slice named %s yet.\" % slice_name)\n",
    "    print(\"Continue to the next step to make one.\")\n",
    "    slice = fablib.new_slice(name=slice_name)"
   ],
   "id": "68aba75f-efe1-4490-8354-78db2137b20b"
  },
  {
   "cell_type": "markdown",
   "metadata": {},
   "source": [
    "We will select a random site that has sufficient resources for our experiment:"
   ],
   "id": "cf4d3579-97f7-42ef-9224-90aeaca14b8e"
  },
  {
   "cell_type": "code",
   "execution_count": null,
   "metadata": {},
   "outputs": [],
   "source": [
    "while True:\n",
    "    site_name = fablib.get_random_site()\n",
    "    if ( (fablib.resources.get_core_available(site_name) > 1.2*exp_conf['cores']) and\n",
    "        (fablib.resources.get_component_available(site_name, 'SharedNIC-ConnectX-6') > 1.2**exp_conf['nic']) ):\n",
    "        break\n",
    "\n",
    "fablib.show_site(site_name)"
   ],
   "id": "6cab86c3-c5e2-426c-a987-a7264f036ddf"
  },
  {
   "cell_type": "markdown",
   "metadata": {},
   "source": [
    "Then we will add hosts and network segments:"
   ],
   "id": "cb433432-6989-4ad0-b4d1-1c422c33f3ef"
  },
  {
   "cell_type": "code",
   "execution_count": null,
   "metadata": {},
   "outputs": [],
   "source": [
    "# this cell sets up the nodes\n",
    "for n in node_conf:\n",
    "    slice.add_node(name=n['name'], site=site_name, \n",
    "                   cores=n['cores'], \n",
    "                   ram=n['ram'], \n",
    "                   disk=n['disk'], \n",
    "                   image=n['image'])"
   ],
   "id": "25b1e294-6324-4889-935a-3027b668728e"
  },
  {
   "cell_type": "code",
   "execution_count": null,
   "metadata": {},
   "outputs": [],
   "source": [
    "# this cell sets up the network segments\n",
    "for n in net_conf:\n",
    "    ifaces = [slice.get_node(node[\"name\"]).add_component(model=\"NIC_Basic\", \n",
    "                                                 name=n[\"name\"]).get_interfaces()[0] for node in n['nodes'] ]\n",
    "    slice.add_l2network(name=n[\"name\"], type='L2Bridge', interfaces=ifaces)"
   ],
   "id": "ff89585f-f45d-4d80-bbbe-8cb17b4be195"
  },
  {
   "cell_type": "markdown",
   "metadata": {},
   "source": [
    "The following cell submits our request to the FABRIC site. The output of this cell will update automatically as the status of our request changes.\n",
    "\n",
    "-   While it is being prepared, the “State” of the slice will appear as “Configuring”.\n",
    "-   When it is ready, the “State” of the slice will change to “StableOK”.\n",
    "\n",
    "You may prefer to walk away and come back in a few minutes (for simple slices) or a few tens of minutes (for more complicated slices with many resources)."
   ],
   "id": "0746b4e5-f0b5-46ff-a90d-c2bfc363224b"
  },
  {
   "cell_type": "code",
   "execution_count": null,
   "metadata": {},
   "outputs": [],
   "source": [
    "slice.submit()"
   ],
   "id": "3deb98e7-f4c5-4571-920f-1933365b77e0"
  },
  {
   "cell_type": "code",
   "execution_count": null,
   "metadata": {},
   "outputs": [],
   "source": [
    "slice.get_state()\n",
    "slice.wait_ssh(progress=True)"
   ],
   "id": "9b5dd1ef-ed8d-4009-8887-d144830150cd"
  },
  {
   "cell_type": "markdown",
   "metadata": {},
   "source": [
    "### Configure resources\n",
    "\n",
    "Next, we will configure the resources so they are ready to use."
   ],
   "id": "5a10feff-2ffc-427a-895c-5a4f5d2ed88a"
  },
  {
   "cell_type": "code",
   "execution_count": null,
   "metadata": {},
   "outputs": [],
   "source": [
    "slice = fablib.get_slice(name=slice_name)"
   ],
   "id": "3829d6b9-5932-4e2c-90ea-5e3bb38855d8"
  },
  {
   "cell_type": "code",
   "execution_count": null,
   "metadata": {},
   "outputs": [],
   "source": [
    "# install packages\n",
    "# this will take a while and will run in background while you do other steps\n",
    "for n in node_conf:\n",
    "    if len(n['packages']):\n",
    "        node = slice.get_node(n['name'])\n",
    "        pkg = \" \".join(n['packages'])\n",
    "        node.execute_thread(\"sudo apt update; sudo apt -y install %s\" % pkg)"
   ],
   "id": "ee7243a4-cd0c-4f05-b74f-d71e0716f030"
  },
  {
   "cell_type": "code",
   "execution_count": null,
   "metadata": {},
   "outputs": [],
   "source": [
    "# bring interfaces up and either assign an address (if there is one) or flush address\n",
    "from ipaddress import ip_address, IPv4Address, IPv4Network\n",
    "\n",
    "for net in net_conf:\n",
    "    for n in net['nodes']:\n",
    "        if_name = n['name'] + '-' + net['name'] + '-p1'\n",
    "        iface = slice.get_interface(if_name)\n",
    "        iface.ip_link_up()\n",
    "        if n['addr']:\n",
    "            iface.ip_addr_add(addr=n['addr'], subnet=IPv4Network(net['subnet']))\n",
    "        else:\n",
    "            iface.get_node().execute(\"sudo ip addr flush dev %s\"  % iface.get_device_name())"
   ],
   "id": "57d82b3c-b93d-4f52-b584-7d0614040aef"
  },
  {
   "cell_type": "code",
   "execution_count": null,
   "metadata": {},
   "outputs": [],
   "source": [
    "# prepare a \"hosts\" file that has names and addresses of every node\n",
    "hosts_txt = [ \"%s\\t%s\" % ( n['addr'], n['name'] ) for net in net_conf  for n in net['nodes'] if type(n) is dict and n['addr']]\n",
    "for n in slice.get_nodes():\n",
    "    for h in hosts_txt:\n",
    "        n.execute(\"echo %s | sudo tee -a /etc/hosts\" % h)"
   ],
   "id": "9fe75cd6-573a-48ce-8eb2-00639720d666"
  },
  {
   "cell_type": "code",
   "execution_count": null,
   "metadata": {},
   "outputs": [],
   "source": [
    "# enable IPv4 forwarding on all nodes\n",
    "for n in slice.get_nodes():\n",
    "    n.execute(\"sudo sysctl -w net.ipv4.ip_forward=1\")"
   ],
   "id": "a6c2dd3e-0c3f-43fc-a50a-bfa521b746c8"
  },
  {
   "cell_type": "code",
   "execution_count": null,
   "metadata": {},
   "outputs": [],
   "source": [
    "# set up static routes\n",
    "for rt in route_conf:\n",
    "    for n in rt['nodes']:\n",
    "        slice.get_node(name=n).ip_route_add(subnet=IPv4Network(rt['addr']), gateway=rt['gw'])"
   ],
   "id": "2652bef0-9267-4279-8aa9-a3d5a0db9514"
  },
  {
   "cell_type": "markdown",
   "metadata": {},
   "source": [
    "### Extra configuration for this experiment"
   ],
   "id": "6c2f8f5b-a288-4c80-ba54-ac5e04f2eeaf"
  },
  {
   "cell_type": "code",
   "execution_count": null,
   "metadata": {},
   "outputs": [],
   "source": [
    "# set socket read and write buffer on all endpoints to larger value\n",
    "for node in slice.get_nodes():\n",
    "    node.execute(\"sudo sysctl -w net.core.rmem_default=2147483647\")\n",
    "    node.execute(\"sudo sysctl -w net.core.wmem_default=2147483647\")\n",
    "    node.execute(\"sudo sysctl -w net.core.rmem_max=2147483647\")\n",
    "    node.execute(\"sudo sysctl -w net.core.wmem_max=2147483647\")"
   ],
   "id": "736cd3f7-ce73-4a0b-b7b1-fbea903239e4"
  },
  {
   "cell_type": "markdown",
   "metadata": {},
   "source": [
    "### Validate base network\n",
    "\n",
    "Before we run any underlying experiment, we should check the “base” network - before adding any emulated delay or rate limiting - and make sure that it will not be a limiting factor in the experiment."
   ],
   "id": "a5c780c5-85b7-4279-ad40-971359f00b4f"
  },
  {
   "cell_type": "code",
   "execution_count": null,
   "metadata": {},
   "outputs": [],
   "source": [
    "# check base delay\n",
    "slice.get_node(\"h1\").execute(\"ping -c 5 h3\")"
   ],
   "id": "709e6620-c864-4c09-b90b-a6872b52d9c5"
  },
  {
   "cell_type": "code",
   "execution_count": null,
   "metadata": {},
   "outputs": [],
   "source": [
    "# check base capacity (by sending 10 parallel flows, look at their sum throughput)\n",
    "import time\n",
    "slice.get_node(\"h3\").execute(\"iperf3 -s -1 -D\")\n",
    "time.sleep(5)\n",
    "slice.get_node(\"h1\").execute(\"iperf3 -t 30 -i 10 -P 10 -c h3\")"
   ],
   "id": "11ca1c69-53fc-4b34-a6cf-d35fa5e4835b"
  },
  {
   "cell_type": "code",
   "execution_count": null,
   "metadata": {},
   "outputs": [],
   "source": [
    "# also check Linux kernel version on sender\n",
    "slice.get_node(\"h1\").execute(\"uname -a\")"
   ],
   "id": "2fe68583-77c6-46ec-9224-055a8500fb0b"
  },
  {
   "cell_type": "markdown",
   "metadata": {},
   "source": [
    "#### Draw the network topology"
   ],
   "id": "ddd0ea3f-959a-4f8c-80ad-9044303e26d6"
  },
  {
   "cell_type": "markdown",
   "metadata": {},
   "source": [
    "The following cell will draw the network topology, for your reference. The interface name and addresses of each experiment interface will be shown on the drawing."
   ],
   "id": "f412144a-439a-4784-9cfe-fcbfc0096ed9"
  },
  {
   "cell_type": "code",
   "execution_count": null,
   "metadata": {},
   "outputs": [],
   "source": [
    "l2_nets = [(n.get_name(), {'color': 'lavender'}) for n in slice.get_l2networks() ]\n",
    "l3_nets = [(n.get_name(), {'color': 'pink'}) for n in slice.get_l3networks() ]\n",
    "hosts   =   [(n.get_name(), {'color': 'lightblue'}) for n in slice.get_nodes()]\n",
    "nodes = l2_nets + l3_nets + hosts\n",
    "ifaces = [iface.toDict() for iface in slice.get_interfaces()]\n",
    "edges = [(iface['network'], iface['node'], \n",
    "          {'label': iface['physical_dev'] + '\\n' + iface['ip_addr'] + '\\n' + iface['mac']}) for iface in ifaces]"
   ],
   "id": "bf3a8127-0cc4-4417-94de-c1d6856468e2"
  },
  {
   "cell_type": "code",
   "execution_count": null,
   "metadata": {},
   "outputs": [],
   "source": [
    "import networkx as nx\n",
    "import matplotlib.pyplot as plt\n",
    "plt.figure(figsize=(len(nodes),len(nodes)))\n",
    "G = nx.Graph()\n",
    "G.add_nodes_from(nodes)\n",
    "G.add_edges_from(edges)\n",
    "pos = nx.spring_layout(G)\n",
    "nx.draw(G, pos, node_shape='s',  \n",
    "        node_color=[n[1]['color'] for n in nodes], \n",
    "        node_size=[len(n[0])*400 for n in nodes],  \n",
    "        with_labels=True);\n",
    "nx.draw_networkx_edge_labels(G,pos,\n",
    "                             edge_labels=nx.get_edge_attributes(G,'label'),\n",
    "                             font_color='gray',  font_size=8, rotate=False);"
   ],
   "id": "5271348f-352f-4100-8d32-66a0f0e446ce"
  },
  {
   "cell_type": "markdown",
   "metadata": {},
   "source": [
    "### Log into resources"
   ],
   "id": "4893e085-a03d-4bad-9db7-5af72ce88aa3"
  },
  {
   "cell_type": "markdown",
   "metadata": {},
   "source": [
    "Now, we are finally ready to log in to our resources over SSH! Run the following cells, and observe the table output - you will see an SSH command for each of the resources in your topology."
   ],
   "id": "dea66b88-2074-441f-8f8f-7d999e3e0b9b"
  },
  {
   "cell_type": "code",
   "execution_count": null,
   "metadata": {},
   "outputs": [],
   "source": [
    "import pandas as pd\n",
    "pd.set_option('display.max_colwidth', None)\n",
    "slice_info = [{'Name': n.get_name(), 'SSH command': n.get_ssh_command()} for n in slice.get_nodes()]\n",
    "pd.DataFrame(slice_info).set_index('Name')"
   ],
   "id": "c82029d3-4bca-4bfe-b173-535ae76483ae"
  },
  {
   "cell_type": "markdown",
   "metadata": {},
   "source": [
    "Now, you can open an SSH session on any of the resources as follows:\n",
    "\n",
    "-   in Jupyter, from the menu bar, use File \\> New \\> Terminal to open a new terminal.\n",
    "-   copy an SSH command from the table, and paste it into the terminal. (Note that each SSH command is a single line, even if the display wraps the text to a second line! When you copy and paste it, paste it all together.)\n",
    "\n",
    "You can repeat this process (open several terminals) to start a session on each resource. Each terminal session will have a tab in the Jupyter environment, so that you can easily switch between them."
   ],
   "id": "2064c23e-c9da-4505-acfa-16243ccbd77d"
  },
  {
   "cell_type": "markdown",
   "metadata": {},
   "source": [
    "### Execute experiment"
   ],
   "id": "02b76b96-536d-4505-9394-10574e95106c"
  },
  {
   "cell_type": "code",
   "execution_count": null,
   "metadata": {},
   "outputs": [],
   "source": [
    "# get name of router interface that is 'toward' h1 - apply delay here\n",
    "# get name of router interface that is 'toward' h3 - apply rate limiting and buffer size limit here\n",
    "router_node = slice.get_node(name='tbf')\n",
    "router_ingress_iface = router_node.get_interface(network_name = \"link1\")\n",
    "router_ingress_name = router_ingress_iface.get_device_name()\n",
    "router_egress_iface  = router_node.get_interface(network_name = \"link3\")\n",
    "router_egress_name = router_egress_iface.get_device_name()"
   ],
   "id": "fc2344b5-e668-4eca-af77-f7594836191e"
  },
  {
   "cell_type": "code",
   "execution_count": null,
   "metadata": {},
   "outputs": [],
   "source": [
    "tx_node = slice.get_node(name=\"h1\")\n",
    "rx_node = slice.get_node(name=\"h3\")"
   ],
   "id": "61a91698-ac09-4933-929a-150669896bf7"
  },
  {
   "cell_type": "code",
   "execution_count": null,
   "metadata": {},
   "outputs": [],
   "source": [
    "# congestion control algorithms to compare\n",
    "cc_variants = [\"cubic\", \"bbr\"]"
   ],
   "id": "f7e98d07-5e84-458f-83c8-880900c59f56"
  },
  {
   "cell_type": "code",
   "execution_count": null,
   "metadata": {},
   "outputs": [],
   "source": [
    "# make sure they are loaded before you start!\n",
    "for cc in cc_variants:\n",
    "    tx_node.execute(\"sudo modprobe tcp_\" + cc)"
   ],
   "id": "e74dd320-afb2-42bc-8507-5cf680b79756"
  },
  {
   "cell_type": "code",
   "execution_count": null,
   "metadata": {},
   "outputs": [],
   "source": [
    "kernel = tx_node.execute(\"uname -r\")[0].strip()\n",
    "data_dir = kernel + \"_\" + cc_variants[0] + \"_\" + cc_variants[1]\n",
    "tx_node.execute(\"mkdir -p \" + data_dir)"
   ],
   "id": "37d6d5da-f5e0-4d3c-9caa-3968aad07e65"
  },
  {
   "cell_type": "code",
   "execution_count": null,
   "metadata": {},
   "outputs": [],
   "source": [
    "for bufcap in [100, 10000]:\n",
    "    for bandwidth in [10, 20, 50, 100, 250, 500, 750, 1000]: \n",
    "        for rtt in [5, 10, 25, 50, 75, 100, 150, 200]: \n",
    "            \n",
    "            print(\"Now running: buffer %d, bandwidth %d, RTT %d\" % (bufcap, bandwidth, rtt))\n",
    "            \n",
    "            router_node.execute(\"sudo tc qdisc del dev \" + router_ingress_name + \" root\")\n",
    "            router_node.execute(\"sudo tc qdisc del dev \" + router_egress_name + \" root\")\n",
    "\n",
    "\n",
    "            # set up RTT\n",
    "            router_node.execute(\"sudo tc qdisc replace dev \" + router_ingress_name + \" root netem delay \" + str(rtt) + \"ms\")\n",
    "            # set up rate limit, buffer limit\n",
    "            router_node.execute(\"sudo tc qdisc replace dev \" + router_egress_name + \" root handle 1: htb default 3\")\n",
    "            router_node.execute(\"sudo tc class add dev \" + router_egress_name + \" parent 1: classid 1:3 htb rate \" + str(bandwidth) + \"Mbit\")\n",
    "            router_node.execute(\"sudo tc qdisc add dev \" + router_egress_name + \" parent 1:3 bfifo limit \" + str(bufcap) + \"kb\")\n",
    "\n",
    "            # quick validation\n",
    "            tx_node.execute(\"ping -c 5 h3\")\n",
    "            time.sleep(10)\n",
    "            rx_node.execute(\"iperf3 -s -1 -D\")\n",
    "            tx_node.execute(\"iperf3 -t 30 -i 30 -P 10 -c h3\")\n",
    "\n",
    "            for trial_idx in [1, 2, 3, 4, 5]:\n",
    "\n",
    "                file_prefix = data_dir + \"/%d_%d_%d_%d\" % (bufcap, bandwidth, rtt, trial_idx)\n",
    "\n",
    "                for cc in cc_variants:\n",
    "                    time.sleep(10)\n",
    "                    rx_node.execute(\"iperf3 -s -1 -D\")\n",
    "                    tx_node.execute(\"iperf3 -V -c h3 -C \" + cc + \" -t 60s -fk --logfile \" + file_prefix + \"_\" + cc + \".txt\", quiet=True)\n"
   ],
   "id": "64cb5da7-6da7-4fdd-9e44-5f732d248530"
  },
  {
   "cell_type": "markdown",
   "metadata": {},
   "source": [
    "### Analyze experiment results"
   ],
   "id": "0ba25e9d-8b2e-4d73-984c-2438b3d15b0c"
  },
  {
   "cell_type": "code",
   "execution_count": null,
   "metadata": {},
   "outputs": [],
   "source": [],
   "id": "23770aa9-943c-4961-8f64-fbc07bf060d9"
  },
  {
   "cell_type": "markdown",
   "metadata": {},
   "source": [
    "### Delete your slice"
   ],
   "id": "867ff3df-356b-4982-b791-71c5daa573ee"
  },
  {
   "cell_type": "markdown",
   "metadata": {},
   "source": [
    "When you finish your experiment, you should delete your slice! The following cells deletes all the resources in your slice, freeing them for other experimenters."
   ],
   "id": "69637778-22f9-49b7-a181-6ecda92e8f05"
  },
  {
   "cell_type": "code",
   "execution_count": null,
   "metadata": {},
   "outputs": [],
   "source": [
    "slice = fablib.get_slice(name=slice_name)\n",
    "fablib.delete_slice(slice_name)"
   ],
   "id": "aabd551a-2d3c-49ec-ad3e-aa667b93984d"
  },
  {
   "cell_type": "code",
   "execution_count": null,
   "metadata": {},
   "outputs": [],
   "source": [
    "# slice should end up in \"Dead\" state\n",
    "# re-run this cell until you see it in \"Dead\" state\n",
    "slice.update()\n",
    "_ = slice.show()"
   ],
   "id": "ecf817a9-ac1f-4ffa-9e42-d47f0204da90"
  }
 ],
 "nbformat": 4,
 "nbformat_minor": 5,
 "metadata": {}
}
